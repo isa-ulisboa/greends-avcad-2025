{
 "cells": [
  {
   "cell_type": "markdown",
   "metadata": {},
   "source": [
    "# Analysis and Visualization of Complex Agro-Environmental Data\n",
    "---\n",
    "## Outlier analysis\n",
    "\n",
    "This refers to the analytical and graphical processes of identifying and examining data observations that in some way significantly differ from the rest of the dataset. This can be a deviation in terms of values that go much beyond the majority of values of a given variable (univariate outlier) or a combination of values that differ from a given pattern or trend in data (multivariate outlier).\n",
    "\n",
    "\n",
    "Import modules:"
   ]
  },
  {
   "cell_type": "code",
   "execution_count": null,
   "metadata": {},
   "outputs": [],
   "source": [
    "import numpy as np\n",
    "import pandas as pd\n",
    "import scipy.stats as sts\n",
    "import seaborn as sns\n",
    "import matplotlib.pyplot as plt\n",
    "import statistics as stat"
   ]
  },
  {
   "cell_type": "markdown",
   "metadata": {},
   "source": [
    "### 1. Example of the impact of outliers on descriptive statistics\n",
    "\n",
    "In the following simple example, let's check the impact of including a single oulier in a dataset on the most common univariate descriptive statistics."
   ]
  },
  {
   "cell_type": "code",
   "execution_count": null,
   "metadata": {},
   "outputs": [],
   "source": [
    "# no outlier\n",
    "v1 = [1,3,5,2,5,6,8,3,6] # list\n",
    "v1 = pd.Series(v1) # pandas series\n",
    "medianv1 = pd.Series({'median': v1.median()})\n",
    "statv1 = v1.describe()\n",
    "table1 = pd.concat([medianv1, statv1])\n",
    "\n",
    "# add outlier (ex. 200)\n",
    "v2 = [1,3,5,2,5,6,8,3,6,200] # list with outlier\n",
    "v2 = pd.Series(v2) # pandas series\n",
    "medianv2 = pd.Series({'median': v2.median()}) # compute median\n",
    "statv2 = v2.describe() # compute summary statistics table\n",
    "table2 = pd.concat([medianv2, statv2]) # concatenate series\n",
    "\n",
    "pd.DataFrame({'No outlier': table1, 'With outlier': table2}) # combine resulting series into a single data frame."
   ]
  },
  {
   "cell_type": "markdown",
   "metadata": {},
   "source": [
    "As you can see, the mean and standard deviation changed drastically after adding the outlier. The median and percentiles did not change (in this example). In fact, these location measures are less sensitive to the presence of outliers."
   ]
  },
  {
   "cell_type": "markdown",
   "metadata": {},
   "source": [
    "### 2. Detection of outliers\n",
    "\n",
    "Let's have a look at the dataset `winequality_red.csv` available [here](https://www.kaggle.com/datasets/sgus1318/winedata?resource=download) with 12 variables (columns) related with wine quality characteristics. \n"
   ]
  },
  {
   "cell_type": "code",
   "execution_count": null,
   "metadata": {},
   "outputs": [],
   "source": [
    "df_wine = pd.read_csv('winequality_red.csv')\n",
    "df_wine.head()"
   ]
  },
  {
   "cell_type": "code",
   "execution_count": null,
   "metadata": {},
   "outputs": [],
   "source": [
    "# Check the size of the dataset\n",
    "len(df_wine)"
   ]
  },
  {
   "cell_type": "markdown",
   "metadata": {},
   "source": [
    "#### 2.1 Tukey's Interquartile Range method\n",
    "\n",
    "Let's first run a univariate scatterplot of the variable 'pH' as well as a boxplot:"
   ]
  },
  {
   "cell_type": "code",
   "execution_count": null,
   "metadata": {},
   "outputs": [],
   "source": [
    "g = sns.JointGrid(data=df_wine, x=df_wine.index, y='pH')\n",
    "g.plot(sns.scatterplot, sns.boxplot)\n",
    "g.ax_marg_x.set_axis_off() # removes the marginal x-axis\n",
    "g.ax_marg_y.set_axis_off() # removes the marginal y-axis\n",
    "g.ax_marg_x.remove() # removes the marginal x boxplot (index of each observation)\n",
    "g.set_axis_labels(xlabel='Observation index', ylabel='pH')\n",
    "g.figure.set_figwidth(8) # to define the width to get a non-square figure with JointGrid \n",
    "g.figure.set_figheight(4) # to define the height to get a non-square figure with JointGrid \n",
    "plt.show()"
   ]
  },
  {
   "cell_type": "markdown",
   "metadata": {},
   "source": [
    "This plot shows several outliers in the variable 'pH'. Boxplots are based on the concept of Interquartile Range (IQR) that is used in statistics to measure the statistical dispersion and data variability by dividing the dataset into quartiles. The first, second and fourth quartiles divides the data into four intervals of equal probability: <Q1; Q1-Q2; Q2-Q3; >Q3.\n",
    "\n",
    "IQR is the difference between the third quartile and the first quartile (IQR = Q3 -Q1). Outliers using this criteria are defined as ***the observations that are below Q1 − 1.5 x IQR (i.e. defining the lower whisker), or above Q3 + 1.5 x IQR (i.e. defining the upper whisker)***.\n",
    "\n",
    "We can run some code to try to count and detect these outliers:"
   ]
  },
  {
   "cell_type": "code",
   "execution_count": null,
   "metadata": {},
   "outputs": [],
   "source": [
    "# function to compute the IQR (upper and lower whisker) and count outliers\n",
    "\n",
    "def out_iqr(df , column):\n",
    "    global loweriqr,upperiqr\n",
    "    q25, q75 = np.quantile(df[column], 0.25), np.quantile(df[column], 0.75)\n",
    "    # calculate the IQR\n",
    "    iqr = q75 - q25\n",
    "    # calculate the outlier cutoff\n",
    "    cut_off = iqr * 1.5\n",
    "    # calculate the lower and upper bound value\n",
    "    loweriqr, upperiqr = q25 - cut_off, q75 + cut_off\n",
    "    # print results\n",
    "    print('IQR = ',iqr)\n",
    "    print('lower whisker = ', round(loweriqr, 3))\n",
    "    print('upper whisker = ', round(upperiqr, 3))\n",
    "    # Calculate the number of records below and above lower and above bound value respectively\n",
    "    df1 = df[df[column] > upperiqr]\n",
    "    df2 = df[df[column] < loweriqr]\n",
    "    return print('Total number of outliers = ', df1.shape[0]+ df2.shape[0])"
   ]
  },
  {
   "cell_type": "code",
   "execution_count": null,
   "metadata": {},
   "outputs": [],
   "source": [
    "# Get the IQR limits ad the number of outliers\n",
    "out_iqr(df_wine,'pH')"
   ]
  },
  {
   "cell_type": "code",
   "execution_count": null,
   "metadata": {},
   "outputs": [],
   "source": [
    "# Produce histogram with areas defining outlier \n",
    "plt.figure(figsize = (10,6))\n",
    "sns.set_style('darkgrid') # set the background to grey with white tckmarks (ggplot default style)\n",
    "sns.histplot(df_wine.pH,\n",
    "    color='skyblue',\n",
    "    edgecolor='none'\n",
    "    )\n",
    "plt.axvspan(xmin= df_wine.pH.min(), xmax = loweriqr, alpha=0.2, color='red') # lower was defined by the function 'out_iqr' produced above\n",
    "plt.axvspan(xmin = upperiqr,xmax= df_wine.pH.max(),alpha=0.2, color='red') # upper was defined by the function 'out_iqr' produced above\n",
    "plt.show()"
   ]
  },
  {
   "cell_type": "code",
   "execution_count": null,
   "metadata": {},
   "outputs": [],
   "source": [
    "# To go back to matplotlib default style run:\n",
    "plt.style.use('default')"
   ]
  },
  {
   "cell_type": "code",
   "execution_count": null,
   "metadata": {},
   "outputs": [],
   "source": [
    "# Get the position (index) of the outliers in the dataset\n",
    "outlier_indices = np.where((df_wine['pH'] > upperiqr) | (df_wine['pH'] < loweriqr))\n",
    "print(outlier_indices)\n",
    "print(np.size(outlier_indices)) # get the number of outliers"
   ]
  },
  {
   "cell_type": "code",
   "execution_count": null,
   "metadata": {},
   "outputs": [],
   "source": [
    "# add a column to identify the IQR-based outliers\n",
    "df_wine['Outlier_iqr'] = (df_wine['pH'] < loweriqr) | (df_wine['pH'] > upperiqr)\n",
    "pd.crosstab(df_wine['Outlier_iqr'], columns='count')"
   ]
  },
  {
   "cell_type": "code",
   "execution_count": null,
   "metadata": {},
   "outputs": [],
   "source": [
    "# Visualize the univariate ouliers of the dataset\n",
    "g = sns.JointGrid(data=df_wine, x=df_wine.index, y='pH', hue='Outlier_iqr')\n",
    "g.plot(sns.scatterplot, sns.boxplot)\n",
    "g.ax_marg_x.set_axis_off() # removes the marginal x-axis\n",
    "g.ax_marg_y.set_axis_off() # removes the marginal y-axis\n",
    "g.ax_marg_x.remove() # removes the marginal x boxplot (index of each observation)\n",
    "g.set_axis_labels(xlabel='Observation index', ylabel='pH')\n",
    "g.figure.set_figwidth(8) # to define the width to get a non-square figure with JointGrid \n",
    "g.figure.set_figheight(4) # to define the height to get a non-square figure with JointGrid \n",
    "plt.show()"
   ]
  },
  {
   "cell_type": "code",
   "execution_count": null,
   "metadata": {},
   "outputs": [],
   "source": [
    "# Remove outliers and create new data frame\n",
    "df_new = df_wine.loc[(df_wine['pH'] < upperiqr) & (df_wine['pH'] > loweriqr)]\n",
    "len(df_new)"
   ]
  },
  {
   "cell_type": "code",
   "execution_count": null,
   "metadata": {},
   "outputs": [],
   "source": [
    "# Check the impact on univariate summary statstics of removing outliers\n",
    "# original dataset:\n",
    "median_pH = pd.Series({'median': df_wine['pH'].median()})\n",
    "stat_pH = df_wine['pH'].describe()\n",
    "table1 = pd.concat([median_pH, stat_pH])\n",
    "# no outliers:\n",
    "median_pH2 = pd.Series({'median': df_new['pH'].median()})\n",
    "stat_pH2 = df_new['pH'].describe()\n",
    "table2 = pd.concat([median_pH2, stat_pH2])\n",
    "\n",
    "pd.DataFrame({'Original': table1, 'No outliers': table2})"
   ]
  },
  {
   "cell_type": "markdown",
   "metadata": {},
   "source": [
    "#### 2.2 Standard deviation method\n",
    "\n",
    "This method uses the standard deviation of the sample as a cut-off for identifying outliers and applies **only to data with Gaussian-like distributions**.\n",
    "\n",
    "As we saw, if a data distribution is normal then approximately:\n",
    "\n",
    "* 68% of the data values lie within one standard deviation of the mean\n",
    "* 95% are within two standard deviations\n",
    "* 99.7% lie within three standard deviations.\n",
    "\n",
    "Outliers may be defined acording to a cutoff value corresponding to 2 times stdev or 3 times stdev.\n",
    "The code below follows an approach similar to the previous method:"
   ]
  },
  {
   "cell_type": "code",
   "execution_count": null,
   "metadata": {},
   "outputs": [],
   "source": [
    "# function to detect values below mean - 3xstdev or above mean + 3xstdev, that will define the outliers\n",
    "\n",
    "def out_std(df, column):\n",
    "    global lowersd, uppersd\n",
    "    # calculate the mean and standard deviation of the data frame\n",
    "    data_mean, data_std = df[column].mean(), df[column].std()\n",
    "    # calculate the cutoff value\n",
    "    cut_off = data_std * 3\n",
    "    # calculate the lower and upper bound value\n",
    "    lowersd, uppersd = data_mean - cut_off, data_mean + cut_off\n",
    "    print('The lower bound value is', round(lowersd, 3))\n",
    "    print('The upper bound value is', round(uppersd, 3))\n",
    "    # Calculate the number of records below and above lower and above bound value respectively\n",
    "    df1 = df[df[column] > uppersd]\n",
    "    df2 = df[df[column] < lowersd]\n",
    "    return print('Total number of outliers are', df1.shape[0]+ df2.shape[0])"
   ]
  },
  {
   "cell_type": "code",
   "execution_count": null,
   "metadata": {},
   "outputs": [],
   "source": [
    "# Get the 3xSD limits ad the number of outliers\n",
    "out_std(df_wine,'pH')"
   ]
  },
  {
   "cell_type": "code",
   "execution_count": null,
   "metadata": {},
   "outputs": [],
   "source": [
    "# add a column to identify the SD-based outliers\n",
    "df_wine['Outlier_sd'] = (df_wine['pH'] < lowersd) | (df_wine['pH'] > uppersd)\n",
    "pd.crosstab(df_wine['Outlier_sd'], columns='count')"
   ]
  },
  {
   "cell_type": "code",
   "execution_count": null,
   "metadata": {},
   "outputs": [],
   "source": [
    "# Visualize the univariate ouliers of the dataset\n",
    "g = sns.JointGrid(data=df_wine, x=df_wine.index, y='pH', hue='Outlier_sd')\n",
    "g.plot(sns.scatterplot, sns.boxplot)\n",
    "g.ax_marg_x.set_axis_off() # removes the marginal x-axis\n",
    "g.ax_marg_y.set_axis_off() # removes the marginal y-axis\n",
    "g.ax_marg_x.remove() # removes the marginal x boxplot (index of each observation)\n",
    "g.set_axis_labels(xlabel='Observation index', ylabel='pH')\n",
    "g.fig.set_figwidth(8) # to define the width to get a non-square figure with JointGrid \n",
    "g.fig.set_figheight(4) # to define the height to get a non-square figure with JointGrid \n",
    "plt.show()"
   ]
  },
  {
   "cell_type": "markdown",
   "metadata": {},
   "source": [
    "This method tends to select fewer outliers. Because outliers increase the standard deviation, the method **may fail to detect outliers**."
   ]
  },
  {
   "cell_type": "markdown",
   "metadata": {},
   "source": [
    "#### 2.3 Z-score method\n",
    "\n",
    "Z-score describes the position of a raw score in terms of its distance from the mean, when measured in standard deviation units. This method also assumes a Gaussian distribution of the data. The outliers will be defined as the data points that are located in the tails of the distribution.\n",
    "\n",
    "`Z_score = (Xi - mean) / standard deviation`\n",
    "\n",
    "where:\n",
    "* Xi - observation\n",
    "* 'mean' - mean of all Xi \n",
    "* 'standard deviation' - standard deviation of all Xi\n",
    "\n",
    "An outlier is then a normalized data point which has an absolute value greater than the ***Z-score threshold*** (Zthr). That is:\n",
    "|Z_score| > Zthr\n",
    "\n",
    "Commonly used Z-score threshold values are 2.5, 3.0 or 3.5. Here we will be using 3.5\n",
    "\n",
    "Following a similar approach to the previous methods:"
   ]
  },
  {
   "cell_type": "code",
   "execution_count": null,
   "metadata": {},
   "outputs": [],
   "source": [
    "# Function to find the lower and the upper cutoff values using the Z-Score method\n",
    "\n",
    "def out_zscore(data):\n",
    "    global outliers,zscore\n",
    "    outliers = []\n",
    "    zscore = []\n",
    "    threshold = 3.5\n",
    "    mean = np.mean(data)\n",
    "    std = np.std(data)\n",
    "    for i in data:\n",
    "        z_score= (i - mean)/std \n",
    "        zscore.append(z_score)\n",
    "        if np.abs(z_score) > threshold:\n",
    "            outliers.append(i)\n",
    "    return print(\"Total number of outliers = \",len(outliers))\n"
   ]
  },
  {
   "cell_type": "code",
   "execution_count": null,
   "metadata": {},
   "outputs": [],
   "source": [
    "# Get the 3xSD limits ad the number of outliers\n",
    "out_zscore(df_wine['pH'])"
   ]
  },
  {
   "cell_type": "code",
   "execution_count": null,
   "metadata": {},
   "outputs": [],
   "source": [
    "df_pH = pd.DataFrame(zscore, columns=['pH'])\n",
    "df_pH"
   ]
  },
  {
   "cell_type": "code",
   "execution_count": null,
   "metadata": {},
   "outputs": [],
   "source": [
    "# add a column to identify the SD-based outliers\n",
    "df_wine['Outlier_zscore'] = (df_pH['pH'] < -3.5) | (df_pH['pH'] > 3.5)\n",
    "pd.crosstab(df_wine['Outlier_zscore'], columns='count')"
   ]
  },
  {
   "cell_type": "code",
   "execution_count": null,
   "metadata": {},
   "outputs": [],
   "source": [
    "# Visualize the univariate ouliers of the dataset\n",
    "g = sns.JointGrid(data=df_wine, x=df_wine.index, y='pH', hue='Outlier_zscore')\n",
    "g.plot(sns.scatterplot, sns.boxplot)\n",
    "g.ax_marg_x.set_axis_off() # removes the marginal x-axis\n",
    "g.ax_marg_y.set_axis_off() # removes the marginal y-axis\n",
    "g.ax_marg_x.remove() # removes the marginal x boxplot (index of each observation)\n",
    "g.set_axis_labels(xlabel='Observation index', ylabel='pH')\n",
    "g.fig.set_figwidth(8) # to define the width to get a non-square figure with JointGrid \n",
    "g.fig.set_figheight(4) # to define the height to get a non-square figure with JointGrid \n",
    "plt.show()"
   ]
  },
  {
   "cell_type": "code",
   "execution_count": null,
   "metadata": {},
   "outputs": [],
   "source": [
    "df_wine"
   ]
  },
  {
   "cell_type": "markdown",
   "metadata": {},
   "source": [
    "#### 2.4 Isolation Forest\n",
    "\n",
    "Isolation forest is based recursive partitioning of the dataset using a set of **decision trees** and provides an **anomaly score** that measures  how isolated the point is in the structure found. The anomaly score is then used to detect outliers. The number of splittings required to isolate a sample is equivalent to the path length from the root node to the terminating node. This method is based on the assumption that <mark>it requires fewer splits to isolate an outlier than it does to isolate a non-outlier</mark>, i.e. an outlier has a lower isolation number in comparison to a non-outlier observation. \n",
    "\n",
    "An observation is therefore defined as an outlier if its isolation number is lower than a given threshold. The threshold is defined based on the estimated percentage of outliers in the data, which is the starting point of this outlier detection algorithm.\n",
    "\n",
    "Isolation Forest does not assume normal distribution and is **able to detect outliers at a multi-dimensional level**. Moreover, the algorithm has a linear time complexity with a low constant and a low memory requirement which makes it computationally efficient. Hence, it scales well to large data sets.\n",
    "\n",
    "The method is implemented in the scikit-learn module: https://scikit-learn.org/stable/modules/generated/sklearn.ensemble.IsolationForest.html\n",
    "\n",
    "In the following code, examples of how to identify ***univariate, bivariate and multivariate outliers*** are provided."
   ]
  },
  {
   "cell_type": "code",
   "execution_count": null,
   "metadata": {},
   "outputs": [],
   "source": [
    "#Import necessary libraries\n",
    "from sklearn.ensemble import IsolationForest"
   ]
  },
  {
   "cell_type": "markdown",
   "metadata": {},
   "source": [
    "##### 2.4.1 Run a univariate isolation forest (to detect univariate outliers)\n",
    "\n",
    "Let's run a univariate isolation forest for 'pH'"
   ]
  },
  {
   "cell_type": "code",
   "execution_count": null,
   "metadata": {},
   "outputs": [],
   "source": [
    "model = IsolationForest(n_estimators = 150, contamination='auto') # define the model (150 isolation trees, default: only 1 variable (feature) of the dataset)\n",
    "model.fit(df_wine['pH'].values.reshape(-1,1)) # fit the model (univariate: 'pH')\n",
    "scores = model.decision_function(df_wine['pH'].values.reshape(-1,1)) #  extract the anomaly scores (mean anomaly scores of each tree) - vary between -1 and 1\n",
    "anomaly = model.predict(df_wine['pH'].values.reshape(-1,1)) # extract an anomaly (outlier) identifier (-1)\n",
    "df_wine['scores'] = scores # add a new column to the database with the anomaly scores\n",
    "df_wine['anomaly'] = anomaly # add a new column to the database with the anomaly identifier (1/-1)\n",
    "\n",
    "pd.crosstab(df_wine['anomaly'], columns='count') # count the number of outliers"
   ]
  },
  {
   "cell_type": "markdown",
   "metadata": {},
   "source": [
    "Visualize the univariate ouliers of the dataset"
   ]
  },
  {
   "cell_type": "code",
   "execution_count": null,
   "metadata": {},
   "outputs": [],
   "source": [
    "g = sns.JointGrid(data=df_wine, x=df_wine.index, y='pH', hue='anomaly')\n",
    "g.plot(sns.scatterplot, sns.boxplot)\n",
    "g.ax_marg_x.set_axis_off() # removes the marginal x-axis\n",
    "g.ax_marg_y.set_axis_off() # removes the marginal y-axis\n",
    "g.ax_marg_x.remove() # removes the marginal x boxplot (index of each observation)\n",
    "g.set_axis_labels(xlabel='Observation index', ylabel='pH')\n",
    "g.fig.set_figwidth(8) # to define the width to get a non-square figure with JointGrid \n",
    "g.fig.set_figheight(4) # to define the height to get a non-square figure with JointGrid \n",
    "plt.show()"
   ]
  },
  {
   "cell_type": "markdown",
   "metadata": {},
   "source": [
    "##### 2.4.2 Run a bivariate isolation forest\n",
    "\n",
    "Let's now run a bivariate isolation forest for'pH' and 'citric acid'"
   ]
  },
  {
   "cell_type": "code",
   "execution_count": null,
   "metadata": {},
   "outputs": [],
   "source": [
    "model = IsolationForest(n_estimators = 150, contamination='auto', max_features=2) # define the model (150 isolation trees, default: only 1 variable (feature) of the dataset)\n",
    "model.fit(df_wine[['citric acid', 'pH']].values) # fit the model (univariate: 'pH')\n",
    "scores = model.decision_function(df_wine[['citric acid', 'pH']].values) #  extract the anomaly scores (mean anomaly scores of each tree)\n",
    "anomaly = model.predict(df_wine[['citric acid', 'pH']].values) # extract an anomaly (outlier) identifier (-1)\n",
    "df_wine['scores'] = scores # add a new column to the database with the anomaly scores\n",
    "df_wine['anomaly'] = anomaly # add a new column to the database with the anomaly identifier (1/-1)\n",
    "pd.crosstab(df_wine['anomaly'], columns='count') # count the number of outliers"
   ]
  },
  {
   "cell_type": "markdown",
   "metadata": {},
   "source": [
    "Visualize the bivariate ouliers of the dataset"
   ]
  },
  {
   "cell_type": "code",
   "execution_count": null,
   "metadata": {},
   "outputs": [],
   "source": [
    "g = sns.JointGrid(data=df_wine, x='citric acid', y='pH', hue='anomaly') \n",
    "g.plot(sns.scatterplot, sns.histplot) # to plot both a scatter plot and a boxplot for each variable\n",
    "g.ax_marg_x.set_axis_off() # removes the marginal x-axis\n",
    "g.ax_marg_y.set_axis_off() # removes the marginal y-axis\n",
    "g.fig.set_figwidth(7) # to define the width to get a non-square figure with JointGrid \n",
    "g.fig.set_figheight(4) # to define the height to get a non-square figure with JointGrid \n",
    "plt.show()"
   ]
  },
  {
   "cell_type": "markdown",
   "metadata": {},
   "source": [
    "Alternative using continuous anomaly scores instead (may take a while)."
   ]
  },
  {
   "cell_type": "code",
   "execution_count": null,
   "metadata": {},
   "outputs": [],
   "source": [
    "g = sns.JointGrid(data=df_wine, x='citric acid', y='pH', hue='scores') \n",
    "g.plot(sns.scatterplot, sns.histplot) # to plot both a scatter plot and a boxplot for each variable\n",
    "g.ax_marg_x.set_axis_off() # removes the marginal x-axis\n",
    "g.ax_marg_y.set_axis_off() # removes the marginal y-axis\n",
    "g.figure.set_figwidth(7) # to define the width to get a non-square figure with JointGrid \n",
    "g.figure.set_figheight(4) # to define the height to get a non-square figure with JointGrid \n",
    "plt.show()"
   ]
  },
  {
   "cell_type": "markdown",
   "metadata": {},
   "source": [
    "##### 2.4.3 Run a multivariate isolation forest\n",
    "\n",
    "Let's now run a multivariate isolation forest for all variables in the dataset (including categorical)"
   ]
  },
  {
   "cell_type": "code",
   "execution_count": null,
   "metadata": {},
   "outputs": [],
   "source": [
    "model = IsolationForest(n_estimators = 150, contamination='auto', max_features=12) # define the model (150 isolation trees, all 12 variables in the dataset)\n",
    "model.fit(df_wine.values) # fit the model to the data\n",
    "scores = model.decision_function(df_wine.values) # extract the anomaly scores (mean anomaly scores of each tree)\n",
    "anomaly = model.predict(df_wine.values) # to extract an anomaly (outlier) identifier (-1)\n",
    "df_wine['scores'] = scores # add a new column to the database with the anomaly scores\n",
    "df_wine['anomaly'] = anomaly # add a new column to the database with the anomaly identifier(1/-1)\n",
    "pd.crosstab(df_wine['anomaly'], columns='count') # count the number of outliers"
   ]
  },
  {
   "cell_type": "markdown",
   "metadata": {},
   "source": [
    "Visualize the multivariate ouliers of the dataset using a univariate plot for 'pH' (just as an example).\n",
    "\n",
    "NOTE: It is dificult to visualize outliers for more than 2 dimensions (maybe a biplot of a Principal Component Analysis would help)."
   ]
  },
  {
   "cell_type": "code",
   "execution_count": null,
   "metadata": {},
   "outputs": [],
   "source": [
    "g = sns.JointGrid(data=df_wine, x=df_wine.index, y='pH', hue='anomaly')\n",
    "g.plot(sns.scatterplot, sns.boxplot)\n",
    "g.ax_marg_x.set_axis_off() # removes the marginal x-axis\n",
    "g.ax_marg_y.set_axis_off() # removes the marginal y-axis\n",
    "g.ax_marg_x.remove() # removes the marginal x boxplot (index of each observation)\n",
    "g.set_axis_labels(xlabel='Observation index', ylabel='pH')\n",
    "g.figure.set_figwidth(8) # to define the width to get a non-square figure with JointGrid \n",
    "g.figure.set_figheight(4) # to define the height to get a non-square figure with JointGrid \n",
    "plt.show()"
   ]
  },
  {
   "cell_type": "markdown",
   "metadata": {},
   "source": [
    "### Conclusion\n",
    "\n",
    "The different detection methods differ greatly leading to marked differences in outlier detection. It is important to detect outliers by finding consensus among different methods. After detecting outliers, it important to assess whether they correspond to real data as well as to evaluate their impact on the analytical methods we intend to use. Based on this assessment, we may use different approaches to deal with them.\n",
    "\n",
    "There are many other methods for outlier detection processes that you may search for, such as:\n",
    "- DBSCAN (Density-Based Spatial Clustering of Applications with Noise)\n",
    "- Local Outlier Factor Method (LOF):\n",
    "- Elliptic Envelope\n",
    "- One-Class Support Vector Machines\n",
    "- Robust Random Cut Forest"
   ]
  },
  {
   "cell_type": "markdown",
   "metadata": {},
   "source": [
    "### References\n",
    "\n",
    "https://www.analyticsvidhya.com/blog/2021/06/univariate-anomaly-detection-a-walkthrough-in-python/\n",
    "\n",
    "https://www.kaggle.com/code/rpsuraj/outlier-detection-techniques-simplified\n",
    "\n",
    "https://scikit-learn.org/stable/modules/generated/sklearn.ensemble.IsolationForest.html\n",
    "\n"
   ]
  }
 ],
 "metadata": {
  "kernelspec": {
   "display_name": "Python 3",
   "language": "python",
   "name": "python3"
  },
  "language_info": {
   "codemirror_mode": {
    "name": "ipython",
    "version": 3
   },
   "file_extension": ".py",
   "mimetype": "text/x-python",
   "name": "python",
   "nbconvert_exporter": "python",
   "pygments_lexer": "ipython3",
   "version": "3.11.2"
  }
 },
 "nbformat": 4,
 "nbformat_minor": 2
}
