{
 "cells": [
  {
   "attachments": {},
   "cell_type": "markdown",
   "metadata": {},
   "source": [
    "# Analysis and Visualization of Complex Agro-Environmental Data\n",
    "---"
   ]
  },
  {
   "cell_type": "code",
<<<<<<< HEAD
   "execution_count": 38,
=======
   "execution_count": 1,
>>>>>>> d59d2f489b93f5b1599ab8f2e69179aee99cede3
   "metadata": {},
   "outputs": [],
   "source": [
    "import math"
   ]
  },
  {
   "attachments": {},
   "cell_type": "markdown",
   "metadata": {},
   "source": [
    "\n",
    "## Types of data and data collections in Python \n",
    "\n",
    "The following data types can be used in base python:\n",
    "* **boolean**\n",
    "* **integer**\n",
    "* **float**\n",
    "* **string**\n",
    "* **none**\n",
    "* complex\n",
    "* object\n",
    "\n",
    "Built-in python data types to store collections of data\n",
    "\n",
    "* **list** (python built-in data type)\n",
    "* **dictionary** (python built-in data type)\n",
    "* **tuple** (python built-in data type)\n",
    "* set (python built-in data type)\n",
    "\n",
    "Numpy data types\n",
    "* **arrays**\n",
    "\n",
    "Pandas data types\n",
    "* **DataFrames**\n",
    "* **Series**\n",
    "\n",
    "Here we will focus on the **bolded** ones\n",
    "\n",
    "Try to connect these types to the data types mentioned in Lesson 02.\n",
    "\n",
    "###  Numerical or Quantitative (taking the mean makes sense)\n",
    "* Discrete\n",
    "    * Integer (int) #Stored exactly\n",
    "* Continuous\n",
    "    * Float (float) #Stored similarly to scientific notation. Allows for decimal places but loses precision.\n",
    "\n",
    "**Integer**"
   ]
  },
  {
   "cell_type": "code",
<<<<<<< HEAD
   "execution_count": 39,
=======
   "execution_count": 2,
>>>>>>> d59d2f489b93f5b1599ab8f2e69179aee99cede3
   "metadata": {},
   "outputs": [
    {
     "data": {
      "text/plain": [
       "int"
      ]
     },
<<<<<<< HEAD
     "execution_count": 39,
=======
     "execution_count": 2,
>>>>>>> d59d2f489b93f5b1599ab8f2e69179aee99cede3
     "metadata": {},
     "output_type": "execute_result"
    }
   ],
   "source": [
    "type(24)"
   ]
  },
  {
   "cell_type": "code",
<<<<<<< HEAD
   "execution_count": 40,
=======
   "execution_count": 3,
>>>>>>> d59d2f489b93f5b1599ab8f2e69179aee99cede3
   "metadata": {},
   "outputs": [
    {
     "data": {
      "text/plain": [
       "int"
      ]
     },
<<<<<<< HEAD
     "execution_count": 40,
=======
     "execution_count": 3,
>>>>>>> d59d2f489b93f5b1599ab8f2e69179aee99cede3
     "metadata": {},
     "output_type": "execute_result"
    }
   ],
   "source": [
    "type(0)"
   ]
  },
  {
   "cell_type": "code",
<<<<<<< HEAD
   "execution_count": 41,
=======
   "execution_count": 4,
>>>>>>> d59d2f489b93f5b1599ab8f2e69179aee99cede3
   "metadata": {},
   "outputs": [
    {
     "data": {
      "text/plain": [
       "int"
      ]
     },
<<<<<<< HEAD
     "execution_count": 41,
=======
     "execution_count": 4,
>>>>>>> d59d2f489b93f5b1599ab8f2e69179aee99cede3
     "metadata": {},
     "output_type": "execute_result"
    }
   ],
   "source": [
    "type(-3)"
   ]
  },
  {
   "cell_type": "code",
<<<<<<< HEAD
   "execution_count": 42,
=======
   "execution_count": 5,
>>>>>>> d59d2f489b93f5b1599ab8f2e69179aee99cede3
   "metadata": {},
   "outputs": [
    {
     "name": "stdout",
     "output_type": "stream",
     "text": [
      "3.5\n"
     ]
    },
    {
     "data": {
      "text/plain": [
       "float"
      ]
     },
<<<<<<< HEAD
     "execution_count": 42,
=======
     "execution_count": 5,
>>>>>>> d59d2f489b93f5b1599ab8f2e69179aee99cede3
     "metadata": {},
     "output_type": "execute_result"
    }
   ],
   "source": [
    "#return the mean from an integer list\n",
    "numbers = [2, 3, 4, 5]\n",
    "print(sum(numbers)/len(numbers))\n",
    "type(sum(numbers)/len(numbers))"
   ]
  },
  {
   "attachments": {},
   "cell_type": "markdown",
   "metadata": {},
   "source": [
    "**Float**"
   ]
  },
  {
   "cell_type": "code",
<<<<<<< HEAD
   "execution_count": 43,
=======
   "execution_count": 6,
>>>>>>> d59d2f489b93f5b1599ab8f2e69179aee99cede3
   "metadata": {},
   "outputs": [
    {
     "data": {
      "text/plain": [
       "0.6"
      ]
     },
<<<<<<< HEAD
     "execution_count": 43,
=======
     "execution_count": 6,
>>>>>>> d59d2f489b93f5b1599ab8f2e69179aee99cede3
     "metadata": {},
     "output_type": "execute_result"
    }
   ],
   "source": [
    "3/5"
   ]
  },
  {
   "cell_type": "code",
<<<<<<< HEAD
   "execution_count": 44,
=======
   "execution_count": 7,
>>>>>>> d59d2f489b93f5b1599ab8f2e69179aee99cede3
   "metadata": {},
   "outputs": [
    {
     "data": {
      "text/plain": [
       "0.6000000000000001"
      ]
     },
<<<<<<< HEAD
     "execution_count": 44,
=======
     "execution_count": 7,
>>>>>>> d59d2f489b93f5b1599ab8f2e69179aee99cede3
     "metadata": {},
     "output_type": "execute_result"
    }
   ],
   "source": [
    "6*10**(-1)"
   ]
  },
  {
   "cell_type": "code",
<<<<<<< HEAD
   "execution_count": 45,
=======
   "execution_count": 8,
>>>>>>> d59d2f489b93f5b1599ab8f2e69179aee99cede3
   "metadata": {},
   "outputs": [
    {
     "data": {
      "text/plain": [
       "float"
      ]
     },
<<<<<<< HEAD
     "execution_count": 45,
=======
     "execution_count": 8,
>>>>>>> d59d2f489b93f5b1599ab8f2e69179aee99cede3
     "metadata": {},
     "output_type": "execute_result"
    }
   ],
   "source": [
    "type(math.pi)"
   ]
  },
  {
   "cell_type": "code",
<<<<<<< HEAD
   "execution_count": 46,
=======
   "execution_count": 9,
>>>>>>> d59d2f489b93f5b1599ab8f2e69179aee99cede3
   "metadata": {},
   "outputs": [
    {
     "data": {
      "text/plain": [
       "float"
      ]
     },
<<<<<<< HEAD
     "execution_count": 46,
=======
     "execution_count": 9,
>>>>>>> d59d2f489b93f5b1599ab8f2e69179aee99cede3
     "metadata": {},
     "output_type": "execute_result"
    }
   ],
   "source": [
    "type(4.0)"
   ]
  },
  {
   "cell_type": "code",
<<<<<<< HEAD
   "execution_count": 47,
=======
   "execution_count": 10,
>>>>>>> d59d2f489b93f5b1599ab8f2e69179aee99cede3
   "metadata": {},
   "outputs": [
    {
     "data": {
      "text/plain": [
       "float"
      ]
     },
<<<<<<< HEAD
     "execution_count": 47,
=======
     "execution_count": 10,
>>>>>>> d59d2f489b93f5b1599ab8f2e69179aee99cede3
     "metadata": {},
     "output_type": "execute_result"
    }
   ],
   "source": [
    "# Try taking the mean\n",
    "numbers = [math.pi, 3/5, 4.1]\n",
    "type(sum(numbers)/len(numbers))"
   ]
  },
  {
   "attachments": {},
   "cell_type": "markdown",
   "metadata": {},
   "source": [
    "### Categorical or Qualitative\n",
    "* Nominal\n",
    "    * Boolean (bool)\n",
    "    * String (str)\n",
    "    * None (NoneType)\n",
    "* Ordinal\n",
    "    * Only defined by how you use the data\n",
    "    * Often important when creating visuals\n",
    "    * Lists can hold ordinal information because they have indices\n",
    "\n",
    "**Boolean**"
   ]
  },
  {
   "cell_type": "code",
<<<<<<< HEAD
   "execution_count": 48,
=======
   "execution_count": 11,
>>>>>>> d59d2f489b93f5b1599ab8f2e69179aee99cede3
   "metadata": {},
   "outputs": [
    {
     "data": {
      "text/plain": [
       "bool"
      ]
     },
<<<<<<< HEAD
     "execution_count": 48,
=======
     "execution_count": 11,
>>>>>>> d59d2f489b93f5b1599ab8f2e69179aee99cede3
     "metadata": {},
     "output_type": "execute_result"
    }
   ],
   "source": [
    "# Boolean\n",
    "type(True)"
   ]
  },
  {
   "cell_type": "code",
<<<<<<< HEAD
   "execution_count": 49,
=======
   "execution_count": 12,
>>>>>>> d59d2f489b93f5b1599ab8f2e69179aee99cede3
   "metadata": {},
   "outputs": [
    {
     "name": "stdout",
     "output_type": "stream",
     "text": [
      "No\n"
     ]
    }
   ],
   "source": [
    "# Boolean\n",
    "if 6 < 5:\n",
    "    print(\"Yes!\")\n",
    "else:\n",
    "    print(\"No\")"
   ]
  },
  {
   "cell_type": "code",
<<<<<<< HEAD
   "execution_count": 50,
=======
   "execution_count": 13,
>>>>>>> d59d2f489b93f5b1599ab8f2e69179aee99cede3
   "metadata": {},
   "outputs": [
    {
     "data": {
      "text/plain": [
       "bool"
      ]
     },
<<<<<<< HEAD
     "execution_count": 50,
=======
     "execution_count": 13,
>>>>>>> d59d2f489b93f5b1599ab8f2e69179aee99cede3
     "metadata": {},
     "output_type": "execute_result"
    }
   ],
   "source": [
    "type(None is None)"
   ]
  },
  {
   "cell_type": "code",
<<<<<<< HEAD
   "execution_count": 51,
=======
   "execution_count": 14,
>>>>>>> d59d2f489b93f5b1599ab8f2e69179aee99cede3
   "metadata": {},
   "outputs": [
    {
     "name": "stdout",
     "output_type": "stream",
     "text": [
      "<class 'bool'>\n",
      "<class 'bool'>\n",
      "<class 'bool'>\n",
      "<class 'bool'>\n"
     ]
    }
   ],
   "source": [
    "myList = [True, 6<5, 1==3, None is None]\n",
    "for element in myList:\n",
    "    print(type(element))"
   ]
  },
  {
   "cell_type": "code",
<<<<<<< HEAD
   "execution_count": 52,
=======
   "execution_count": 15,
>>>>>>> d59d2f489b93f5b1599ab8f2e69179aee99cede3
   "metadata": {},
   "outputs": [
    {
     "name": "stdout",
     "output_type": "stream",
     "text": [
      "0.5\n"
     ]
    },
    {
     "data": {
      "text/plain": [
       "float"
      ]
     },
<<<<<<< HEAD
     "execution_count": 52,
=======
     "execution_count": 15,
>>>>>>> d59d2f489b93f5b1599ab8f2e69179aee99cede3
     "metadata": {},
     "output_type": "execute_result"
    }
   ],
   "source": [
    "print(sum(myList)/len(myList))\n",
    "type(sum(myList)/len(myList))"
   ]
  },
  {
   "attachments": {},
   "cell_type": "markdown",
   "metadata": {},
   "source": [
    "**String**"
   ]
  },
  {
   "cell_type": "code",
<<<<<<< HEAD
   "execution_count": 53,
=======
   "execution_count": 16,
>>>>>>> d59d2f489b93f5b1599ab8f2e69179aee99cede3
   "metadata": {},
   "outputs": [
    {
     "data": {
      "text/plain": [
       "str"
      ]
     },
<<<<<<< HEAD
     "execution_count": 53,
=======
     "execution_count": 16,
>>>>>>> d59d2f489b93f5b1599ab8f2e69179aee99cede3
     "metadata": {},
     "output_type": "execute_result"
    }
   ],
   "source": [
    "type(\"This sentence makes sense\")"
   ]
  },
  {
   "cell_type": "code",
<<<<<<< HEAD
   "execution_count": 54,
=======
   "execution_count": 17,
>>>>>>> d59d2f489b93f5b1599ab8f2e69179aee99cede3
   "metadata": {},
   "outputs": [
    {
     "data": {
      "text/plain": [
       "str"
      ]
     },
<<<<<<< HEAD
     "execution_count": 54,
=======
     "execution_count": 17,
>>>>>>> d59d2f489b93f5b1599ab8f2e69179aee99cede3
     "metadata": {},
     "output_type": "execute_result"
    }
   ],
   "source": [
    "type(\"math.pi\")"
   ]
  },
  {
   "cell_type": "code",
<<<<<<< HEAD
   "execution_count": 55,
=======
   "execution_count": 18,
>>>>>>> d59d2f489b93f5b1599ab8f2e69179aee99cede3
   "metadata": {},
   "outputs": [
    {
     "ename": "TypeError",
     "evalue": "unsupported operand type(s) for +: 'int' and 'str'",
     "output_type": "error",
     "traceback": [
<<<<<<< HEAD
      "\u001b[1;31m---------------------------------------------------------------------------\u001b[0m",
      "\u001b[1;31mTypeError\u001b[0m                                 Traceback (most recent call last)",
      "Cell \u001b[1;32mIn[55], line 2\u001b[0m\n\u001b[0;32m      1\u001b[0m strList \u001b[38;5;241m=\u001b[39m [\u001b[38;5;124m'\u001b[39m\u001b[38;5;124mdog\u001b[39m\u001b[38;5;124m'\u001b[39m, \u001b[38;5;124m'\u001b[39m\u001b[38;5;124mkoala\u001b[39m\u001b[38;5;124m'\u001b[39m, \u001b[38;5;124m'\u001b[39m\u001b[38;5;124mgoose\u001b[39m\u001b[38;5;124m'\u001b[39m]\n\u001b[1;32m----> 2\u001b[0m \u001b[38;5;28;43msum\u001b[39;49m\u001b[43m(\u001b[49m\u001b[43mstrList\u001b[49m\u001b[43m)\u001b[49m\u001b[38;5;241m/\u001b[39m\u001b[38;5;28mlen\u001b[39m(strList)\n",
      "\u001b[1;31mTypeError\u001b[0m: unsupported operand type(s) for +: 'int' and 'str'"
=======
      "\u001b[0;31m---------------------------------------------------------------------------\u001b[0m",
      "\u001b[0;31mTypeError\u001b[0m                                 Traceback (most recent call last)",
      "Cell \u001b[0;32mIn[18], line 2\u001b[0m\n\u001b[1;32m      1\u001b[0m strList \u001b[38;5;241m=\u001b[39m [\u001b[38;5;124m'\u001b[39m\u001b[38;5;124mdog\u001b[39m\u001b[38;5;124m'\u001b[39m, \u001b[38;5;124m'\u001b[39m\u001b[38;5;124mkoala\u001b[39m\u001b[38;5;124m'\u001b[39m, \u001b[38;5;124m'\u001b[39m\u001b[38;5;124mgoose\u001b[39m\u001b[38;5;124m'\u001b[39m]\n\u001b[0;32m----> 2\u001b[0m \u001b[38;5;28;43msum\u001b[39;49m\u001b[43m(\u001b[49m\u001b[43mstrList\u001b[49m\u001b[43m)\u001b[49m\u001b[38;5;241m/\u001b[39m\u001b[38;5;28mlen\u001b[39m(strList)\n",
      "\u001b[0;31mTypeError\u001b[0m: unsupported operand type(s) for +: 'int' and 'str'"
>>>>>>> d59d2f489b93f5b1599ab8f2e69179aee99cede3
     ]
    }
   ],
   "source": [
    "strList = ['dog', 'koala', 'goose']\n",
    "sum(strList)/len(strList)"
   ]
  },
  {
   "attachments": {},
   "cell_type": "markdown",
   "metadata": {},
   "source": [
    "**Nonetype**\n",
    "\n",
    "Used to define a null variable or object. It is the value a function returns when there is no return statement in the function"
   ]
  },
  {
   "cell_type": "code",
<<<<<<< HEAD
   "execution_count": 31,
=======
   "execution_count": 20,
>>>>>>> d59d2f489b93f5b1599ab8f2e69179aee99cede3
   "metadata": {},
   "outputs": [
    {
     "data": {
      "text/plain": [
       "NoneType"
      ]
     },
<<<<<<< HEAD
     "execution_count": 31,
=======
     "execution_count": 20,
>>>>>>> d59d2f489b93f5b1599ab8f2e69179aee99cede3
     "metadata": {},
     "output_type": "execute_result"
    }
   ],
   "source": [
    "# None\n",
    "type(None)"
   ]
  },
  {
   "cell_type": "code",
<<<<<<< HEAD
   "execution_count": 32,
=======
   "execution_count": 21,
>>>>>>> d59d2f489b93f5b1599ab8f2e69179aee99cede3
   "metadata": {},
   "outputs": [
    {
     "data": {
      "text/plain": [
       "NoneType"
      ]
     },
<<<<<<< HEAD
     "execution_count": 32,
=======
     "execution_count": 21,
>>>>>>> d59d2f489b93f5b1599ab8f2e69179aee99cede3
     "metadata": {},
     "output_type": "execute_result"
    }
   ],
   "source": [
    "# None\n",
    "x = None\n",
    "type(x)"
   ]
  },
  {
   "cell_type": "code",
<<<<<<< HEAD
   "execution_count": 33,
=======
   "execution_count": 22,
>>>>>>> d59d2f489b93f5b1599ab8f2e69179aee99cede3
   "metadata": {},
   "outputs": [
    {
     "name": "stdout",
     "output_type": "stream",
     "text": [
      "None\n"
     ]
    }
   ],
   "source": [
    "def no_return():\n",
    "     pass # Used as a placeholder for future code - to avoid getting an error when empty code is not allowed. \n",
    "\n",
    "print(no_return())"
   ]
  },
  {
   "cell_type": "code",
<<<<<<< HEAD
   "execution_count": 34,
=======
   "execution_count": 23,
>>>>>>> d59d2f489b93f5b1599ab8f2e69179aee99cede3
   "metadata": {},
   "outputs": [
    {
     "name": "stdout",
     "output_type": "stream",
     "text": [
      "None\n"
     ]
    }
   ],
   "source": [
    "def no_data():\n",
    "     pass # Used as a placeholder for future code - to avoid getting an error when empty code is not allowed. \n",
    "\n",
    "print(no_data())"
   ]
  },
  {
   "cell_type": "code",
<<<<<<< HEAD
   "execution_count": 35,
=======
   "execution_count": 24,
>>>>>>> d59d2f489b93f5b1599ab8f2e69179aee99cede3
   "metadata": {},
   "outputs": [
    {
     "name": "stdout",
     "output_type": "stream",
     "text": [
      "None\n"
     ]
    }
   ],
   "source": [
    "var = None\n",
    "if var is None:\n",
    "  print(\"None\")\n",
    "else:\n",
    "  print(\"Not None\")"
   ]
  },
  {
   "cell_type": "code",
<<<<<<< HEAD
   "execution_count": 36,
=======
   "execution_count": 26,
>>>>>>> d59d2f489b93f5b1599ab8f2e69179aee99cede3
   "metadata": {},
   "outputs": [
    {
     "ename": "TypeError",
     "evalue": "unsupported operand type(s) for +: 'int' and 'NoneType'",
     "output_type": "error",
     "traceback": [
<<<<<<< HEAD
      "\u001b[1;31m---------------------------------------------------------------------------\u001b[0m",
      "\u001b[1;31mTypeError\u001b[0m                                 Traceback (most recent call last)",
      "Cell \u001b[1;32mIn[36], line 2\u001b[0m\n\u001b[0;32m      1\u001b[0m noneList \u001b[38;5;241m=\u001b[39m [\u001b[38;5;28;01mNone\u001b[39;00m]\u001b[38;5;241m*\u001b[39m\u001b[38;5;241m5\u001b[39m\n\u001b[1;32m----> 2\u001b[0m \u001b[38;5;28;43msum\u001b[39;49m\u001b[43m(\u001b[49m\u001b[43mnoneList\u001b[49m\u001b[43m)\u001b[49m\u001b[38;5;241m/\u001b[39m\u001b[38;5;28mlen\u001b[39m(noneList) \u001b[38;5;66;03m# can't compute the mean\u001b[39;00m\n",
      "\u001b[1;31mTypeError\u001b[0m: unsupported operand type(s) for +: 'int' and 'NoneType'"
=======
      "\u001b[0;31m---------------------------------------------------------------------------\u001b[0m",
      "\u001b[0;31mTypeError\u001b[0m                                 Traceback (most recent call last)",
      "Cell \u001b[0;32mIn[26], line 2\u001b[0m\n\u001b[1;32m      1\u001b[0m noneList \u001b[38;5;241m=\u001b[39m [\u001b[38;5;28;01mNone\u001b[39;00m]\u001b[38;5;241m*\u001b[39m\u001b[38;5;241m5\u001b[39m\n\u001b[0;32m----> 2\u001b[0m \u001b[38;5;28;43msum\u001b[39;49m\u001b[43m(\u001b[49m\u001b[43mnoneList\u001b[49m\u001b[43m)\u001b[49m\u001b[38;5;241m/\u001b[39m\u001b[38;5;28mlen\u001b[39m(noneList) \u001b[38;5;66;03m# can't compute the mean\u001b[39;00m\n",
      "\u001b[0;31mTypeError\u001b[0m: unsupported operand type(s) for +: 'int' and 'NoneType'"
>>>>>>> d59d2f489b93f5b1599ab8f2e69179aee99cede3
     ]
    }
   ],
   "source": [
    "noneList = [None]*5\n",
    "sum(noneList)/len(noneList) # can't compute the mean"
   ]
  },
  {
   "attachments": {},
   "cell_type": "markdown",
   "metadata": {},
   "source": [
    "### Built-in python data types to store collections of data\n",
    "**Lists**\n",
    "\n",
    "Used to store multiple items in a single variable."
   ]
  },
  {
   "cell_type": "code",
<<<<<<< HEAD
   "execution_count": 56,
=======
   "execution_count": 27,
>>>>>>> d59d2f489b93f5b1599ab8f2e69179aee99cede3
   "metadata": {},
   "outputs": [
    {
     "name": "stdout",
     "output_type": "stream",
     "text": [
      "<class 'int'>\n",
      "<class 'float'>\n",
      "<class 'str'>\n",
      "<class 'NoneType'>\n"
     ]
    }
   ],
   "source": [
    "# List\n",
    "myList = [1, 1.1, \"This is a sentence\", None]\n",
    "for element in myList:\n",
    "    print(type(element))"
   ]
  },
  {
   "cell_type": "code",
<<<<<<< HEAD
   "execution_count": 59,
=======
   "execution_count": 28,
>>>>>>> d59d2f489b93f5b1599ab8f2e69179aee99cede3
   "metadata": {},
   "outputs": [
    {
     "ename": "TypeError",
     "evalue": "unsupported operand type(s) for +: 'float' and 'str'",
     "output_type": "error",
     "traceback": [
<<<<<<< HEAD
      "\u001b[1;31m---------------------------------------------------------------------------\u001b[0m",
      "\u001b[1;31mTypeError\u001b[0m                                 Traceback (most recent call last)",
      "Cell \u001b[1;32mIn[59], line 1\u001b[0m\n\u001b[1;32m----> 1\u001b[0m \u001b[38;5;28;43msum\u001b[39;49m\u001b[43m(\u001b[49m\u001b[43mmyList\u001b[49m\u001b[43m)\u001b[49m\u001b[38;5;241m/\u001b[39m\u001b[38;5;28mlen\u001b[39m(myList) \u001b[38;5;66;03m# can't compute the mean\u001b[39;00m\n",
      "\u001b[1;31mTypeError\u001b[0m: unsupported operand type(s) for +: 'float' and 'str'"
=======
      "\u001b[0;31m---------------------------------------------------------------------------\u001b[0m",
      "\u001b[0;31mTypeError\u001b[0m                                 Traceback (most recent call last)",
      "Cell \u001b[0;32mIn[28], line 1\u001b[0m\n\u001b[0;32m----> 1\u001b[0m \u001b[38;5;28;43msum\u001b[39;49m\u001b[43m(\u001b[49m\u001b[43mmyList\u001b[49m\u001b[43m)\u001b[49m\u001b[38;5;241m/\u001b[39m\u001b[38;5;28mlen\u001b[39m(myList) \u001b[38;5;66;03m# can't compute the mean\u001b[39;00m\n",
      "\u001b[0;31mTypeError\u001b[0m: unsupported operand type(s) for +: 'float' and 'str'"
>>>>>>> d59d2f489b93f5b1599ab8f2e69179aee99cede3
     ]
    }
   ],
   "source": [
    "sum(myList)/len(myList) # can't compute the mean"
   ]
  },
  {
   "cell_type": "code",
<<<<<<< HEAD
   "execution_count": 61,
=======
   "execution_count": 29,
>>>>>>> d59d2f489b93f5b1599ab8f2e69179aee99cede3
   "metadata": {},
   "outputs": [
    {
     "name": "stdout",
     "output_type": "stream",
     "text": [
      "<class 'int'>\n",
      "<class 'int'>\n",
      "<class 'int'>\n"
     ]
    },
    {
     "data": {
      "text/plain": [
       "2.0"
      ]
     },
<<<<<<< HEAD
     "execution_count": 61,
=======
     "execution_count": 29,
>>>>>>> d59d2f489b93f5b1599ab8f2e69179aee99cede3
     "metadata": {},
     "output_type": "execute_result"
    }
   ],
   "source": [
    "# List\n",
    "myList = [1, 2, 3]\n",
    "for element in myList:\n",
    "    print(type(element))\n",
    "sum(myList)/len(myList) # note that this outputs a float"
   ]
  },
  {
   "cell_type": "code",
<<<<<<< HEAD
   "execution_count": 62,
=======
   "execution_count": 30,
>>>>>>> d59d2f489b93f5b1599ab8f2e69179aee99cede3
   "metadata": {},
   "outputs": [
    {
     "data": {
      "text/plain": [
       "'third'"
      ]
     },
<<<<<<< HEAD
     "execution_count": 62,
=======
     "execution_count": 30,
>>>>>>> d59d2f489b93f5b1599ab8f2e69179aee99cede3
     "metadata": {},
     "output_type": "execute_result"
    }
   ],
   "source": [
    "myList = ['third', 'first', 'medium', 'small', 'large']\n",
    "myList[0]"
   ]
  },
  {
   "cell_type": "code",
<<<<<<< HEAD
   "execution_count": 63,
=======
   "execution_count": 31,
>>>>>>> d59d2f489b93f5b1599ab8f2e69179aee99cede3
   "metadata": {},
   "outputs": [
    {
     "data": {
      "text/plain": [
       "['first', 'large', 'medium', 'small', 'third']"
      ]
     },
<<<<<<< HEAD
     "execution_count": 63,
=======
     "execution_count": 31,
>>>>>>> d59d2f489b93f5b1599ab8f2e69179aee99cede3
     "metadata": {},
     "output_type": "execute_result"
    }
   ],
   "source": [
    "myList.sort()\n",
    "myList"
   ]
  },
  {
   "attachments": {},
   "cell_type": "markdown",
   "metadata": {},
   "source": [
    "**Dictionaries**\n",
    "\n",
    "Dictionaries are used to store data values in key:value pairs.\n",
    "\n",
    "A dictionary is a collection which is ordered*, changeable and do not allow duplicates."
   ]
  },
  {
   "cell_type": "code",
<<<<<<< HEAD
   "execution_count": 64,
=======
   "execution_count": 32,
>>>>>>> d59d2f489b93f5b1599ab8f2e69179aee99cede3
   "metadata": {},
   "outputs": [
    {
     "name": "stdout",
     "output_type": "stream",
     "text": [
      "{'Landuse': 'Agriculture', 'Cover': 24.5, 'year': 2015}\n"
     ]
    }
   ],
   "source": [
    "mydict = {\n",
    "  \"Landuse\": \"Agriculture\",\n",
    "  \"Cover\": 24.5,\n",
    "  \"year\": 2015\n",
    "}\n",
    "print(mydict)"
   ]
  },
  {
   "cell_type": "code",
<<<<<<< HEAD
   "execution_count": 65,
=======
   "execution_count": 33,
>>>>>>> d59d2f489b93f5b1599ab8f2e69179aee99cede3
   "metadata": {},
   "outputs": [
    {
     "name": "stdout",
     "output_type": "stream",
     "text": [
      "{'Landuse': 'Agriculture', 'Cover': 24.5, 'year': 2015}\n"
     ]
    }
   ],
   "source": [
    "# in alternative:\n",
    "mydict = dict(Landuse = \"Agriculture\", Cover = 24.5, year = 2015)\n",
    "print(mydict)"
   ]
  },
  {
   "cell_type": "code",
<<<<<<< HEAD
   "execution_count": 66,
=======
   "execution_count": 34,
>>>>>>> d59d2f489b93f5b1599ab8f2e69179aee99cede3
   "metadata": {},
   "outputs": [
    {
     "name": "stdout",
     "output_type": "stream",
     "text": [
      "<class 'str'>\n",
      "<class 'str'>\n",
      "<class 'str'>\n"
     ]
    }
   ],
   "source": [
    "for element in mydict:\n",
    "    print(type(element))"
   ]
  },
  {
   "cell_type": "code",
<<<<<<< HEAD
   "execution_count": 67,
=======
   "execution_count": 35,
>>>>>>> d59d2f489b93f5b1599ab8f2e69179aee99cede3
   "metadata": {},
   "outputs": [
    {
     "data": {
      "text/plain": [
       "int"
      ]
     },
<<<<<<< HEAD
     "execution_count": 67,
=======
     "execution_count": 35,
>>>>>>> d59d2f489b93f5b1599ab8f2e69179aee99cede3
     "metadata": {},
     "output_type": "execute_result"
    }
   ],
   "source": [
    "type(mydict[\"year\"])"
   ]
  },
  {
   "cell_type": "code",
<<<<<<< HEAD
   "execution_count": 68,
=======
   "execution_count": 36,
>>>>>>> d59d2f489b93f5b1599ab8f2e69179aee99cede3
   "metadata": {},
   "outputs": [
    {
     "name": "stdout",
     "output_type": "stream",
     "text": [
      "Agriculture\n"
     ]
    }
   ],
   "source": [
    "print(mydict[\"Landuse\"])"
   ]
  },
  {
   "cell_type": "code",
<<<<<<< HEAD
   "execution_count": 69,
=======
   "execution_count": 37,
>>>>>>> d59d2f489b93f5b1599ab8f2e69179aee99cede3
   "metadata": {},
   "outputs": [
    {
     "data": {
      "text/plain": [
       "dict_keys(['Landuse', 'Cover', 'year'])"
      ]
     },
<<<<<<< HEAD
     "execution_count": 69,
=======
     "execution_count": 37,
>>>>>>> d59d2f489b93f5b1599ab8f2e69179aee99cede3
     "metadata": {},
     "output_type": "execute_result"
    }
   ],
   "source": [
    "mydict.keys()"
   ]
  },
  {
   "cell_type": "code",
<<<<<<< HEAD
   "execution_count": 70,
=======
   "execution_count": 38,
>>>>>>> d59d2f489b93f5b1599ab8f2e69179aee99cede3
   "metadata": {},
   "outputs": [
    {
     "data": {
      "text/plain": [
       "dict_values(['Agriculture', 24.5, 2015])"
      ]
     },
<<<<<<< HEAD
     "execution_count": 70,
=======
     "execution_count": 38,
>>>>>>> d59d2f489b93f5b1599ab8f2e69179aee99cede3
     "metadata": {},
     "output_type": "execute_result"
    }
   ],
   "source": [
    "mydict.values()"
   ]
  },
  {
   "cell_type": "code",
<<<<<<< HEAD
   "execution_count": 71,
=======
   "execution_count": 39,
>>>>>>> d59d2f489b93f5b1599ab8f2e69179aee99cede3
   "metadata": {},
   "outputs": [
    {
     "name": "stdout",
     "output_type": "stream",
     "text": [
      "{'Landuse': 'Agriculture', 'Cover': 24.5, 'year': 2015, 'county': 'Odemira'}\n"
     ]
    }
   ],
   "source": [
    "# add keys\n",
    "mydict[\"county\"] = \"Odemira\"\n",
    "print(mydict)"
   ]
  },
  {
   "cell_type": "code",
<<<<<<< HEAD
   "execution_count": 72,
=======
   "execution_count": 40,
>>>>>>> d59d2f489b93f5b1599ab8f2e69179aee99cede3
   "metadata": {},
   "outputs": [
    {
     "name": "stdout",
     "output_type": "stream",
     "text": [
      "{'Landuse': 'Agriculture', 'Cover': 24.5, 'year': 2020, 'county': 'Odemira'}\n"
     ]
    }
   ],
   "source": [
    "# Change values\n",
    "mydict[\"year\"] = 2020\n",
    "print(mydict)"
   ]
  },
  {
   "cell_type": "code",
<<<<<<< HEAD
   "execution_count": 73,
=======
   "execution_count": 41,
>>>>>>> d59d2f489b93f5b1599ab8f2e69179aee99cede3
   "metadata": {},
   "outputs": [
    {
     "name": "stdout",
     "output_type": "stream",
     "text": [
      "{'Landuse': 'Agriculture', 'Cover': 24.5, 'year': 2020}\n"
     ]
    }
   ],
   "source": [
    "# no repetitions are allowed\n",
    "mydict = {\n",
    "  \"Landuse\": \"Agriculture\",\n",
    "  \"Cover\": 24.5,\n",
    "  \"year\": 2015,\n",
    "  \"year\": 2020\n",
    "}\n",
    "print(mydict)"
   ]
  },
  {
   "cell_type": "code",
<<<<<<< HEAD
   "execution_count": 74,
=======
   "execution_count": 42,
>>>>>>> d59d2f489b93f5b1599ab8f2e69179aee99cede3
   "metadata": {},
   "outputs": [
    {
     "name": "stdout",
     "output_type": "stream",
     "text": [
      "{'landuse': ['forest', 'pasture', 'cropland', 'urban'], 'cover': [4, 5, 60.54, 8.42]}\n"
     ]
    }
   ],
   "source": [
    "mydict2 = {'landuse': ['forest', 'pasture', 'cropland', 'urban'], 'cover': [4, 5, 60.54, 8.42]}\n",
    "print(mydict2)"
   ]
  },
  {
   "attachments": {},
   "cell_type": "markdown",
   "metadata": {},
   "source": [
    "**Tuples**\n",
    "\n",
    "Tuples are used to store multiple items in a single variable.\n",
    "\n",
    "A tuple is a collection which is ordered and unchangeable."
   ]
  },
  {
   "cell_type": "code",
<<<<<<< HEAD
   "execution_count": 75,
=======
   "execution_count": 43,
>>>>>>> d59d2f489b93f5b1599ab8f2e69179aee99cede3
   "metadata": {},
   "outputs": [
    {
     "name": "stdout",
     "output_type": "stream",
     "text": [
      "('Agriculture', 24.5, 2015)\n"
     ]
    }
   ],
   "source": [
    "mytuple = (\"Agriculture\", 24.5, 2015)\n",
    "print(mytuple)"
   ]
  },
  {
   "cell_type": "code",
<<<<<<< HEAD
   "execution_count": 76,
=======
   "execution_count": 44,
>>>>>>> d59d2f489b93f5b1599ab8f2e69179aee99cede3
   "metadata": {},
   "outputs": [
    {
     "name": "stdout",
     "output_type": "stream",
     "text": [
      "('Agriculture', 24.5, 2015)\n"
     ]
    }
   ],
   "source": [
    "# Alternative using tuple() constructor\n",
    "mytuple = tuple((\"Agriculture\", 24.5, 2015))\n",
    "print(mytuple)"
   ]
  },
  {
   "cell_type": "code",
<<<<<<< HEAD
   "execution_count": 77,
=======
   "execution_count": 45,
>>>>>>> d59d2f489b93f5b1599ab8f2e69179aee99cede3
   "metadata": {},
   "outputs": [
    {
     "name": "stdout",
     "output_type": "stream",
     "text": [
      "<class 'str'>\n",
      "<class 'float'>\n",
      "<class 'int'>\n"
     ]
    }
   ],
   "source": [
    "for element in mytuple:\n",
    "    print(type(element))"
   ]
  },
  {
   "cell_type": "code",
<<<<<<< HEAD
   "execution_count": 78,
=======
   "execution_count": 46,
>>>>>>> d59d2f489b93f5b1599ab8f2e69179aee99cede3
   "metadata": {},
   "outputs": [
    {
     "data": {
      "text/plain": [
       "3"
      ]
     },
<<<<<<< HEAD
     "execution_count": 78,
=======
     "execution_count": 46,
>>>>>>> d59d2f489b93f5b1599ab8f2e69179aee99cede3
     "metadata": {},
     "output_type": "execute_result"
    }
   ],
   "source": [
    "len(mytuple)"
   ]
  },
  {
   "cell_type": "code",
<<<<<<< HEAD
   "execution_count": 79,
=======
   "execution_count": 47,
>>>>>>> d59d2f489b93f5b1599ab8f2e69179aee99cede3
   "metadata": {},
   "outputs": [
    {
     "name": "stdout",
     "output_type": "stream",
     "text": [
      "<class 'tuple'>\n"
     ]
    }
   ],
   "source": [
    "# one item tuple (remember the comma at the end)\n",
    "thistuple = (\"apple\",)\n",
    "print(type(thistuple))"
   ]
  },
  {
   "cell_type": "code",
<<<<<<< HEAD
   "execution_count": 80,
=======
   "execution_count": 48,
>>>>>>> d59d2f489b93f5b1599ab8f2e69179aee99cede3
   "metadata": {},
   "outputs": [
    {
     "name": "stdout",
     "output_type": "stream",
     "text": [
      "<class 'str'>\n"
     ]
    }
   ],
   "source": [
    "thistuple = (\"apple\")\n",
    "print(type(thistuple))"
   ]
  },
  {
   "attachments": {},
   "cell_type": "markdown",
   "metadata": {},
   "source": [
    "### Numpy data types\n",
    "\n",
    "**Arrays**\n",
    "\n",
    "A numpy array is a grid of values, all of the same type, and is **indexed by a tuple** of nonnegative integers. The number of dimensions is the **rank** of the array; the **shape** of an array is a tuple of integers giving the size of the array along each dimension. Possible data types within arrays are: bool, int, float, long, double and long double."
   ]
  },
  {
   "cell_type": "code",
<<<<<<< HEAD
   "execution_count": 81,
=======
   "execution_count": 49,
>>>>>>> d59d2f489b93f5b1599ab8f2e69179aee99cede3
   "metadata": {},
   "outputs": [
    {
     "name": "stdout",
     "output_type": "stream",
     "text": [
      "[ 1  5 24 67]\n"
     ]
    }
   ],
   "source": [
    "import numpy as np\n",
    "\n",
    "# create a 1D array\n",
    "a1 = np.array([1,5,24,67])\n",
    "print(a1)"
   ]
  },
  {
   "cell_type": "code",
<<<<<<< HEAD
   "execution_count": 82,
=======
   "execution_count": 50,
>>>>>>> d59d2f489b93f5b1599ab8f2e69179aee99cede3
   "metadata": {},
   "outputs": [
    {
     "name": "stdout",
     "output_type": "stream",
     "text": [
      "[[ 1  5 24 67]\n",
      " [ 3  6 26 85]\n",
      " [ 6 13 54 71]]\n"
     ]
    }
   ],
   "source": [
    "# create a 2D array\n",
    "a2 = np.array([[1,5,24,67], [3,6,26,85], [6,13,54,71]])\n",
    "print(a2)"
   ]
  },
  {
   "cell_type": "code",
<<<<<<< HEAD
   "execution_count": 83,
=======
   "execution_count": 51,
>>>>>>> d59d2f489b93f5b1599ab8f2e69179aee99cede3
   "metadata": {},
   "outputs": [
    {
     "name": "stdout",
     "output_type": "stream",
     "text": [
      "[[[ 1  5 24 67]\n",
      "  [ 3  6 26 85]\n",
      "  [ 6 13 54 71]\n",
      "  [ 2  9 31 54]]]\n"
     ]
    }
   ],
   "source": [
    "# create a 3D array\n",
    "a3 = np.array([[[1,5,24,67], [3,6,26,85], [6,13,54,71], [2,9,31,54]]])\n",
    "print(a3)"
   ]
  },
  {
   "cell_type": "code",
<<<<<<< HEAD
   "execution_count": 84,
=======
   "execution_count": 52,
>>>>>>> d59d2f489b93f5b1599ab8f2e69179aee99cede3
   "metadata": {},
   "outputs": [
    {
     "name": "stdout",
     "output_type": "stream",
     "text": [
      "<class 'numpy.ndarray'>\n",
      "int64\n",
      "(3, 4)\n",
      "(128, 32, 8)\n"
     ]
    }
   ],
   "source": [
    "print(type(a1))\n",
    "print(a1.dtype)\n",
    "print(a2.shape)\n",
    "print(a3.strides)"
   ]
  },
  {
   "cell_type": "code",
<<<<<<< HEAD
   "execution_count": 85,
=======
   "execution_count": 53,
>>>>>>> d59d2f489b93f5b1599ab8f2e69179aee99cede3
   "metadata": {},
   "outputs": [
    {
     "name": "stdout",
     "output_type": "stream",
     "text": [
      "int64\n",
      "[1 2]\n"
     ]
    }
   ],
   "source": [
    "a4 = np.array([1.7, 2.0], dtype=np.int64) # force a given data type\n",
    "print(a4.dtype)\n",
    "print(a4)"
   ]
  },
  {
   "cell_type": "code",
<<<<<<< HEAD
   "execution_count": 86,
=======
   "execution_count": 54,
>>>>>>> d59d2f489b93f5b1599ab8f2e69179aee99cede3
   "metadata": {},
   "outputs": [
    {
     "name": "stdout",
     "output_type": "stream",
     "text": [
      "[[0. 0. 0. 0.]\n",
      " [0. 0. 0. 0.]\n",
      " [0. 0. 0. 0.]]\n",
      "[[1. 1. 1. 1. 1.]\n",
      " [1. 1. 1. 1. 1.]]\n",
      "[[4 4]\n",
      " [4 4]\n",
      " [4 4]]\n",
<<<<<<< HEAD
      "[[6.23042070e-307 4.67296746e-307]\n",
      " [1.69121096e-306 2.22520559e-306]\n",
      " [1.89146896e-307 7.56571288e-307]]\n"
=======
      "[[0. 0.]\n",
      " [0. 0.]\n",
      " [0. 0.]]\n"
>>>>>>> d59d2f489b93f5b1599ab8f2e69179aee99cede3
     ]
    }
   ],
   "source": [
    "azeros = np.zeros((3,4))\n",
    "aones = np.ones((2,5))\n",
    "afull = np.full((3,2),4)\n",
    "aempty = np.empty((3,2))\n",
    "print(azeros)\n",
    "print(aones)\n",
    "print(afull)\n",
    "print(aempty)"
   ]
  },
  {
   "cell_type": "code",
<<<<<<< HEAD
   "execution_count": 87,
=======
   "execution_count": 55,
>>>>>>> d59d2f489b93f5b1599ab8f2e69179aee99cede3
   "metadata": {},
   "outputs": [
    {
     "name": "stdout",
     "output_type": "stream",
     "text": [
      "[ 0  5 10 15 20]\n",
      "[ 0.    6.25 12.5  18.75 25.  ]\n"
     ]
    }
   ],
   "source": [
    "aseq = np.arange(0,25,5) # sequence between 0 and 25 with 5 interval (equivalent to range)\n",
    "aseq2 = np.linspace(0,25,5) # sequence between 0 and 25, 5 elements equally spaced\n",
    "print(aseq)\n",
    "print(aseq2)"
   ]
  },
  {
   "attachments": {},
   "cell_type": "markdown",
   "metadata": {},
   "source": [
    "### Pandas data types\n",
    "\n",
    "**DataFrames**\n",
    "\n",
    "DataFrame is the main data structure that Pandas works with - two-dimensional table of data in which the rows typically represent cases and the columns represent variables. Data types may vary among columns. Pandas also has a one-dimensional data structure called a **Series** that we will encounter when accessing a single column of a Data Frame (see below). \n",
    "\n",
    "When you import a table in csv format, using the pandas' function pd.read_csv():\n",
    "```\n",
    "df = pd.read_csv(url)\n",
    "type(df)\n",
    "\n",
    "pandas.core.frame.DataFrame\n",
    "```\n",
    "... the imported table will be a DataFrame.\n"
   ]
  },
  {
   "cell_type": "code",
<<<<<<< HEAD
   "execution_count": 88,
=======
   "execution_count": 56,
>>>>>>> d59d2f489b93f5b1599ab8f2e69179aee99cede3
   "metadata": {},
   "outputs": [
    {
     "name": "stdout",
     "output_type": "stream",
     "text": [
      "    landuse  cover\n",
      "0    forest   4.00\n",
      "1   pasture   5.00\n",
      "2  cropland  60.54\n",
      "3     urban   8.42\n"
     ]
    }
   ],
   "source": [
    "import pandas as pd\n",
    "\n",
    "mydict2 = {'landuse': ['forest', 'pasture', 'cropland', 'urban'], 'cover': [4, 5, 60.54, 8.42]}\n",
    "mydf = pd.DataFrame(mydict2)\n",
    "print(mydf)"
   ]
  },
  {
   "cell_type": "code",
<<<<<<< HEAD
   "execution_count": 89,
=======
   "execution_count": 57,
>>>>>>> d59d2f489b93f5b1599ab8f2e69179aee99cede3
   "metadata": {},
   "outputs": [
    {
     "data": {
      "text/html": [
       "<div>\n",
       "<style scoped>\n",
       "    .dataframe tbody tr th:only-of-type {\n",
       "        vertical-align: middle;\n",
       "    }\n",
       "\n",
       "    .dataframe tbody tr th {\n",
       "        vertical-align: top;\n",
       "    }\n",
       "\n",
       "    .dataframe thead th {\n",
       "        text-align: right;\n",
       "    }\n",
       "</style>\n",
       "<table border=\"1\" class=\"dataframe\">\n",
       "  <thead>\n",
       "    <tr style=\"text-align: right;\">\n",
       "      <th></th>\n",
       "      <th>landuse</th>\n",
       "      <th>cover</th>\n",
       "    </tr>\n",
       "  </thead>\n",
       "  <tbody>\n",
       "    <tr>\n",
       "      <th>0</th>\n",
       "      <td>forest</td>\n",
       "      <td>4.0</td>\n",
       "    </tr>\n",
       "    <tr>\n",
       "      <th>1</th>\n",
       "      <td>pasture</td>\n",
       "      <td>5.0</td>\n",
       "    </tr>\n",
       "  </tbody>\n",
       "</table>\n",
       "</div>"
      ],
      "text/plain": [
       "   landuse  cover\n",
       "0   forest    4.0\n",
       "1  pasture    5.0"
      ]
     },
<<<<<<< HEAD
     "execution_count": 89,
=======
     "execution_count": 57,
>>>>>>> d59d2f489b93f5b1599ab8f2e69179aee99cede3
     "metadata": {},
     "output_type": "execute_result"
    }
   ],
   "source": [
    "mydf.head(2)"
   ]
  },
  {
   "cell_type": "code",
<<<<<<< HEAD
   "execution_count": 90,
=======
   "execution_count": 58,
>>>>>>> d59d2f489b93f5b1599ab8f2e69179aee99cede3
   "metadata": {},
   "outputs": [
    {
     "name": "stdout",
     "output_type": "stream",
     "text": [
      "Index(['landuse', 'cover'], dtype='object')\n"
     ]
    },
    {
     "data": {
      "text/plain": [
       "['landuse', 'cover']"
      ]
     },
<<<<<<< HEAD
     "execution_count": 90,
=======
     "execution_count": 58,
>>>>>>> d59d2f489b93f5b1599ab8f2e69179aee99cede3
     "metadata": {},
     "output_type": "execute_result"
    }
   ],
   "source": [
    "col = mydf.columns\n",
    "print(col)\n",
    "list(col)"
   ]
  },
  {
   "cell_type": "code",
<<<<<<< HEAD
   "execution_count": 91,
=======
   "execution_count": 59,
>>>>>>> d59d2f489b93f5b1599ab8f2e69179aee99cede3
   "metadata": {},
   "outputs": [
    {
     "name": "stdout",
     "output_type": "stream",
     "text": [
      "landuse     object\n",
      "cover      float64\n",
      "dtype: object\n"
     ]
    }
   ],
   "source": [
    "print(mydf.dtypes) # Note: an object dtype is equivalent to a python string type; columns with mixed types are stored with the object dtype."
   ]
  },
  {
   "cell_type": "code",
<<<<<<< HEAD
   "execution_count": 92,
=======
   "execution_count": 60,
>>>>>>> d59d2f489b93f5b1599ab8f2e69179aee99cede3
   "metadata": {},
   "outputs": [
    {
     "name": "stdout",
     "output_type": "stream",
     "text": [
      "(4, 2)\n"
     ]
    }
   ],
   "source": [
    "print(mydf.shape)"
   ]
  },
  {
   "attachments": {},
   "cell_type": "markdown",
   "metadata": {},
   "source": [
    "**Series**\n",
    "\n",
    "Panda Series is a one-dimensional sequential data structure that is able to handle any data type of data, such as string, numeric, datetime, lists and dictionaries.\n",
    "A column of a DataFrame is equivalent to a Series."
   ]
  },
  {
   "cell_type": "code",
<<<<<<< HEAD
   "execution_count": 93,
=======
   "execution_count": 61,
>>>>>>> d59d2f489b93f5b1599ab8f2e69179aee99cede3
   "metadata": {},
   "outputs": [
    {
     "name": "stdout",
     "output_type": "stream",
     "text": [
      "Landuse    Agriculture\n",
      "Cover             24.5\n",
      "year              2015\n",
      "dtype: object\n"
     ]
    }
   ],
   "source": [
    "mydict = dict(Landuse = \"Agriculture\", Cover = 24.5, year = 2015)\n",
    "myseries = pd.Series(mydict)\n",
    "print(myseries)"
   ]
  },
  {
   "cell_type": "code",
<<<<<<< HEAD
   "execution_count": 94,
=======
   "execution_count": 62,
>>>>>>> d59d2f489b93f5b1599ab8f2e69179aee99cede3
   "metadata": {},
   "outputs": [
    {
     "name": "stdout",
     "output_type": "stream",
     "text": [
      "(3,)\n"
     ]
    }
   ],
   "source": [
    "print(myseries.shape)"
   ]
  },
  {
   "cell_type": "code",
<<<<<<< HEAD
   "execution_count": 95,
=======
   "execution_count": 63,
>>>>>>> d59d2f489b93f5b1599ab8f2e69179aee99cede3
   "metadata": {},
   "outputs": [
    {
     "name": "stdout",
     "output_type": "stream",
     "text": [
      "0     1\n",
      "1     5\n",
      "2    24\n",
      "3    67\n",
      "dtype: int64\n"
     ]
    }
   ],
   "source": [
    "a1 = np.array([1,5,24,67])\n",
    "myseries2 = pd.Series(a1)\n",
    "print(myseries2)"
   ]
  },
  {
   "cell_type": "code",
<<<<<<< HEAD
   "execution_count": 96,
=======
   "execution_count": 64,
>>>>>>> d59d2f489b93f5b1599ab8f2e69179aee99cede3
   "metadata": {},
   "outputs": [
    {
     "name": "stdout",
     "output_type": "stream",
     "text": [
      "1    10\n",
      "2    10\n",
      "3    10\n",
      "4    10\n",
      "5    10\n",
      "dtype: int64\n"
     ]
    }
   ],
   "source": [
    "myseries3 = pd.Series(10, index=[1,2,3,4,5])\n",
    "print(myseries3)"
   ]
  },
  {
   "cell_type": "code",
<<<<<<< HEAD
   "execution_count": 97,
=======
   "execution_count": 65,
>>>>>>> d59d2f489b93f5b1599ab8f2e69179aee99cede3
   "metadata": {},
   "outputs": [
    {
     "data": {
      "text/plain": [
       "pandas.core.series.Series"
      ]
     },
<<<<<<< HEAD
     "execution_count": 97,
     "metadata": {},
     "output_type": "execute_result"
    },
    {
     "ename": "",
     "evalue": "",
     "output_type": "error",
     "traceback": [
      "\u001b[1;31mThe Kernel crashed while executing code in the current cell or a previous cell. \n",
      "\u001b[1;31mPlease review the code in the cell(s) to identify a possible cause of the failure. \n",
      "\u001b[1;31mClick <a href='https://aka.ms/vscodeJupyterKernelCrash'>here</a> for more info. \n",
      "\u001b[1;31mView Jupyter <a href='command:jupyter.viewOutput'>log</a> for further details."
     ]
=======
     "execution_count": 65,
     "metadata": {},
     "output_type": "execute_result"
>>>>>>> d59d2f489b93f5b1599ab8f2e69179aee99cede3
    }
   ],
   "source": [
    "myseries4 = mydf['cover']\n",
    "type(myseries4)"
   ]
  }
 ],
 "metadata": {
  "kernelspec": {
   "display_name": "Python 3 (ipykernel)",
   "language": "python",
   "name": "python3"
  },
  "language_info": {
   "codemirror_mode": {
    "name": "ipython",
    "version": 3
   },
   "file_extension": ".py",
   "mimetype": "text/x-python",
   "name": "python",
   "nbconvert_exporter": "python",
   "pygments_lexer": "ipython3",
<<<<<<< HEAD
   "version": "3.13.0"
=======
   "version": "3.12.6"
>>>>>>> d59d2f489b93f5b1599ab8f2e69179aee99cede3
  },
  "vscode": {
   "interpreter": {
    "hash": "c1feabf7e8a865ca736166e32c78c4ec872a0ffdcd99b8b8313fe458b2adfcbf"
   }
  }
 },
 "nbformat": 4,
 "nbformat_minor": 4
}
