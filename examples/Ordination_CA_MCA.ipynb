{
 "cells": [
  {
   "cell_type": "markdown",
   "metadata": {},
   "source": [
    "# Analysis and Visualization of Complex Agro-Environmental Data\n",
    "---\n",
    "## Ordination: Correspondence Analysis and Multiple Correspondence Analysis\n",
    "\n",
    "CA and MCA are the equivalent of PCA for categorical nominal variables. While CA is applicable to two categorical variables, MCA is used to analyse more than two categorical variables.\n",
    "These methods are implemented in Python in the `Prince` package https://github.com/MaxHalford/prince"
   ]
  },
  {
   "cell_type": "code",
   "execution_count": null,
   "metadata": {},
   "outputs": [],
   "source": [
    "import numpy as np\n",
    "import pandas as pd\n",
    "import matplotlib.pyplot as plt\n",
    "import seaborn as sns\n",
    "import prince # https://github.com/MaxHalford/prince"
   ]
  },
  {
   "cell_type": "markdown",
   "metadata": {},
   "source": [
    "## 1. Correspondence Analysis (CA)\n",
    "\n",
    "Correspondence analysis is used to analyse the dependency between two categorical variables. It is based on contingency tables.\n",
    "In the next example we will use EFIplus table to relate fish species composition with a selection of four portuguese catchments (Douro, Tejo, Minho, Mondego and Vouga). The first step is to produce a contingency table between fish species and catchment name to get the sum of sites with each fish species for each catchment. We are therefore relating only two categorical variables: `fish species` and `catchment names`.\n",
    "\n",
    "This analysis can be useful for example to answer the following questions:\n",
    "\n",
    "* How fish species associate with each ather accross the river catchments?\n",
    "\n",
    "* How are the fish species associated to each river catchment?"
   ]
  },
  {
   "cell_type": "code",
   "execution_count": null,
   "metadata": {},
   "outputs": [],
   "source": [
    "df = pd.read_csv('EFIplus_medit.zip',compression='zip', sep=\";\")\n",
    "df = df.dropna() # remove all rows with missing data\n",
    "# Subset the df by selecting the environmental variables and the species richness columns\n",
    "dfsub = df[(df['Catchment_name']=='Douro') | (df['Catchment_name']=='Tejo') | (df['Catchment_name']=='Minho') | (df['Catchment_name']=='Mondego') | (df['Catchment_name']=='Vouga')]"
   ]
  },
  {
   "cell_type": "code",
   "execution_count": null,
   "metadata": {},
   "outputs": [],
   "source": [
    "df.info('columns')"
   ]
  },
  {
   "cell_type": "code",
   "execution_count": null,
   "metadata": {},
   "outputs": [],
   "source": [
    "list_sp = [57, 68, 102, 108, 110, 144, 150] # selection of fish species\n",
    "df_fish = dfsub.iloc[:,list_sp] # get table with fish data only (columns 54 to 161)\n",
    "df_fish.insert(0, 'Catchment_name', dfsub['Catchment_name'], True)\n",
    "df_fish_ct = df_fish.groupby(['Catchment_name'], as_index = False).agg('sum') # contingency table between fish species and catchment name"
   ]
  },
  {
   "cell_type": "code",
   "execution_count": null,
   "metadata": {},
   "outputs": [],
   "source": [
    "df_fish_ct.set_index('Catchment_name', drop=True, inplace=True) # convert catchment_name to index\n",
    "df_fish_ct"
   ]
  },
  {
   "cell_type": "code",
   "execution_count": null,
   "metadata": {},
   "outputs": [],
   "source": [
    "ca = prince.CA(\n",
    "    n_components=3,\n",
    "    n_iter=3,\n",
    "    copy=True,\n",
    "    check_input=True,\n",
    "    engine='sklearn',\n",
    "    random_state=42\n",
    ")\n",
    "ca = ca.fit(df_fish_ct)"
   ]
  },
  {
   "cell_type": "markdown",
   "metadata": {},
   "source": [
    "Eigenvalues"
   ]
  },
  {
   "cell_type": "code",
   "execution_count": null,
   "metadata": {},
   "outputs": [],
   "source": [
    "ca.eigenvalues_summary"
   ]
  },
  {
   "cell_type": "markdown",
   "metadata": {},
   "source": [
    "Coordinates"
   ]
  },
  {
   "cell_type": "code",
   "execution_count": null,
   "metadata": {},
   "outputs": [],
   "source": [
    "# row coordinates\n",
    "ca.row_coordinates(df_fish_ct).head()"
   ]
  },
  {
   "cell_type": "code",
   "execution_count": null,
   "metadata": {},
   "outputs": [],
   "source": [
    "# columns coordinates\n",
    "ca.column_coordinates(df_fish_ct).head()"
   ]
  },
  {
   "cell_type": "code",
   "execution_count": null,
   "metadata": {},
   "outputs": [],
   "source": [
    "ca.plot(\n",
    "    df_fish_ct,\n",
    "    x_component=0,\n",
    "    y_component=1,\n",
    "    show_row_markers=True,\n",
    "    show_column_markers=True,\n",
    "    show_row_labels=True,\n",
    "    show_column_labels=False\n",
    ").properties(\n",
    "    width=500,\n",
    "    height=500,\n",
    ")"
   ]
  },
  {
   "cell_type": "markdown",
   "metadata": {},
   "source": [
    "Visualize only columns"
   ]
  },
  {
   "cell_type": "code",
   "execution_count": null,
   "metadata": {},
   "outputs": [],
   "source": [
    "ca.plot(\n",
    "    df_fish_ct,\n",
    "    x_component=0,\n",
    "    y_component=1,\n",
    "    show_row_markers=False,\n",
    "    show_column_markers=False,\n",
    "    show_row_labels=False,\n",
    "    show_column_labels=True\n",
    ").properties(\n",
    "    width=500,\n",
    "    height=500,\n",
    ")"
   ]
  },
  {
   "cell_type": "markdown",
   "metadata": {},
   "source": [
    "Visualize only rows"
   ]
  },
  {
   "cell_type": "code",
   "execution_count": null,
   "metadata": {},
   "outputs": [],
   "source": [
    "ca.plot(\n",
    "    df_fish_ct,\n",
    "    x_component=0,\n",
    "    y_component=1,\n",
    "    show_row_markers=False,\n",
    "    show_column_markers=False,\n",
    "    show_row_labels=True,\n",
    "    show_column_labels=False\n",
    ").properties(\n",
    "    width=500,\n",
    "    height=500,\n",
    ")"
   ]
  },
  {
   "cell_type": "markdown",
   "metadata": {},
   "source": [
    "Contributions"
   ]
  },
  {
   "cell_type": "code",
   "execution_count": null,
   "metadata": {},
   "outputs": [],
   "source": [
    "# Contribution of rows\n",
    "ca.row_contributions_.head().style.format('{:.0%}')"
   ]
  },
  {
   "cell_type": "code",
   "execution_count": null,
   "metadata": {},
   "outputs": [],
   "source": [
    "# Contribution of columns\n",
    "ca.column_contributions_.head().style.format('{:.0%}')"
   ]
  },
  {
   "cell_type": "markdown",
   "metadata": {},
   "source": [
    "## 2. Multiple Correspondence Analysis\n",
    "\n",
    "MCA is an extension of simple correspondence analysis (CA) applicable to more than two categorical variables. In the following example we will use the EFIplus table to explore the relationships between sites and pressure variables. Pressure variables are coded as discrete ordinal variables and MCA is the most suitable ordination technique in this case. First we will select a table with pressure variables only.\n",
    "\n",
    "This analysis can be useful to answer the following questions:\n",
    "\n",
    "* How the different pressures associate with each ather accross sites?\n",
    "\n",
    "* How different sites associate with each other according to the pressures that affect them?\n",
    "\n",
    "* How to summarize the set of pressures into a a reduced number of dimensions that summarize most of the pressure information?"
   ]
  },
  {
   "cell_type": "code",
   "execution_count": null,
   "metadata": {},
   "outputs": [],
   "source": [
    "df_press = dfsub.iloc[:,33:53] # get table with pressure variables only (columns 33 to 53)\n",
    "df_press = df_press.astype('category')\n",
    "df_press.info('columns')"
   ]
  },
  {
   "cell_type": "code",
   "execution_count": null,
   "metadata": {},
   "outputs": [],
   "source": [
    "# instantiate MCA class\n",
    "mca = prince.MCA(n_components = 2)\n",
    "\n",
    "# get principal components\n",
    "mca = mca.fit(df_press)"
   ]
  },
  {
   "cell_type": "markdown",
   "metadata": {},
   "source": [
    "Get the eigenvalues"
   ]
  },
  {
   "cell_type": "code",
   "execution_count": null,
   "metadata": {},
   "outputs": [],
   "source": [
    "mca.eigenvalues_summary"
   ]
  },
  {
   "cell_type": "markdown",
   "metadata": {},
   "source": [
    "Get the coordinates"
   ]
  },
  {
   "cell_type": "code",
   "execution_count": null,
   "metadata": {},
   "outputs": [],
   "source": [
    "mca.row_coordinates(df_press).head()"
   ]
  },
  {
   "cell_type": "markdown",
   "metadata": {},
   "source": [
    "Visualization of rows and columns in the same plot"
   ]
  },
  {
   "cell_type": "code",
   "execution_count": null,
   "metadata": {},
   "outputs": [],
   "source": [
    "mca.plot(df_press,\n",
    "    x_component=0,\n",
    "    y_component=1,\n",
    "    show_column_markers=True,\n",
    "    show_row_markers=True,\n",
    "    show_column_labels=False,\n",
    "    show_row_labels=False,\n",
    "         ).properties(\n",
    "    width=500,\n",
    "    height=500,\n",
    ")"
   ]
  },
  {
   "cell_type": "markdown",
   "metadata": {},
   "source": [
    "Visualize only columns"
   ]
  },
  {
   "cell_type": "code",
   "execution_count": null,
   "metadata": {},
   "outputs": [],
   "source": [
    "mca.plot(df_press,\n",
    "    x_component=0,\n",
    "    y_component=1,\n",
    "    show_column_markers=False,\n",
    "    show_row_markers=False,\n",
    "    show_column_labels=True,\n",
    "    show_row_labels=False,\n",
    "         ).properties(\n",
    "    width=500,\n",
    "    height=500,\n",
    ")"
   ]
  },
  {
   "cell_type": "markdown",
   "metadata": {},
   "source": [
    "Visualize only rows"
   ]
  },
  {
   "cell_type": "code",
   "execution_count": null,
   "metadata": {},
   "outputs": [],
   "source": [
    "mca.plot(df_press,\n",
    "    x_component=0,\n",
    "    y_component=1,\n",
    "    show_column_markers=False,\n",
    "    show_row_markers=False,\n",
    "    show_column_labels=False,\n",
    "    show_row_labels=True,\n",
    "         ).properties(\n",
    "    width=500,\n",
    "    height=500,\n",
    ")\n"
   ]
  },
  {
   "cell_type": "markdown",
   "metadata": {},
   "source": [
    "Contributions"
   ]
  },
  {
   "cell_type": "code",
   "execution_count": null,
   "metadata": {},
   "outputs": [],
   "source": [
    "# Contribution of rows\n",
    "mca.row_contributions_.head().style.format('{:.0%}')"
   ]
  },
  {
   "cell_type": "code",
   "execution_count": null,
   "metadata": {},
   "outputs": [],
   "source": [
    "# Contribution of columns\n",
    "\n",
    "mca.column_contributions_.head().style.format('{:.0%}')"
   ]
  },
  {
   "cell_type": "markdown",
   "metadata": {},
   "source": [
    "## References\n",
    "https://github.com/MaxHalford/prince/blob/master/README.md\n",
    "\n",
    "https://maxhalford.github.io/prince/ca/\n",
    "\n",
    "https://maxhalford.github.io/prince/mca/\n",
    "\n",
    "https://medium.com/low-code-for-advanced-data-science/understanding-and-applying-correspondence-analysis-cbd0192dec4\n",
    "\n",
    "https://www.kaggle.com/code/jiagengchang/heart-disease-multiple-correspondence-analysis"
   ]
  }
 ],
 "metadata": {
  "kernelspec": {
   "display_name": "Python 3",
   "language": "python",
   "name": "python3"
  },
  "language_info": {
   "codemirror_mode": {
    "name": "ipython",
    "version": 3
   },
   "file_extension": ".py",
   "mimetype": "text/x-python",
   "name": "python",
   "nbconvert_exporter": "python",
   "pygments_lexer": "ipython3",
   "version": "3.11.2"
  }
 },
 "nbformat": 4,
 "nbformat_minor": 2
}
