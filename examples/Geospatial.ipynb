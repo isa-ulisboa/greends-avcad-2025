{
 "cells": [
  {
   "attachments": {},
   "cell_type": "markdown",
   "metadata": {},
   "source": [
    "# Analysis and Visualization of Complex Agro-Environmental Data\n",
    "---\n",
    "## Visualization of Geospatial Data \n",
    "\n"
   ]
  },
  {
   "attachments": {},
   "cell_type": "markdown",
   "metadata": {},
   "source": [
    "### 1. The `Geopandas` module\n",
    "\n",
    "The `Geopandas` introduces some GIS functionalities into `python`. It extends the datatypes used by pandas to allow spatial operations on geometric types. Geometric operations are performed by the `shapely` module. It further depends on the `fiona` module for file access and `matplotlib` for plotting.\n",
    "\n",
    "We will show how to import shapefiles and merge tables, using as an example a visualization of human population density in portuguese municipalities."
   ]
  },
  {
   "cell_type": "code",
   "execution_count": null,
   "metadata": {},
   "outputs": [],
   "source": [
    "import numpy as np\n",
    "import pandas as pd\n",
    "import matplotlib.pyplot as plt\n",
    "import plotly.express as px\n",
    "import matplotlib.pyplot as plt\n",
    "import geopandas as gpd\n",
    "from matplotlib_scalebar.scalebar import ScaleBar\n",
    "import matplotlib.patches as mpatches\n",
    "\n",
    "\n",
    "%matplotlib inline"
   ]
  },
  {
   "attachments": {},
   "cell_type": "markdown",
   "metadata": {},
   "source": [
    "Importing shapefiles (you may need to install `geopandas` and `mapclassify`)"
   ]
  },
  {
   "cell_type": "code",
   "execution_count": null,
   "metadata": {},
   "outputs": [],
   "source": [
    "# Load the shapefile containing Portuguese civil parishes (\"freguesias\") into a GeoDataFrame\n",
    "# NOTE: Update the path if your file is located somewhere else\n",
    "port_regions = gpd.read_file(\"Shapes/DGT/CAOP_2020.shp\")\n",
    "\n",
    "# Display the first 5 rows of the GeoDataFrame to inspect its structure and contents\n",
    "port_regions.head()"
   ]
  },
  {
   "attachments": {},
   "cell_type": "markdown",
   "metadata": {},
   "source": [
    "Plot map"
   ]
  },
  {
   "cell_type": "code",
   "execution_count": null,
   "metadata": {},
   "outputs": [],
   "source": [
    "# Plot the geometries from the GeoDataFrame using GeoPandas' built-in plotting functionality\n",
    "# 'figsize' sets the size of the figure in inches (width=15, height=15)\n",
    "port_regions.plot(figsize=(5, 5))"
   ]
  },
  {
   "attachments": {},
   "cell_type": "markdown",
   "metadata": {},
   "source": [
    "Change colors"
   ]
  },
  {
   "cell_type": "code",
   "execution_count": null,
   "metadata": {},
   "outputs": [],
   "source": [
    "# Plot the polygons in the GeoDataFrame with custom color styling\n",
    "# 'color' fills each polygon with dark green\n",
    "# 'edgecolor' draws the borders of the polygons in black\n",
    "port_regions.plot(figsize=(15, 15), color=\"darkgreen\", edgecolor=\"black\")"
   ]
  },
  {
   "cell_type": "markdown",
   "metadata": {},
   "source": [
    "Adding some of the most relevant map items"
   ]
  },
  {
   "cell_type": "code",
   "execution_count": null,
   "metadata": {},
   "outputs": [],
   "source": [
    "\n",
    "# Create a figure and axis with a custom size (15x15 inches)\n",
    "fig, ax = plt.subplots(figsize=(15, 15))\n",
    "\n",
    "# Plot the GeoDataFrame on the created axes\n",
    "# 'legend=True' is typically used with categorical or numeric columns,\n",
    "# but doesn't do anything meaningful unless a 'column=' is specified.\n",
    "port_regions.plot(ax=ax, legend=True)\n",
    "\n",
    "# Add a title to the map with a custom font size\n",
    "ax.set_title(\"Portuguese Parishes Map\", fontsize=20)\n",
    "\n",
    "# Add a scale bar to the lower right corner of the plot\n",
    "# The first argument is the scale: 1 means 1 map unit = 1 meter\n",
    "# Adjust the scale if your CRS is not in meters (e.g., lat/lon)\n",
    "scalebar = ScaleBar(1, location='lower right')  \n",
    "ax.add_artist(scalebar)\n",
    "# Note: If your shapefile uses a geographic CRS (e.g., EPSG:4326 with degrees), then ScaleBar(1) will be inaccurate, because degrees ≠ meters.\n",
    "#       You may need to reproject first:\n",
    "\n",
    "# Add a simple north arrow\n",
    "# x, y are relative positions in axes coordinates (0 to 1); arrow_length determines the arrow height\n",
    "# Define relative position for north arrow (axes coordinates)\n",
    "x, y, arrow_length = 0.1, 0.9, 0.1\n",
    "ax.annotate('N',\n",
    "            xy=(x, y), xytext=(x, y - arrow_length),  # Arrow from bottom to top\n",
    "            arrowprops=dict(facecolor='black', width=5, headwidth=15),  # Arrow styling\n",
    "            ha='center', va='center',  # Center-align the text\n",
    "            fontsize=16,\n",
    "            xycoords=ax.transAxes)  # Coordinates relative to the axes frame\n",
    "\n",
    "# Optional: Remove axis ticks and labels for a cleaner map look\n",
    "# ax.set_xticks([])\n",
    "# ax.set_yticks([])\n",
    "# ax.set_xlabel('')\n",
    "# ax.set_ylabel('')\n",
    "\n",
    "# Display the plot\n",
    "plt.show()"
   ]
  },
  {
   "attachments": {},
   "cell_type": "markdown",
   "metadata": {},
   "source": [
    "Import shapefile of portuguese municipalities (polygon vector layer)"
   ]
  },
  {
   "cell_type": "code",
   "execution_count": null,
   "metadata": {},
   "outputs": [],
   "source": [
    "# Load shapefile of Portuguese municipalities (\"Concelhos\") into a GeoDataFrame\n",
    "# NOTE: Update the file path if your shapefile is in a different location\n",
    "port_munic = gpd.read_file(\"Shapes/DGT/Concelhos_dd.shp\")\n",
    "\n",
    "# Display the first 5 rows of the GeoDataFrame to inspect columns and geometry\n",
    "port_munic.head()"
   ]
  },
  {
   "attachments": {},
   "cell_type": "markdown",
   "metadata": {},
   "source": [
    "Convert polygon vector layer to point vector layer (using the centroid)"
   ]
  },
  {
   "cell_type": "code",
   "execution_count": null,
   "metadata": {},
   "outputs": [],
   "source": [
    "# Create a copy of the GeoDataFrame containing municipalities\n",
    "# This avoids modifying the original GeoDataFrame\n",
    "port_munic_cent = port_munic.copy()\n",
    "\n",
    "# Replace the 'geometry' column with the centroids of each polygon\n",
    "# The centroid is a point representing the center of each municipality polygon\n",
    "port_munic_cent.geometry = port_munic_cent['geometry'].centroid\n",
    "\n",
    "# Ensure the coordinate reference system (CRS) of the new GeoDataFrame\n",
    "# is the same as the original, to maintain spatial referencing consistency\n",
    "port_munic_cent.crs = port_munic.crs\n",
    "\n",
    "# Display the first 5 rows of the GeoDataFrame with centroid geometries\n",
    "port_munic_cent.head()"
   ]
  },
  {
   "attachments": {},
   "cell_type": "markdown",
   "metadata": {},
   "source": [
    "Plot the map"
   ]
  },
  {
   "cell_type": "code",
   "execution_count": null,
   "metadata": {},
   "outputs": [],
   "source": [
    "# Plot the polygons from the municipalities GeoDataFrame (size - width=15 inches, height=15 inches)\n",
    "port_munic.plot(figsize=(15, 15))"
   ]
  },
  {
   "attachments": {},
   "cell_type": "markdown",
   "metadata": {},
   "source": [
    "Plot map and centroids"
   ]
  },
  {
   "cell_type": "code",
   "execution_count": null,
   "metadata": {},
   "outputs": [],
   "source": [
    "# Plot the municipalities polygons and capture the matplotlib Axes object\n",
    "ax = port_munic.plot(figsize=(15, 15))\n",
    "\n",
    "# Plot the centroids (points) on the same Axes 'ax'\n",
    "# color=\"white\" fills the points with white\n",
    "# alpha=0.7 sets the transparency to 70%\n",
    "# ax=ax ensures both layers plot on the same figure\n",
    "port_munic_cent.plot(color=\"white\", alpha=0.7, ax=ax)"
   ]
  },
  {
   "attachments": {},
   "cell_type": "markdown",
   "metadata": {},
   "source": [
    "Import csv table with population density per municipality in Portugal"
   ]
  },
  {
   "cell_type": "code",
   "execution_count": null,
   "metadata": {},
   "outputs": [],
   "source": [
    "# Read a CSV file containing population density data by municipality\n",
    "# 'sep=\";\"' specifies that the CSV uses semicolons as separators (common in some locales)\n",
    "# 'encoding=\"CP1252\"' sets the character encoding to Windows Latin-1 (useful for special characters)\n",
    "# Change the file path to where your CSV is stored\n",
    "dens_pop = pd.read_csv(\"Shapes/Dens_pop_municipal.csv\", sep=\";\", encoding=\"CP1252\")\n",
    "\n",
    "# Display the first 5 rows of the DataFrame to inspect its structure and contents\n",
    "dens_pop.head()"
   ]
  },
  {
   "attachments": {},
   "cell_type": "markdown",
   "metadata": {},
   "source": [
    "Join the table with the imported shapefiles (polygons and centroids)"
   ]
  },
  {
   "cell_type": "code",
   "execution_count": null,
   "metadata": {},
   "outputs": [],
   "source": [
    "# Merge the municipalities GeoDataFrame with the population density DataFrame\n",
    "\n",
    "# Join on 'Concelho' column in port_munic and 'Nome' column in dens_pop\n",
    "# This adds population density attributes to the spatial polygons GeoDataFrame\n",
    "port_munic_denspop = port_munic.merge(dens_pop, left_on=\"Concelho\", right_on=\"Nome\")\n",
    "\n",
    "# Similarly, merge the centroids GeoDataFrame with population density data\n",
    "# This attaches density data to the centroid points GeoDataFrame\n",
    "port_munic_denspop_cent = port_munic_cent.merge(dens_pop, left_on=\"Concelho\", right_on=\"Nome\")\n",
    "\n",
    "# Display the first 5 rows of the merged GeoDataFrame (with polygons and density data)\n",
    "port_munic_denspop.head()\n",
    "\n",
    "# Notes: .merge() performs a database-style join between GeoDataFrame and DataFrame on specified columns.\n",
    "#        left_on is the key column in the left GeoDataFrame (port_munic / port_munic_cent).\n",
    "#        right_on is the key column in the right DataFrame (dens_pop).\n",
    "#        After merging, port_munic_denspop and port_munic_denspop_cent contain spatial geometries and \n",
    "#        opulation density attributes."
   ]
  },
  {
   "attachments": {},
   "cell_type": "markdown",
   "metadata": {},
   "source": [
    "Create a cloropleth map"
   ]
  },
  {
   "cell_type": "code",
   "execution_count": null,
   "metadata": {},
   "outputs": [],
   "source": [
    "# Plot the GeoDataFrame containing municipalities with population density data\n",
    "\n",
    "# column=\"2021\" specifies the data column to use for coloring the polygons (population density for 2021)\n",
    "# legend=True adds a legend to the plot indicating the color scale for the \"2021\" values\n",
    "port_munic_denspop.plot(figsize=(10, 10), \n",
    "                        column=\"2021\", \n",
    "                        legend=True\n",
    "                        )\n"
   ]
  },
  {
   "cell_type": "markdown",
   "metadata": {},
   "source": [
    "Change the choropleth classification scheme"
   ]
  },
  {
   "cell_type": "code",
   "execution_count": null,
   "metadata": {},
   "outputs": [],
   "source": [
    "# Plot the GeoDataFrame with municipalities colored by the \"2021\" column values\n",
    "\n",
    "# scheme='quantiles' classifies the data into quantile bins for color breaks \n",
    "# Note: 'scheme' requires the 'mapclassify' package to be installed for classification\n",
    "port_munic_denspop.plot(figsize=(10, 10), \n",
    "                        column=\"2021\",\n",
    "                        legend=True,\n",
    "                        scheme='quantiles'  # classification scheme for choropleth\n",
    "                       )\n",
    "#Notes: scheme='quantiles' divides the data into bins so that each bin contains approximately the same number of observations (equal quantiles)"
   ]
  },
  {
   "cell_type": "markdown",
   "metadata": {},
   "source": [
    "Change the color palette"
   ]
  },
  {
   "cell_type": "code",
   "execution_count": null,
   "metadata": {},
   "outputs": [],
   "source": [
    "# Plot the GeoDataFrame with municipalities colored by the \"2021\" population density column\n",
    "\n",
    "# cmap='OrRd' sets the colormap to \"Orange-Red\" sequential palette for better visualization\n",
    "# scheme='quantiles' classifies data into quantile bins for choropleth coloring (requires mapclassify)\n",
    "port_munic_denspop.plot(figsize=(10, 10), \n",
    "                        column=\"2021\", \n",
    "                        legend=True, \n",
    "                        cmap='OrRd',         # Orange-Red color palette\n",
    "                        scheme='quantiles'   # Use quantile classification for breaks\n",
    "                       )\n",
    "#Notes: the cmap parameter can be used to customize the color scheme (e.g., cmap='plasma')."
   ]
  },
  {
   "attachments": {},
   "cell_type": "markdown",
   "metadata": {},
   "source": [
    "Create a scatter plot map"
   ]
  },
  {
   "cell_type": "code",
   "execution_count": null,
   "metadata": {},
   "outputs": [],
   "source": [
    "# Create a plot of the municipalities polygons and return the Axes object.\n",
    "ax = port_munic.plot(figsize=(10, 10)) # ax is the matplotlib axes object used to overlay more plots\n",
    "\n",
    "# On the same axes, plot the municipality centroids colored by the \"2021\" population density data\n",
    "\n",
    "# ax=ax overlays this plot on the existing axes to combine both layers\n",
    "port_munic_denspop_cent.plot(column=\"2021\", \n",
    "                             legend=True,\n",
    "                             scheme='quantiles',\n",
    "                             ax=ax  #Both plots share the same axes (ax=ax) so they overlay correctly.\n",
    "                            )"
   ]
  },
  {
   "attachments": {},
   "cell_type": "markdown",
   "metadata": {},
   "source": [
    "Create a bubble plot map"
   ]
  },
  {
   "cell_type": "code",
   "execution_count": null,
   "metadata": {},
   "outputs": [],
   "source": [
    "# Overlay a second layer: centroids of municipalities with population density values\n",
    "ax = port_munic.plot(figsize=(10, 10))\n",
    "\n",
    "# alpha=0.4 makes the points partially transparent\n",
    "# legend=True and scheme='quantiles' DO NOT apply to point plots and will be ignored or raise warnings\n",
    "# ax=ax ensures both layers are plotted on the same axes\n",
    "port_munic_denspop_cent.plot(markersize=\"2021\", \n",
    "                             color=\"pink\",\n",
    "                             alpha=0.4,\n",
    "#                             legend=True,        # Does NOT work with point geometries\n",
    "#                             scheme='quantiles', # Does NOT work with point geometries\n",
    "                             ax=ax\n",
    "                            )"
   ]
  },
  {
   "attachments": {},
   "cell_type": "markdown",
   "metadata": {},
   "source": [
    "### 2. The `Folium` module\n",
    "\n",
    "`Folium` makes it easy to visualize data that has been manipulated in Python on an interactive `leaflet` map. It enables both the binding of data to a map for choropleth visualizations as well as passing rich vector/raster/HTML visualizations as markers on the map.\n",
    "\n",
    "The library has a number of built-in tilesets from OpenStreetMap, Mapbox, and Stamen, and supports custom tilesets with Mapbox or Cloudmade API keys. folium supports both Image, Video, GeoJSON and TopoJSON overlays.\n",
    "\n",
    "A useful feature of Folium is that it provides easy functionality to export an interactive map to HTML, making it a useful tool in web development."
   ]
  },
  {
   "cell_type": "code",
   "execution_count": null,
   "metadata": {},
   "outputs": [],
   "source": [
    "import folium\n",
    "import math"
   ]
  },
  {
   "attachments": {},
   "cell_type": "markdown",
   "metadata": {},
   "source": [
    "We first need to add lat and long to the 'port_munic_denspop_cent' attribute table"
   ]
  },
  {
   "cell_type": "code",
   "execution_count": null,
   "metadata": {},
   "outputs": [],
   "source": [
    "# Create a new column \"Long\" by extracting the x-coordinate (longitude) from the centroid geometry\n",
    "\n",
    "# This is required because Folium expects separate lat/lon values for placing markers or circles\n",
    "port_munic_denspop_cent[\"Long\"] = port_munic_denspop_cent['geometry'].x\n",
    "# Create a new column \"Lat\" by extracting the y-coordinate (latitude) from the centroid geometry\n",
    "port_munic_denspop_cent[\"Lat\"] = port_munic_denspop_cent['geometry'].y\n",
    "\n",
    "# Display the first few rows of the updated DataFrame to check the new columns\n",
    "port_munic_denspop_cent.head()"
   ]
  },
  {
   "attachments": {},
   "cell_type": "markdown",
   "metadata": {},
   "source": [
    "Create a basemap"
   ]
  },
  {
   "cell_type": "code",
   "execution_count": null,
   "metadata": {},
   "outputs": [],
   "source": [
    "# Create a folium map object, in this case named 'm'\n",
    "\n",
    "# 'location' defines the initial center of the map using latitude and longitude\n",
    "m = folium.Map(location=[40, -9],       # [40, -9] centers the map around central Portugal (approx. latitude 40°N, longitude 9°W)\n",
    "               zoom_start=6)            # 'zoom_start=6' sets the initial zoom level; lower values show a larger area\n",
    "\n",
    "# Display the map in Jupyter Notebook\n",
    "# writing `m` in the last line of the cell displays the map\n",
    "m"
   ]
  },
  {
   "attachments": {},
   "cell_type": "markdown",
   "metadata": {},
   "source": [
    "Save to `html`"
   ]
  },
  {
   "cell_type": "code",
   "execution_count": null,
   "metadata": {},
   "outputs": [],
   "source": [
    "# Save the current folium map object 'm' to an HTML file, in this case called 'my_map.html'\n",
    "\n",
    "# This allows you to open and interact with the map in any web browser outside of the notebook\n",
    "m.save('my_map.html')\n",
    "\n",
    "#notes: this allows you to:\n",
    "#           Open the map in any browser\n",
    "#           Share the HTML file with others\n",
    "#           Embed the map in a webpage or documentation\n",
    "#           View the map even if you’re not running Python.\n",
    "\n",
    "#if you want to open the new html file created from here:\n",
    "import webbrowser\n",
    "webbrowser.open('my_map.html')"
   ]
  },
  {
   "attachments": {},
   "cell_type": "markdown",
   "metadata": {},
   "source": [
    "Create an interactive bubble plot map"
   ]
  },
  {
   "cell_type": "code",
   "execution_count": null,
   "metadata": {},
   "outputs": [],
   "source": [
    "# Create a new folium map centered on the average coordinates of all municipalities\n",
    "\n",
    "# This ensures the map auto-centers over your dataset\n",
    "m = folium.Map(\n",
    "    location=[port_munic_denspop_cent['Lat'].mean(),  # Average latitude of all centroids\n",
    "              port_munic_denspop_cent['Long'].mean()], # Average longitude of all centroids\n",
    "    zoom_start=8  # Reasonable zoom to show the whole country\n",
    ")\n",
    "\n",
    "# Define a helper function to scale population values into marker radius sizes\n",
    "# Using logarithmic scaling to avoid overly large circles due to skewed population distribution\n",
    "def get_radius(pop):\n",
    "    return math.log(pop) * 2  # Adjust multiplier to control circle size\n",
    "\n",
    "# Loop through each row in the GeoDataFrame and create a CircleMarker on the map\n",
    "port_munic_denspop_cent.apply(\n",
    "    lambda row: folium.CircleMarker(\n",
    "        location=[row['Lat'], row['Long']],      # Latitude and longitude of the municipality center\n",
    "        radius=get_radius(row['2021']),           # Size based on the population in 2021\n",
    "        popup=row['2021'],                        # Click to see exact population\n",
    "#        popup = folium.Popup(f\"<b>Population:</b> {row['2021']:,}\", max_width=200),    # improves popup readability & formatting, making your map look more polished & informative\n",
    "        tooltip='<h5>Click here for more info</h5>',  # Hover tooltip\n",
    "        stroke=True,                              # Outline circle\n",
    "        weight=1,                                 # Outline thickness\n",
    "        color=\"#3186cc\",                          # Outline color\n",
    "        fill=True,                                # Fill the circle\n",
    "        fill_color=\"#3186cc\",                     # Fill color\n",
    "        opacity=0.9,                              # Overall marker opacity\n",
    "        fill_opacity=0.3,                         # Fill transparency (makes it more visually pleasing)\n",
    "    ).add_to(m),                                  # Add the marker to the map object\n",
    "    axis=1                                        # Apply the lambda function row-wise\n",
    ")\n",
    "\n",
    "# Display the map (only works directly in Jupyter or similar environments)\n",
    "m"
   ]
  },
  {
   "attachments": {},
   "cell_type": "markdown",
   "metadata": {},
   "source": [
    "Create a cloropleth map\n",
    "\n",
    "Folium’s built-in Choropleth does not provide a direct parameter to change the classification scheme (like quantiles, natural breaks, etc.) the way geopandas or other libraries do.\n",
    "Options:\n",
    "- Pre-classify your data manually. Use mapclassify or pandas to classify your data into bins beforehand, then pass those bins as a categorical column for coloring\n",
    "- Use branca.colormap manually, but there is no direct argument to choose classification method like 'quantiles' or 'natural breaks' in the Choropleth call. Have to create a colormap with explicit bins and add it to the map."
   ]
  },
  {
   "cell_type": "code",
   "execution_count": null,
   "metadata": {},
   "outputs": [],
   "source": [
    "# Create a folium Map centered around latitude 40, longitude -9 (Portugal), with zoom level 6\n",
    "m = folium.Map(location=[40, -9], zoom_start=6)\n",
    "\n",
    "# Add a choropleth layer to the map\n",
    "folium.Choropleth(\n",
    "    geo_data=port_munic_denspop,             # GeoDataFrame containing both geometry and population data\n",
    "    name=\"choropleth\",                       # Name of the layer (used in layer controls)\n",
    "    \n",
    "    data=port_munic_denspop,                 # Same dataset (could be a separate df if needed)\n",
    "    columns=[\"Nome\", \"2001\"],                # Column 1: Key for matching shapes, Column 2: values to color (e.g., population density in 2001)\n",
    "    \n",
    "    key_on=\"feature.properties.Nome\",        # Match 'Nome' in geojson features with 'Nome' column in the DataFrame\n",
    "    \n",
    "    fill_color=\"YlGn\",                       # Color scale: Yellow to Green\n",
    "    fill_opacity=0.7,                        # Transparency of the colored regions\n",
    "    legend_name=\"Population density\",        # Legend title displayed on the map\n",
    ").add_to(m)                                  # Add the layer to the map\n",
    "\n",
    "# Display the map (in Jupyter or JupyterLab)\n",
    "m"
   ]
  },
  {
   "attachments": {},
   "cell_type": "markdown",
   "metadata": {},
   "source": [
    "### 3. Interactive geospatial visualization with `plotly`\n",
    "\n",
    "`Plotly` also provides interactive geospatial visualization functionalities. It is especially usefull for generating a variety of geographical plots that are easy to built, debug and customize.\n",
    "\n",
    "We will use `plotly` to demonstrate how to generate different classes of geographcial plots with several available datasets from a variety of contexts.\n",
    "\n",
    "Let's start by a quick interactive map using `plotly express` (https://plotly.com/python/scatter-plots-on-maps/)"
   ]
  },
  {
   "cell_type": "markdown",
   "metadata": {},
   "source": [
    "Sets the default renderer for plotly figures"
   ]
  },
  {
   "cell_type": "code",
   "execution_count": null,
   "metadata": {},
   "outputs": [],
   "source": [
    "# Import the Plotly Input/Output module, which controls rendering options\n",
    "import plotly.io as pio  \n",
    "\n",
    "# Set the default renderer to 'vscode', so figures are displayed inline in Visual Studio Code\n",
    "pio.renderers.default = 'vscode'\n",
    "\n",
    "#Another option that works on VScode\n",
    "#pio.renderers.default = 'notebook'  # Set the default renderer to 'notebook', figures are displayed inline in Jupyter Notebook\n",
    "\n",
    "\n",
    "# If having problems running Plotly visualizations (especially in environments like VS Code or Jupyter),\n",
    "# you can set the default renderer to open plots in your default web browser.\n",
    "#This is useful if inline rendering (like in Jupyter notebooks) fails or is not supported in your environment.\n",
    "\n",
    "#import plotly.io as pio  # Imports the Plotly I/O module for renderer settings and figure I/O\n",
    "\n",
    "#pio.renderers.default = 'browser'  # Sets the default renderer to the internet 'browser'"
   ]
  },
  {
   "cell_type": "markdown",
   "metadata": {},
   "source": [
    "start by a quick interactive map using `plotly express`"
   ]
  },
  {
   "cell_type": "code",
   "execution_count": null,
   "metadata": {},
   "outputs": [],
   "source": [
    "# Import the Plotly Express module, which is a high-level API for creating visualizations easily\n",
    "import plotly.express as px  \n",
    "\n",
    "# Load the built-in Gapminder dataset using Plotly Express\n",
    "# Filter the data to only include records from the year 2007\n",
    "df = px.data.gapminder().query(\"year == 2007\")  \n",
    "# The dataset includes fields like country, continent, year, lifeExp, pop, gdpPercap, and iso_alpha\n",
    "\n",
    "# Create a geographic scatter plot (globe-style) where each country's marker size reflects its population\n",
    "fig = px.scatter_geo(\n",
    "    df,                      # The filtered DataFrame for the year 2007\n",
    "    locations=\"iso_alpha\",   # Specifies the column that contains ISO 3166-1 alpha-3 country codes for plotting on the map\n",
    "    size=\"pop\"               # Use the \"pop\" column to determine the size of the scatter markers (population of each country)\n",
    ")\n",
    "\n",
    "# Render the interactive plot in the current environment using the default renderer\n",
    "fig.show()  "
   ]
  },
  {
   "attachments": {},
   "cell_type": "markdown",
   "metadata": {},
   "source": [
    "#### 3.1 Create cloropleth maps (world renewable production and comsuption)"
   ]
  },
  {
   "cell_type": "code",
   "execution_count": null,
   "metadata": {},
   "outputs": [],
   "source": [
    "import pandas as pd\n",
    "import plotly.express as px\n",
    "import seaborn as sns\n",
    "import matplotlib.pyplot as plt"
   ]
  },
  {
   "attachments": {},
   "cell_type": "markdown",
   "metadata": {},
   "source": [
    "Import the renewable energy production dataset"
   ]
  },
  {
   "cell_type": "code",
   "execution_count": null,
   "metadata": {},
   "outputs": [],
   "source": [
    "renewable_energy_prod_url = \"https://raw.githubusercontent.com/TrainingByPackt/Interactive-Data-Visualization-with-Python/master/datasets/share-of-electricity-production-from-renewable-sources.csv\"\n",
    "renewable_energy_prod_df = pd.read_csv(renewable_energy_prod_url)\n",
    "renewable_energy_prod_df.head()\n",
    "\n",
    "# Define the URL for the CSV dataset.\n",
    "renewable_energy_prod_url = \"https://raw.githubusercontent.com/TrainingByPackt/Interactive-Data-Visualization-with-Python/master/datasets/share-of-electricity-production-from-renewable-sources.csv\"\n",
    "# This dataset contains information about the share of electricity production from renewable sources by country and year.\n",
    "\n",
    "# Use pandas to read the CSV file directly from the URL into a DataFrame.\n",
    "renewable_energy_prod_df = pd.read_csv(renewable_energy_prod_url)\n",
    "# This line downloads and parses the CSV contents into tabular format.\n",
    "\n",
    "# Helps you verify what columns are available before attempting to filter or plot\n",
    "print(renewable_energy_prod_df.columns)\n",
    "\n",
    "# Display the first 5 rows of the DataFrame to quickly inspect the structure and confirm successful loading.\n",
    "renewable_energy_prod_df.head()"
   ]
  },
  {
   "cell_type": "markdown",
   "metadata": {},
   "source": [
    "Sort the production DataFrame based on the feature 'Year'"
   ]
  },
  {
   "cell_type": "code",
   "execution_count": null,
   "metadata": {},
   "outputs": [],
   "source": [
    "# This line sorts the entire DataFrame by the 'Year' column in ascending order (default behavior).\n",
    "renewable_energy_prod_df.sort_values(by=['Year'], inplace=True)\n",
    "# `inplace=True` means the sorting will modify the DataFrame directly instead of returning a sorted copy.\n",
    "# This is useful when you want the data in chronological order for plotting time series or animations.\n",
    "\n",
    "# Displays the first 5 rows of the sorted DataFrame to verify the sorting operation.\n",
    "renewable_energy_prod_df.head()"
   ]
  },
  {
   "cell_type": "markdown",
   "metadata": {},
   "source": [
    "Generate a choropleth map using the plotly express module animated based on 'Year' (2008 to 2016)"
   ]
  },
  {
   "cell_type": "code",
   "execution_count": null,
   "metadata": {},
   "outputs": [],
   "source": [
    "# Filter the DataFrame for years strictly between 2007 and 2017 (i.e., 2008 to 2016)\n",
    "renewable_energy_prod = renewable_energy_prod_df.query('Year < 2017 and Year > 2007')\n",
    "\n",
    "# Create a choropleth map using Plotly Express\n",
    "fig = px.choropleth(\n",
    "    renewable_energy_prod,  # Use the original DataFrame (not the filtered one) for the choropleth\n",
    "    locations=\"Code\",          # Column with country ISO codes for geographic locations\n",
    "    color=\"Renewable electricity (% electricity production)\",  # Column to determine color intensity\n",
    "    hover_name=\"Country\",      # Column for names shown when hovering over a country\n",
    "    animation_frame=\"Year\",    # Create an animation with one frame per year\n",
    "    color_continuous_scale='Greens'  # Color scale used for the intensity (shades of green)\n",
    ")\n",
    "\n",
    "# Display the figure\n",
    "fig.show()"
   ]
  },
  {
   "cell_type": "markdown",
   "metadata": {},
   "source": [
    "Update layout to include suitable title text and projection style"
   ]
  },
  {
   "cell_type": "code",
   "execution_count": null,
   "metadata": {},
   "outputs": [],
   "source": [
    "# Update the layout of the existing Plotly figure 'fig'\n",
    "fig.update_layout(\n",
    "    \n",
    "    # Set the title of the plot\n",
    "    title_text='Renewable energy production across the world (% of electricity production)',\n",
    "\n",
    "    # Configure geographic settings for the map\n",
    "    geo=dict(\n",
    "        projection={'type': 'natural earth'}  # Use 'natural earth' projection instead of default 'equirectangular'\n",
    "    )\n",
    ")\n",
    "\n",
    "# Display the updated figure\n",
    "fig.show()"
   ]
  },
  {
   "attachments": {},
   "cell_type": "markdown",
   "metadata": {},
   "source": [
    "Now let's import the renewable energy consumption dataset"
   ]
  },
  {
   "cell_type": "code",
   "execution_count": null,
   "metadata": {},
   "outputs": [],
   "source": [
    "# URL pointing to the CSV file containing renewable energy consumption data by country\n",
    "renewable_energy_cons_url = \"https://raw.githubusercontent.com/TrainingByPackt/Interactive-Data-Visualization-with-Python/master/datasets/renewable-energy-consumption-by-country.csv\"\n",
    "\n",
    "# Read the CSV data from the URL into a pandas DataFrame\n",
    "renewable_energy_cons_df = pd.read_csv(renewable_energy_cons_url)\n",
    "\n",
    "# Display the first few rows of the DataFrame to verify successful loading\n",
    "renewable_energy_cons_df.head()"
   ]
  },
  {
   "cell_type": "markdown",
   "metadata": {},
   "source": [
    "Convert the DataFrame to desired format"
   ]
  },
  {
   "cell_type": "code",
   "execution_count": null,
   "metadata": {},
   "outputs": [],
   "source": [
    "# Reshape the DataFrame from wide to long format using pd.melt\n",
    "renewable_energy_cons_df = pd.melt(\n",
    "    renewable_energy_cons_df,                  # Input DataFrame to reshape\n",
    "    id_vars=['Country', 'Code', 'Year'],      # Columns to keep as identifiers (not unpivoted)\n",
    "    var_name=\"Energy Source\",                  # Name for the new column that holds former column headers\n",
    "    value_name=\"Consumption (terrawatt-hours)\"# Name for the new column that holds values from melted columns\n",
    ")\n",
    "\n",
    "# Show the first few rows of the reshaped DataFrame to verify the transformation\n",
    "renewable_energy_cons_df.head()"
   ]
  },
  {
   "cell_type": "markdown",
   "metadata": {},
   "source": [
    "Sort the consumption DataFrame based on the Year"
   ]
  },
  {
   "cell_type": "code",
   "execution_count": null,
   "metadata": {},
   "outputs": [],
   "source": [
    "# Sort the DataFrame based on the 'Year' column in ascending order\n",
    "renewable_energy_cons_df.sort_values(by=['Year'], inplace=True)\n",
    "\n",
    "# Display the first few rows of the sorted DataFrame to verify the sorting\n",
    "renewable_energy_cons_df.head()"
   ]
  },
  {
   "cell_type": "markdown",
   "metadata": {},
   "source": [
    "Generate a choropleth map for renewable energy consumption animated based on 'Year'"
   ]
  },
  {
   "cell_type": "code",
   "execution_count": null,
   "metadata": {},
   "outputs": [],
   "source": [
    "# Filter the DataFrame to only include rows where 'Energy Source' is 'Total' \n",
    "renewable_energy_total_cons = renewable_energy_cons_df[\n",
    "    renewable_energy_cons_df['Energy Source'] == 'Total'\n",
    "].query('Year < 2017 and Year > 2007') # consider 'Year' just between 2007 and 2017 (exclusive)\n",
    "\n",
    "# Create a choropleth map:\n",
    "fig = px.choropleth(\n",
    "    renewable_energy_total_cons,\n",
    "    locations=\"Code\",                # - locations are identified by 'Code' (country codes)\n",
    "    color=\"Consumption (terrawatt-hours)\", # - color of each country represents energy consumption in terawatt-hours\n",
    "    hover_name=\"Country\",            # - hover shows the country name\n",
    "    animation_frame=\"Year\",          # - animation frames represent different years\n",
    "    color_continuous_scale='Blues'   # - color scale set to a blue palette\n",
    ")\n",
    "\n",
    "# Display the interactive choropleth plot\n",
    "fig.show()"
   ]
  },
  {
   "cell_type": "markdown",
   "metadata": {},
   "source": [
    "Update layout to include suitable title text and projection style"
   ]
  },
  {
   "cell_type": "code",
   "execution_count": null,
   "metadata": {},
   "outputs": [],
   "source": [
    "# Update the layout of the Plotly figure\n",
    "fig.update_layout(\n",
    "    title_text='Renewable energy consumption across the world (terrawatt-hours)',  # add a title text for the plot\n",
    "    geo=dict(projection={'type': 'natural earth'})  # set projection style for the plot; default is 'equirectangular'\n",
    ")\n",
    "\n",
    "# Display the updated interactive plot\n",
    "fig.show()"
   ]
  },
  {
   "attachments": {},
   "cell_type": "markdown",
   "metadata": {},
   "source": [
    "#### 3.2 Add animation into a cloropleth map\n",
    "\n",
    "The next example uses the worldwide use of the internet"
   ]
  },
  {
   "cell_type": "code",
   "execution_count": null,
   "metadata": {},
   "outputs": [],
   "source": [
    "# Define the URL to the CSV file containing internet usage data\n",
    "internet_usage_url = \"https://raw.githubusercontent.com/TrainingByPackt/Interactive-Data-Visualization-with-Python/master/datasets/share-of-individuals-using-the-internet.csv\"\n",
    "\n",
    "# Read the CSV data from the URL into a pandas DataFrame\n",
    "internet_usage_df = pd.read_csv(internet_usage_url)\n",
    "\n",
    "# Display the first few rows of the DataFrame to check the data loaded correctly\n",
    "internet_usage_df.head()"
   ]
  },
  {
   "cell_type": "markdown",
   "metadata": {},
   "source": [
    "Plot a choroplet map using the subset of dat for 2016"
   ]
  },
  {
   "cell_type": "code",
   "execution_count": null,
   "metadata": {},
   "outputs": [],
   "source": [
    "# Subset the DataFrame to only include data for the year 2016\n",
    "internet_usage_2016 = internet_usage_df.query(\"Year == 2016\")\n",
    "\n",
    "# Create a choropleth map using the 2016 internet usage data\n",
    "fig = px.choropleth(\n",
    "    internet_usage_2016,\n",
    "    locations=\"Code\",  # Use country codes for geographic locations\n",
    "    color=\"Individuals using the Internet (% of population)\",  # Color-code by percentage of individuals using the internet\n",
    "    hover_name=\"Country\",  # Show country name on hover\n",
    "    color_continuous_scale=px.colors.sequential.Plasma  # Use the 'Plasma' color scale\n",
    ")\n",
    "\n",
    "# Update the layout to add a title to the plot\n",
    "fig.update_layout(\n",
    "    title_text='Internet usage across the world (% population) - 2016'  # Title describing the map content\n",
    ")\n",
    "\n",
    "# Display the interactive choropleth map\n",
    "fig.show()"
   ]
  },
  {
   "cell_type": "markdown",
   "metadata": {},
   "source": [
    "Create a choropleth map focused only on Europe"
   ]
  },
  {
   "cell_type": "code",
   "execution_count": null,
   "metadata": {},
   "outputs": [],
   "source": [
    "# Create a choropleth map focused on 2016 internet usage data\n",
    "fig = px.choropleth(\n",
    "    internet_usage_2016,\n",
    "    locations=\"Code\",  # Use country codes to identify locations on the map\n",
    "    color=\"Individuals using the Internet (% of population)\",  # Color countries by internet usage percentage\n",
    "    hover_name=\"Country\",  # Show country name when hovering over areas\n",
    "    color_continuous_scale=px.colors.sequential.Plasma  # Use the 'Plasma' color scale for the values\n",
    ")\n",
    "\n",
    "# Update the layout of the figure\n",
    "fig.update_layout(\n",
    "    title_text='Internet usage across the European Continent (% population) - 2016',  # Add a descriptive title\n",
    "    geo_scope='europe'  # Limit the geographic scope to Europe (alternatives: north america, south america, africa, asia, usa)\n",
    ")\n",
    "\n",
    "# Display the interactive choropleth map\n",
    "fig.show()"
   ]
  },
  {
   "cell_type": "markdown",
   "metadata": {},
   "source": [
    "Update layout to include suitable projection style"
   ]
  },
  {
   "cell_type": "code",
   "execution_count": null,
   "metadata": {},
   "outputs": [],
   "source": [
    "# Create a choropleth map for internet usage in 2016:\n",
    "fig = px.choropleth(\n",
    "    internet_usage_2016,  # DataFrame filtered to the year 2016\n",
    "    locations=\"Code\",  # Use the country codes for geographic locations\n",
    "    color=\"Individuals using the Internet (% of population)\",  # Color countries by internet usage percentage\n",
    "    hover_name=\"Country\",  # Show country name when hovering over each country\n",
    "    color_continuous_scale=px.colors.sequential.Plasma  # Use the Plasma sequential color scale for coloring\n",
    ")\n",
    "\n",
    "# Update layout settings for the figure:\n",
    "fig.update_layout(\n",
    "        title_text='Internet usage across Europe (% population) - 2016', # Add a title to the plot\n",
    "        \n",
    "    # Set the map projection style and limit the scope to Europe only\n",
    "    geo=dict(\n",
    "        scope='europe',               # Focus map on Europe\n",
    "        projection={'type': 'natural earth'}  # Use the natural earth projection\n",
    "    )\n",
    ")\n",
    "\n",
    "# Display the interactive plot\n",
    "fig.show()"
   ]
  },
  {
   "cell_type": "markdown",
   "metadata": {},
   "source": [
    "Update layout to include animation using the years data"
   ]
  },
  {
   "cell_type": "code",
   "execution_count": null,
   "metadata": {},
   "outputs": [],
   "source": [
    "# Create an animated choropleth map to visualize internet usage over time\n",
    "fig = px.choropleth(\n",
    "    internet_usage_df,  # full dataset with multiple years of internet usage\n",
    "    locations=\"Code\",   # - uses ISO 3-letter country codes to map data to countries\n",
    "    color=\"Individuals using the Internet (% of population)\",  # - the variable used for color intensity\n",
    "    hover_name=\"Country\",  # - displays the country name when hovering\n",
    "    animation_frame=\"Year\",  # - creates an animated map with frames for each year\n",
    "    color_continuous_scale=px.colors.sequential.Plasma  # - uses the Plasma color scale for visual effect\n",
    ")\n",
    "\n",
    "# Update the map layout to include projection style and a title\n",
    "fig.update_layout(\n",
    "    title_text='Internet usage across the world (% population)',  # - set the chart's title\n",
    "    geo=dict(projection={'type':'natural earth'})  # - apply the \"natural earth\" projection to the map\n",
    ")\n",
    "\n",
    "# Display the interactive choropleth map\n",
    "fig.show()\n",
    "\n",
    "# THE YEARS ARE NOT SORTED IN AN ASCENDING ORDER!!!!!"
   ]
  },
  {
   "cell_type": "markdown",
   "metadata": {},
   "source": [
    "The years are not ordered."
   ]
  },
  {
   "cell_type": "markdown",
   "metadata": {},
   "source": [
    "Update the layout after ordering based on the year feature"
   ]
  },
  {
   "cell_type": "code",
   "execution_count": null,
   "metadata": {},
   "outputs": [],
   "source": [
    "# Sort the dataset by 'Year' to ensure proper chronological order for animation\n",
    "internet_usage_df.sort_values(by=[\"Year\"], inplace=True)\n",
    "\n",
    "# Display the first few rows of the sorted DataFrame (optional, for inspection)\n",
    "internet_usage_df.head()\n",
    "\n",
    "# Create an animated choropleth map using the sorted internet usage dataset\n",
    "fig = px.choropleth(\n",
    "    internet_usage_df,  # - full dataset with internet usage data over multiple years\n",
    "    locations=\"Code\",  # - ISO 3-letter country codes to identify countries on the map\n",
    "    color=\"Individuals using the Internet (% of population)\",  # - used to determine color intensity\n",
    "    hover_name=\"Country\",  # - display country name on hover\n",
    "    animation_frame=\"Year\",  # - animate the map based on the 'Year' column\n",
    "    color_continuous_scale=px.colors.sequential.Plasma  # - apply the Plasma color scale\n",
    ")\n",
    "\n",
    "# Customize the map layout\n",
    "fig.update_layout(\n",
    "    title_text='Internet usage across the world (% population)',  # - set the title of the plot\n",
    "    geo=dict(\n",
    "#        scope='europe',\n",
    "        projection={'type': 'natural earth'})  # - set map projection to \"natural earth\"\n",
    "\n",
    ")\n",
    "\n",
    "# Display the animated interactive choropleth map\n",
    "fig.show()"
   ]
  },
  {
   "attachments": {},
   "cell_type": "markdown",
   "metadata": {},
   "source": [
    "#### 3.3 Create bubble plots in a map"
   ]
  },
  {
   "cell_type": "code",
   "execution_count": null,
   "metadata": {},
   "outputs": [],
   "source": [
    "# Define the URL to the dataset containing the number of internet users by country over time\n",
    "internet_users_url = \"https://raw.githubusercontent.com/TrainingByPackt/Interactive-Data-Visualization-with-Python/master/datasets/number-of-internet-users-by-country.csv\"\n",
    "\n",
    "# Read the CSV data directly from the URL into a pandas DataFrame\n",
    "internet_users_df = pd.read_csv(internet_users_url)\n",
    "\n",
    "# Display the first 5 rows of the DataFrame to inspect its structure and contents\n",
    "internet_users_df.head()"
   ]
  },
  {
   "cell_type": "markdown",
   "metadata": {},
   "source": [
    "Create a scatter geo-plot for the year 2016"
   ]
  },
  {
   "cell_type": "code",
   "execution_count": null,
   "metadata": {},
   "outputs": [],
   "source": [
    "# Sort the DataFrame by the 'Year' column to ensure chronological order\n",
    "internet_users_df.sort_values(by=['Year'], inplace=True)\n",
    "\n",
    "# Display the first 5 rows of the sorted DataFrame to verify the sort\n",
    "internet_users_df.head()\n",
    "\n",
    "# Create a scatter geo-plot for the year 2016 using a subset of the data\n",
    "fig = px.scatter_geo(\n",
    "    internet_users_df.query(\"Year==2016\"),  # Filter data for the year 2016\n",
    "    locations=\"Code\",                       # ISO country codes used to place countries on the map\n",
    "    size=\"Number of internet users (users)\",# Column determining the size of each country's marker\n",
    "    hover_name=\"Country\",                   # Column to display as hover information\n",
    "    size_max=80,                            # Maximum size for the largest bubble\n",
    "    color_continuous_scale=px.colors.sequential.Plasma  # Color scale used for visual appeal\n",
    ")\n",
    "\n",
    "# Update the layout of the plot\n",
    "fig.update_layout(\n",
    "    # Add a descriptive title to the plot\n",
    "    title_text='Internet users across the world - 2016',\n",
    "    # Set the map projection style to 'natural earth' for a more realistic look\n",
    "    geo=dict(projection={'type': 'natural earth'})  # Default is 'equirectangular', this is more aesthetic\n",
    ")\n",
    "\n",
    "# Display the interactive scatter geo-plot\n",
    "fig.show()"
   ]
  },
  {
   "cell_type": "markdown",
   "metadata": {},
   "source": [
    "Update to show an animation of the buble plot across the years"
   ]
  },
  {
   "cell_type": "code",
   "execution_count": null,
   "metadata": {},
   "outputs": [],
   "source": [
    "# Create an animated scatter geo-plot using Plotly Express\n",
    "fig = px.scatter_geo(\n",
    "    internet_users_df,                         # DataFrame containing internet user data\n",
    "    locations=\"Code\",                          # ISO 3-letter country codes used to position bubbles on the map\n",
    "    size=\"Number of internet users (users)\",   # Column used to size each bubble by number of internet users\n",
    "    hover_name=\"Country\",                      # Column to display when hovering over a bubble\n",
    "    size_max=80,                               # Maximum size for the largest bubble\n",
    "    animation_frame=\"Year\"                     # Column used to create animation frames over time\n",
    ")\n",
    "\n",
    "# Update the layout of the plot\n",
    "fig.update_layout(    \n",
    "    title_text='Internet users across the world', # Add a descriptive title to the plot\n",
    "    # Set the map projection style to 'natural earth' for a more realistic geographic visualization\n",
    "    geo=dict(projection={'type': 'natural earth'})  # 'natural earth' gives a smooth, globe-like projection\n",
    ")\n",
    "\n",
    "# Display the interactive animated scatter geo-plot\n",
    "fig.show()"
   ]
  },
  {
   "attachments": {},
   "cell_type": "markdown",
   "metadata": {},
   "source": [
    "#### 3.4 Create a line flow map\n",
    "\n",
    "In the next example we will show how to plot lines in a map with `plotly` using flight connections in the USA.\n",
    "\n",
    "Import airport locations"
   ]
  },
  {
   "cell_type": "code",
   "execution_count": null,
   "metadata": {},
   "outputs": [],
   "source": [
    "# Define the URL where the dataset (CSV) containing U.S. airports is hosted\n",
    "us_airports_url = \"https://raw.githubusercontent.com/TrainingByPackt/Interactive-Data-Visualization-with-Python/master/datasets/airports.csv\"\n",
    "\n",
    "# Load the CSV data from the provided URL into a pandas DataFrame\n",
    "us_airports_df = pd.read_csv(us_airports_url)\n",
    "\n",
    "# Display the first five rows of the DataFrame to inspect the structure and sample data\n",
    "us_airports_df.head()"
   ]
  },
  {
   "attachments": {},
   "cell_type": "markdown",
   "metadata": {},
   "source": [
    "Scatter plot on a map"
   ]
  },
  {
   "cell_type": "code",
   "execution_count": null,
   "metadata": {},
   "outputs": [],
   "source": [
    "# Import the low-level graphing interface from Plotly, which provides more control than plotly.express\n",
    "import plotly.graph_objects as go\n",
    "\n",
    "# Create a new figure for plotting\n",
    "fig = go.Figure()\n",
    "\n",
    "# Add a scatter geo trace to the figure for visualizing airport locations\n",
    "fig.add_trace(go.Scattergeo(\n",
    "    locationmode='USA-states',        # - interpret location data using U.S. state abbreviations\n",
    "    lon=us_airports_df['LONGITUDE'],  # - set the longitude values for each airport\n",
    "    lat=us_airports_df['LATITUDE'],   # - set the latitude values for each airport\n",
    "    hoverinfo='text',                 # - enable custom text to be shown when hovering\n",
    "    text=us_airports_df['AIRPORT'],   # - airport names shown on hover\n",
    "    mode='markers',                   # - render each location as a marker point\n",
    "    marker=dict(size=5, color='black')# - define marker size and color\n",
    "))\n",
    "\n",
    "# Update the layout of the figure\n",
    "fig.update_layout(\n",
    "    title_text='Airports in USA',      # - title of the plot\n",
    "    showlegend=False,                  # - legend is not required as all markers are the same\n",
    "    geo=go.layout.Geo(\n",
    "        scope='usa'                    # - restrict map view to the USA region\n",
    "    ),\n",
    ")\n",
    "\n",
    "# Display the interactive plot\n",
    "fig.show()"
   ]
  },
  {
   "attachments": {},
   "cell_type": "markdown",
   "metadata": {},
   "source": [
    "Import the Flight records"
   ]
  },
  {
   "cell_type": "code",
   "execution_count": null,
   "metadata": {},
   "outputs": [],
   "source": [
    "# Define the URL of the dataset containing delayed flights on New Year's Day in 2015\n",
    "new_year_2015_flights_url = \"https://raw.githubusercontent.com/TrainingByPackt/Interactive-Data-Visualization-with-Python/master/datasets/new_year_day_2015_delayed_flights.csv\"\n",
    "\n",
    "# Read the CSV file from the URL into a pandas DataFrame\n",
    "new_year_2015_flights_df = pd.read_csv(new_year_2015_flights_url)\n",
    "\n",
    "# Display the first 5 rows of the DataFrame to preview the data\n",
    "new_year_2015_flights_df.head()"
   ]
  },
  {
   "attachments": {},
   "cell_type": "markdown",
   "metadata": {},
   "source": [
    "Flight origin dataset\n",
    "\n",
    "Along with the source and destination airports for each flight, we need to have the longitude and latitude information of the corresponding airports. To do this, we need to merge the DataFrames containing airport and flight data. Let’s first merge to obtain longitude and latitudes for the origin airports of all flights. Merge the DataFrames on origin airport codes"
   ]
  },
  {
   "cell_type": "code",
   "execution_count": null,
   "metadata": {},
   "outputs": [],
   "source": [
    "# Merge the flights DataFrame with the airports DataFrame to get latitude and longitude for origin airports\n",
    "new_year_2015_flights_df = new_year_2015_flights_df.merge(\n",
    "    us_airports_df[['IATA_CODE', 'LATITUDE', 'LONGITUDE']],  # select only relevant columns from airport DataFrame\n",
    "    left_on='ORIGIN_AIRPORT',  # match flights' origin airport code...\n",
    "    right_on='IATA_CODE',      # ...with IATA code in airport DataFrame\n",
    "    how='inner'                # use inner join to keep only matched records\n",
    ")\n",
    "\n",
    "# Drop the now-duplicate 'IATA_CODE' column since 'ORIGIN_AIRPORT' already contains the code\n",
    "new_year_2015_flights_df.drop(columns=['IATA_CODE'], inplace=True)\n",
    "\n",
    "# Rename latitude and longitude columns to indicate they belong to the origin airport\n",
    "new_year_2015_flights_df.rename(\n",
    "    columns={\n",
    "        \"LATITUDE\": \"ORIGIN_AIRPORT_LATITUDE\",\n",
    "        \"LONGITUDE\": \"ORIGIN_AIRPORT_LONGITUDE\"\n",
    "    },\n",
    "    inplace=True\n",
    ")\n",
    "\n",
    "# Display the first 5 rows of the updated DataFrame to inspect the changes\n",
    "new_year_2015_flights_df.head()"
   ]
  },
  {
   "attachments": {},
   "cell_type": "markdown",
   "metadata": {},
   "source": [
    "Destination dataset"
   ]
  },
  {
   "cell_type": "code",
   "execution_count": null,
   "metadata": {},
   "outputs": [],
   "source": [
    "# Now, we will perform a similar merging to get the latitude and longitude data \n",
    "# for the destination airports of all flights.\n",
    "\n",
    "# Merge the flights DataFrame with the airports DataFrame to get lat/lon for destination airports\n",
    "new_year_2015_flights_df = new_year_2015_flights_df.merge(\n",
    "    us_airports_df[['IATA_CODE', 'LATITUDE', 'LONGITUDE']],  # select only necessary columns from airport data\n",
    "    left_on='DESTINATION_AIRPORT',  # match flights' destination airport code...\n",
    "    right_on='IATA_CODE',           # ...with IATA code in airport DataFrame\n",
    "    how='inner'                     # use inner join to retain only matching records\n",
    ")\n",
    "\n",
    "# Drop the now-redundant 'IATA_CODE' column (already represented by 'DESTINATION_AIRPORT')\n",
    "new_year_2015_flights_df.drop(columns=['IATA_CODE'], inplace=True)\n",
    "\n",
    "# Rename the latitude and longitude columns to indicate they belong to the destination airport\n",
    "new_year_2015_flights_df.rename(\n",
    "    columns={\n",
    "        'LATITUDE': 'DESTINATION_AIRPORT_LATITUDE', \n",
    "        'LONGITUDE': 'DESTINATION_AIRPORT_LONGITUDE'\n",
    "    },\n",
    "    inplace=True\n",
    ")\n",
    "\n",
    "# Display the first 5 rows of the updated DataFrame to confirm successful merge and renaming\n",
    "new_year_2015_flights_df.head()"
   ]
  },
  {
   "attachments": {},
   "cell_type": "markdown",
   "metadata": {},
   "source": [
    "Create line flow map"
   ]
  },
  {
   "cell_type": "code",
   "execution_count": null,
   "metadata": {},
   "outputs": [],
   "source": [
    "# Now, we will draw line plots to visualize each flight route.\n",
    "# For each flight, we draw a line between origin and destination airports by passing their longitude and latitude.\n",
    "# We use Scattergeo with mode='lines' (instead of markers) to draw these flight paths.\n",
    "# This loop may take a few minutes depending on the number of flights because it adds one trace per flight.\n",
    "\n",
    "for i in range(len(new_year_2015_flights_df)):\n",
    "    fig.add_trace(\n",
    "        go.Scattergeo(\n",
    "            locationmode='USA-states',  # use USA states as location mode for geographical plotting\n",
    "            lon=[  # list of longitudes for line start (origin) and end (destination)\n",
    "                new_year_2015_flights_df['ORIGIN_AIRPORT_LONGITUDE'][i], \n",
    "                new_year_2015_flights_df['DESTINATION_AIRPORT_LONGITUDE'][i]\n",
    "            ],\n",
    "            lat=[  # list of latitudes for line start (origin) and end (destination)\n",
    "                new_year_2015_flights_df['ORIGIN_AIRPORT_LATITUDE'][i], \n",
    "                new_year_2015_flights_df['DESTINATION_AIRPORT_LATITUDE'][i]\n",
    "            ],\n",
    "            mode='lines',  # draw lines connecting origin and destination points\n",
    "            line=dict(width=1, color='red')  # set line width and color (red)\n",
    "        )\n",
    "    )\n",
    "\n",
    "# Update layout to set the title, disable legend, and set map scope to USA\n",
    "fig.update_layout(\n",
    "    title_text='Flight routes',  # title of the plot\n",
    "    showlegend=False,            # hide legend since it is not needed here\n",
    "    geo=go.layout.Geo(\n",
    "        scope='usa'              # limit map display to the USA region\n",
    "    ),\n",
    ")\n",
    "\n",
    "# Display the final plot with all flight route lines added\n",
    "fig.show()"
   ]
  },
  {
   "attachments": {},
   "cell_type": "markdown",
   "metadata": {},
   "source": [
    "## References\n",
    "\n",
    "Folium. https://python-visualization.github.io/folium/\n",
    "\n",
    "Geospatial Data in Python - Interactive Visualization. https://www.codementor.io/@abdelfettahbesbes/geospatial-data-in-python-interactive-visualization-1oti7dtr2v\n",
    "\n",
    "Interactive Data Visualization with Python. https://github.com/TrainingByPackt/Interactive-Data-Visualization-with-Python \n",
    "\n",
    "Introduction to GeoPandas https://geopandas.org/en/stable/getting_started/introduction.html"
   ]
  }
 ],
 "metadata": {
  "kernelspec": {
   "display_name": "Python 3",
   "language": "python",
   "name": "python3"
  },
  "language_info": {
   "codemirror_mode": {
    "name": "ipython",
    "version": 3
   },
   "file_extension": ".py",
   "mimetype": "text/x-python",
   "name": "python",
   "nbconvert_exporter": "python",
   "pygments_lexer": "ipython3",
   "version": "3.12.0"
  },
  "orig_nbformat": 4
 },
 "nbformat": 4,
 "nbformat_minor": 2
}
