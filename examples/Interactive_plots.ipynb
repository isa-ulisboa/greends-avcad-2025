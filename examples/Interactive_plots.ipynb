{
 "cells": [
  {
   "attachments": {},
   "cell_type": "markdown",
   "metadata": {},
   "source": [
    "# Analysis and Visualization of Complex Agro-Environmental Data\n",
    "---\n",
    "## Interactive visualization in python with `Bokeh`, `Plotly`, `Dash` and `Altair`"
   ]
  },
  {
   "cell_type": "markdown",
   "metadata": {},
   "source": [
    "### 1. Bokeh\n",
    "\n",
    "`Bokeh` is a Python's module for interactive da visualizations. The plots are created by stacking layers on top of each other. The first step is to create an empty figure, to which elements are added in layers. These elements are known as glyphs, which can be anything from lines to bars to circles. Attached to each glyph are properties such as color, size and coordinates."
   ]
  },
  {
   "cell_type": "code",
   "execution_count": null,
   "metadata": {},
   "outputs": [],
   "source": [
    "import numpy as np\n",
    "import pandas as pd\n",
    "import matplotlib.pyplot as plt\n",
    "from bokeh.models import CustomJS, ColumnDataSource, Slider\n",
    "from bokeh.layouts import column\n",
    "from bokeh.plotting import figure, output_file, save, show\n",
    "import plotly.express as px  "
   ]
  },
  {
   "attachments": {},
   "cell_type": "markdown",
   "metadata": {},
   "source": [
    "#### 1.1 Data preparation\n",
    "\n",
    "##### Download 2 datasets: (1) CO2 emissions per person per year per country and (2) GDP per year per country:"
   ]
  },
  {
   "cell_type": "code",
   "execution_count": null,
   "metadata": {},
   "outputs": [],
   "source": [
    "# URL for the CO2 emissions dataset\n",
    "url_co2 = 'https://raw.githubusercontent.com/TrainingByPackt/Interactive-Data-Visualization-with-Python/master/datasets/co2.csv'\n",
    "# Load the CO2 emissions data into a DataFrame\n",
    "co2 = pd.read_csv(url_co2)\n",
    "\n",
    "# URL for the Gapminder dataset\n",
    "url_gm = 'https://raw.githubusercontent.com/TrainingByPackt/Interactive-Data-Visualization-with-Python/master/datasets/gapminder.csv'\n",
    "# Load the Gapminder data into a DataFrame\n",
    "gm = pd.read_csv(url_gm)\n",
    "\n",
    "# Display the first few rows of the CO2 emissions DataFrame to inspect its structure\n",
    "co2.head()\n",
    "\n",
    "# Display the first few rows of the Gapminder DataFrame to inspect its structure\n",
    "gm.head()"
   ]
  },
  {
   "cell_type": "markdown",
   "metadata": {},
   "source": [
    "##### Prepare the dataset"
   ]
  },
  {
   "attachments": {},
   "cell_type": "markdown",
   "metadata": {},
   "source": [
    "Transform the dataset - intersect datasets"
   ]
  },
  {
   "cell_type": "code",
   "execution_count": null,
   "metadata": {},
   "outputs": [],
   "source": [
    "# Extract 'Country' and 'region' columns from gm and drop duplicate rows to get unique country-region pairs\n",
    "df_gm = gm[['Country', 'region']].drop_duplicates()\n",
    "\n",
    "# Merge the CO2 dataset with country-region data from gm on country names (inner join keeps only matching countries)\n",
    "df_w_regions = pd.merge(\n",
    "    co2,               # left DataFrame (CO2 data)\n",
    "    df_gm,             # right DataFrame (country-region pairs)\n",
    "    left_on='country', # merge key in co2 DataFrame\n",
    "    right_on='Country',# merge key in gm DataFrame\n",
    "    how='inner'        # inner join to keep only countries present in both datasets\n",
    ")\n",
    "\n",
    "# Drop the duplicate 'Country' column after merge, since 'country' is retained\n",
    "df_w_regions = df_w_regions.drop('Country', axis='columns')\n",
    "\n",
    "# Display the first few rows of the merged DataFrame to verify merging\n",
    "df_w_regions.head()"
   ]
  },
  {
   "attachments": {},
   "cell_type": "markdown",
   "metadata": {},
   "source": [
    "Transform the dataset - stack by year"
   ]
  },
  {
   "cell_type": "code",
   "execution_count": null,
   "metadata": {},
   "outputs": [],
   "source": [
    "# Reshape the DataFrame from wide format to long format, keeping 'country' and 'region' as identifier variables\n",
    "new_co2 = pd.melt(\n",
    "    df_w_regions,            # DataFrame to reshape\n",
    "    id_vars=['country', 'region']  # columns to keep as identifiers\n",
    ")\n",
    "\n",
    "# Display the reshaped DataFrame (long format with year and CO2 emission values)\n",
    "new_co2\n",
    "\n",
    "# Rename the columns to meaningful names: 'year' for variable, 'co2' for values\n",
    "columns = ['country', 'region', 'year', 'co2'] \n",
    "new_co2.columns = columns\n",
    "\n",
    "# Display the first few rows of the renamed DataFrame\n",
    "new_co2.head()\n",
    "\n",
    "# Filter the data to only include records from 1964 onwards (convert 'year' to integer for comparison)\n",
    "df_co2 = new_co2[new_co2['year'].astype('int64') > 1963]\n",
    "\n",
    "# Sort the filtered DataFrame first by 'country', then by 'year' for proper ordering\n",
    "df_co2 = df_co2.sort_values(by=['country', 'year'])\n",
    "\n",
    "# Convert 'year' column to integer type explicitly for consistency\n",
    "df_co2['year'] = df_co2['year'].astype('int64')\n",
    "\n",
    "# Display the cleaned and sorted CO2 DataFrame\n",
    "df_co2.head()"
   ]
  },
  {
   "attachments": {},
   "cell_type": "markdown",
   "metadata": {},
   "source": [
    "Create similar table for GDP per year per country"
   ]
  },
  {
   "cell_type": "code",
   "execution_count": null,
   "metadata": {},
   "outputs": [],
   "source": [
    "# Extract relevant columns for GDP data from gm DataFrame\n",
    "df_gdp = gm[['Country', 'Year', 'gdp']]\n",
    "\n",
    "# Rename columns to lowercase and consistent names for merging\n",
    "df_gdp.columns = ['country', 'year', 'gdp']\n",
    "\n",
    "# Display the first few rows of the GDP DataFrame\n",
    "df_gdp.head()"
   ]
  },
  {
   "attachments": {},
   "cell_type": "markdown",
   "metadata": {},
   "source": [
    "Merge datasets"
   ]
  },
  {
   "cell_type": "code",
   "execution_count": null,
   "metadata": {},
   "outputs": [],
   "source": [
    "# Merge CO2 emissions data with GDP data on 'country' and 'year' columns, keeping only matching records in CO2 (left join)\n",
    "data = pd.merge(df_co2, df_gdp, on=['country', 'year'], how='left')\n",
    "\n",
    "# Drop rows with missing values after merge to ensure clean dataset for analysis\n",
    "data = data.dropna()\n",
    "\n",
    "# Display the first few rows of the merged dataset with CO2, region, and GDP information\n",
    "data.head()"
   ]
  },
  {
   "attachments": {},
   "cell_type": "markdown",
   "metadata": {},
   "source": [
    "#### 1.2 Running Bokeh\n",
    "\n",
    "Import Bokeh and functions"
   ]
  },
  {
   "cell_type": "code",
   "execution_count": null,
   "metadata": {},
   "outputs": [],
   "source": [
    "from bokeh.io import curdoc, output_notebook\n",
    "from bokeh.plotting import figure, show\n",
    "from bokeh.models import HoverTool, ColumnDataSource, CategoricalColorMapper, Slider\n",
    "from bokeh.palettes import Spectral6\n",
    "from bokeh.layouts import column, row"
   ]
  },
  {
   "attachments": {},
   "cell_type": "markdown",
   "metadata": {},
   "source": [
    "#### Prepare base static plot"
   ]
  },
  {
   "cell_type": "code",
   "execution_count": null,
   "metadata": {},
   "outputs": [],
   "source": [
    "# load BokehJS - enables the plot to be displayed within the notebook\n",
    "output_notebook()\n",
    "\n",
    "# create list of regions - to color the datapoints based on the region\n",
    "regions_list = data.region.unique().tolist()\n",
    "# assign colors to each region\n",
    "color_mapper = CategoricalColorMapper(factors=regions_list, palette=Spectral6)\n",
    "\n",
    "# make a data source for the plot\n",
    "source = ColumnDataSource(data={\n",
    "    'x': data.gdp[data['year'] == 2010],\n",
    "    'y': data.co2[data['year'] == 2010],\n",
    "    'country': data.country[data['year'] == 2010],\n",
    "    'region': data.region[data['year'] == 2010],\n",
    "})\n",
    "\n",
    "# Save the minimum and maximum values of the gdp column: xmin, xmax\n",
    "xmin, xmax = min(data.gdp), max(data.gdp)\n",
    "\n",
    "# Save the minimum and maximum values of the co2 column: ymin, ymax\n",
    "ymin, ymax = min(data.co2), max(data.co2)\n",
    "\n",
    "# Load BokehJS into the current Jupyter notebook environment to enable inline plotting\n",
    "output_notebook()\n",
    "\n",
    "# Extract unique region names from the 'region' column in the data DataFrame to use as categories for coloring\n",
    "regions_list = data.region.unique().tolist()\n",
    "\n",
    "# Create a categorical color mapper that assigns a distinct color to each region using the Spectral6 palette\n",
    "color_mapper = CategoricalColorMapper(\n",
    "    factors=regions_list,   # list of categories (regions)\n",
    "    palette=Spectral6       # predefined color palette with 6 distinct colors\n",
    ")\n",
    "\n",
    "# Prepare a Bokeh ColumnDataSource which holds the data for plotting\n",
    "# Filter the data for the year 2010 and extract GDP, CO2 emissions, country names, and region names\n",
    "source = ColumnDataSource(data={\n",
    "    'x': data.gdp[data['year'] == 2010],       # GDP values for year 2010, used as x-axis data\n",
    "    'y': data.co2[data['year'] == 2010],       # CO2 emission values for year 2010, used as y-axis data\n",
    "    'country': data.country[data['year'] == 2010], # Country names for hover tooltips\n",
    "    'region': data.region[data['year'] == 2010],   # Region names for color coding and legend\n",
    "})\n",
    "\n",
    "# Determine the minimum GDP value from the entire dataset to set the lower bound of the x-axis range\n",
    "xmin, xmax = min(data.gdp), max(data.gdp)\n",
    "\n",
    "# Determine the minimum CO2 emission value from the entire dataset to set the lower bound of the y-axis range\n",
    "ymin, ymax = min(data.co2), max(data.co2)\n",
    "# Saving min and max values for axis scaling is good practice for consistent plot ranges"
   ]
  },
  {
   "cell_type": "markdown",
   "metadata": {},
   "source": [
    "Create the figure"
   ]
  },
  {
   "cell_type": "code",
   "execution_count": null,
   "metadata": {},
   "outputs": [],
   "source": [
    "# Create a new Bokeh figure object named 'plot' to serve as the plotting canvas\n",
    "plot = figure(\n",
    "    title='CO2 Emissions vs GDP in 2010',  # Set the title of the plot\n",
    "    height=600,                           # Set the height of the plot in pixels\n",
    "    width=1000,                          # Set the width of the plot in pixels\n",
    "    x_range=(xmin, xmax),                # Set the range of x-axis using previously computed GDP min and max\n",
    "    y_range=(ymin, ymax),                # Set the range of y-axis using previously computed CO2 min and max\n",
    "    y_axis_type='log'                    # Use a logarithmic scale for the y-axis (CO2 emissions) to better handle skewed data\n",
    ")"
   ]
  },
  {
   "cell_type": "markdown",
   "metadata": {},
   "source": [
    "Add circle glyphs to the plot"
   ]
  },
  {
   "cell_type": "code",
   "execution_count": null,
   "metadata": {},
   "outputs": [],
   "source": [
    "# Add circle glyphs to the Bokeh plot to represent data points\n",
    "plot.circle(\n",
    "    x='x',                          # Use 'x' values from the ColumnDataSource as x-coordinates (GDP values)\n",
    "    y='y',                          # Use 'y' values from the ColumnDataSource as y-coordinates (CO2 emissions)\n",
    "    fill_alpha=0.8,                 # Set the transparency level of the circle fill for better visual layering\n",
    "    source=source,                  # Provide the data source (ColumnDataSource) containing the data to plot\n",
    "    legend_field='region',          # Use the 'region' column to generate legend entries automatically\n",
    "    color=dict(                    # Set color based on the 'region' field using the color_mapper for consistent color coding\n",
    "        field='region',             # Field in the data source to map colors from\n",
    "        transform=color_mapper      # The CategoricalColorMapper object that maps region names to colors\n",
    "    ),\n",
    "    size=7                         # Set the size of each circle glyph in pixels\n",
    ")"
   ]
  },
  {
   "cell_type": "markdown",
   "metadata": {},
   "source": [
    "Produce the interactive plot (zoom in & out)"
   ]
  },
  {
   "cell_type": "code",
   "execution_count": null,
   "metadata": {},
   "outputs": [],
   "source": [
    "# Set the location of the plot legend to the bottom right corner\n",
    "plot.legend.location = 'bottom_right'\n",
    "\n",
    "# Set the label of the x-axis to describe the data it represents (Income Per Person)\n",
    "plot.xaxis.axis_label = 'Income Per Person'\n",
    "\n",
    "# Set the label of the y-axis to describe the data it represents (CO2 Emissions per person)\n",
    "plot.yaxis.axis_label = 'CO2 Emissions (tons per person)'\n",
    "\n",
    "# Display the interactive plot in the notebook or output cell\n",
    "show(plot)"
   ]
  },
  {
   "attachments": {},
   "cell_type": "markdown",
   "metadata": {},
   "source": [
    "#### Adding a hover tool"
   ]
  },
  {
   "cell_type": "code",
   "execution_count": null,
   "metadata": {},
   "outputs": [],
   "source": [
    "# Create a HoverTool - will allow the user to hover above a datapoint to see the name of the country, CO2 emissions nd GDP\n",
    "hover = HoverTool(tooltips=[('Country', '@country'), ('GDP', '@x'), ('CO2 Emission', '@y')])\n",
    "\n",
    "# Add the HoverTool to the plot\n",
    "plot.add_tools(hover)\n",
    "\n",
    "show(plot)\n",
    "\n",
    "# Create a HoverTool object to show additional information when hovering over data points. \n",
    "hover = HoverTool(tooltips=[    # The tooltips parameter defines the content shown in the tooltip\n",
    "    ('Country', '@country'),    # 'Country' will display the value from the 'country' field\n",
    "    ('GDP', '@x'),              # 'GDP' will display the x-coordinate value (income per person),\n",
    "    ('CO2 Emission', '@y')])    # 'CO2 Emission' will display the y-coordinate value (CO2 emissions per person).\n",
    "\n",
    "# Add the created HoverTool to the existing Bokeh plot to enable interactivity.\n",
    "plot.add_tools(hover)\n",
    "\n",
    "# Render and display the interactive plot with the added hover functionality.\n",
    "show(plot)"
   ]
  },
  {
   "attachments": {},
   "cell_type": "markdown",
   "metadata": {},
   "source": [
    "#### Adding a slider to the static plot"
   ]
  },
  {
   "cell_type": "code",
   "execution_count": null,
   "metadata": {},
   "outputs": [],
   "source": [
    "# Get the initial year to display on the plot (minimum year in dataset)\n",
    "initial_year = min(data.year)\n",
    "\n",
    "# Create a ColumnDataSource with data filtered for the initial year\n",
    "source_slide = ColumnDataSource(data={\n",
    "    'x': data.gdp[data['year'] == initial_year],        # GDP values for initial year\n",
    "    'y': data.co2[data['year'] == initial_year],        # CO2 emissions for initial year\n",
    "    'country': data.country[data['year'] == initial_year],  # Country names for initial year\n",
    "    'region': data.region[data['year'] == initial_year],    # Regions for initial year (for color mapping)\n",
    "})\n",
    "\n",
    "# Create a Bokeh figure object with specific title, size, and axis ranges\n",
    "plot = figure(\n",
    "    title='CO2 Emissions vs GDP',            # Title of the plot\n",
    "    height=600, width=1000,                  # Size of the plot in pixels\n",
    "    x_range=(xmin, xmax),                    # X-axis range based on min/max GDP values\n",
    "    y_range=(ymin, ymax),                    # Y-axis range based on min/max CO2 values\n",
    "    y_axis_type='log'                        # Use logarithmic scale for y-axis (CO2 emissions)\n",
    ")\n",
    "\n",
    "# Add circle glyphs to the plot using the source_slide data source\n",
    "plot.scatter(\n",
    "    x='x',                                  # X-coordinate mapped to 'x' (GDP)\n",
    "    y='y',                                  # Y-coordinate mapped to 'y' (CO2)\n",
    "    fill_alpha=0.8,                         # Opacity of markers\n",
    "    source=source_slide,                     # Data source for the glyphs\n",
    "    legend_field='region',                   # Color legend based on region column\n",
    "    color=dict(field='region', transform=color_mapper),  # Color by region using color_mapper\n",
    "    size=7                                  # Size of each circle marker\n",
    ")\n",
    "\n",
    "# Create a slider widget with range from min year to max year, step 1, and initial value = min year\n",
    "slider = Slider(\n",
    "    start=min(data.year),                    # Start year for slider\n",
    "    end=max(data.year),                      # End year for slider\n",
    "    step=1,                                 # Step size (1 year)\n",
    "    value=min(data.year),                    # Initial slider value (starting year)\n",
    "    title='Year'                            # Label for the slider\n",
    ")\n",
    "\n",
    "# Convert the full pandas DataFrame to a dictionary (with lists) for use in JavaScript\n",
    "data_dict = data.to_dict(orient='list')\n",
    "\n",
    "# Define a CustomJS callback for slider interaction\n",
    "callback = CustomJS(\n",
    "    args=dict(source=source_slide, data=data_dict, plot=plot),  # Arguments passed to JS: data source, full data dict, and plot\n",
    "    code=\"\"\"\n",
    "    var data = data;                        // Get full dataset dictionary\n",
    "    var year = cb_obj.value;                // Get current slider value (year)\n",
    "    var new_data = {                       // Create new data dict to hold filtered data for selected year\n",
    "        'x': [],\n",
    "        'y': [],\n",
    "        'country': [],\n",
    "        'region': []\n",
    "    };\n",
    "\n",
    "    // Loop through all entries in the dataset\n",
    "    for (var i = 0; i < data.year.length; i++) {\n",
    "        // If data year matches slider year, add corresponding data points to new_data\n",
    "        if (data.year[i] == year) {\n",
    "            new_data['x'].push(data.gdp[i]);\n",
    "            new_data['y'].push(data.co2[i]);\n",
    "            new_data['country'].push(data.country[i]);\n",
    "            new_data['region'].push(data.region[i]);\n",
    "        }\n",
    "    }\n",
    "\n",
    "    // Update the data source with the new filtered data\n",
    "    source.data = new_data;\n",
    "    source.change.emit();                  // Trigger change event so plot updates\n",
    "\n",
    "    // Update the plot title to reflect the currently selected year\n",
    "    plot.title.text = 'CO2 Emissions vs GDP in ' + year;\n",
    "\"\"\")\n",
    "\n",
    "# Link the slider's 'value' change event to the CustomJS callback\n",
    "slider.js_on_change('value', callback)\n",
    "\n",
    "# Arrange the slider and plot vertically in a layout\n",
    "layout = column(slider, plot)\n",
    "\n",
    "# Display the interactive layout in the output (Jupyter notebook or Bokeh server)\n",
    "show(layout)\n"
   ]
  },
  {
   "attachments": {},
   "cell_type": "markdown",
   "metadata": {},
   "source": [
    "#### Creating a standalone HTML file"
   ]
  },
  {
   "cell_type": "code",
   "execution_count": null,
   "metadata": {},
   "outputs": [],
   "source": [
    "# Specify that the output will be saved as a static HTML file with a custom filename and title\n",
    "output_file(filename=\"custom_filename.html\", title=\"Static HTML file\")\n",
    "\n",
    "# Save the current Bokeh plot object to an HTML file named \"bokeh_plot.html\"\n",
    "save(plot, \"bokeh_plot.html\")  # Saves the plot as a standalone HTML file\n",
    "\n",
    "# Open the plot in the default web browser for immediate viewing\n",
    "show(plot)  # Displays the plot interactively in a new browser tab/window"
   ]
  },
  {
   "attachments": {},
   "cell_type": "markdown",
   "metadata": {},
   "source": [
    "#### Slider example from https://www.geeksforgeeks.org/add-interactive-slider-to-bokeh-plots/"
   ]
  },
  {
   "cell_type": "code",
   "execution_count": null,
   "metadata": {},
   "outputs": [],
   "source": [
    "# Generate 500 evenly spaced points between 0 and 10 for the x-axis\n",
    "x2 = np.linspace(0, 10, 500)\n",
    "\n",
    "# Compute sine values for all x2 points (initial y values)\n",
    "y2 = np.sin(x2)\n",
    "\n",
    "# Create a ColumnDataSource to hold x and y data for Bokeh plotting and linking to widgets\n",
    "source2 = ColumnDataSource(data=dict(x=x2, y=y2))\n",
    "\n",
    "# Create a new plot figure object\n",
    "plot = figure()\n",
    "\n",
    "# Draw a line plot on the figure, binding to 'x' and 'y' columns of the ColumnDataSource\n",
    "plot.line('x', 'y', source=source2, line_width=3, line_alpha=0.5)\n",
    "\n",
    "# Create a slider widget for the frequency value, with start=0, end=6, initial value=2, step=0.2\n",
    "slider2 = Slider(start=0, end=6, value=2,\n",
    "                step=0.2, title='Number of points')\n",
    "\n",
    "# Define a JavaScript callback function to update y-values based on slider frequency value\n",
    "callback = CustomJS(args=dict(source=source2, val=slider2),\n",
    "                    code=\"\"\"\n",
    "    const data = source.data;              // Reference to data in ColumnDataSource\n",
    "    const freq = val.value;                // Get current slider value (frequency)\n",
    "    const x = data['x'];                   // Get x data array\n",
    "    const y = data['y'];                   // Get y data array to modify\n",
    "    \n",
    "    // Update each y value to sin(freq * x[i]) for new frequency\n",
    "    for (var i = 0; i < x.length; i++) {\n",
    "        y[i] = Math.sin(freq*x[i]);\n",
    "    }\n",
    "    \n",
    "    source.change.emit();                  // Trigger update event so plot refreshes\n",
    "\"\"\")\n",
    "\n",
    "# Link the slider's 'value' property to the callback for interactive updates\n",
    "slider2.js_on_change('value', callback)\n",
    "\n",
    "# Arrange slider and plot vertically in a column layout\n",
    "layout2 = column(slider2, plot)\n",
    "\n",
    "# Specify output to an HTML file named 'exam.html'\n",
    "output_file('exam.html')\n",
    "\n",
    "# Display the layout (slider + plot) in the browser\n",
    "show(layout2)"
   ]
  },
  {
   "attachments": {},
   "cell_type": "markdown",
   "metadata": {},
   "source": [
    "### 2. Plotly\n",
    "\n",
    "`plotly` is a very popular Python module used to create interactive data visualizations. It is a JSON-based plotting tool, and so every plot is defined by 2 JSON objects - data and layout. \n",
    "\n",
    "A simplified and more user friendly version of `plotly` is `plotly express` which is provides a high-level wrapper around the base `plotly code, resulting in a minimized syntax abd commands."
   ]
  },
  {
   "cell_type": "markdown",
   "metadata": {},
   "source": [
    "- run only if having problems with plotly"
   ]
  },
  {
   "cell_type": "code",
   "execution_count": null,
   "metadata": {},
   "outputs": [],
   "source": [
    "# Import the plotly.io module to configure plot rendering options\n",
    "import plotly.io as pio\n",
    "\n",
    "# Set the default renderer to 'vscode' so plots should display inside VSCode's output pane or interactive window\n",
    "pio.renderers.default = 'vscode'"
   ]
  },
  {
   "cell_type": "markdown",
   "metadata": {},
   "source": [
    "#### Creating an interactive scatter plots\n",
    "\n",
    "We will use the same dataset created for Bokeh in the previous example."
   ]
  },
  {
   "cell_type": "markdown",
   "metadata": {},
   "source": [
    "Defining range values for axis"
   ]
  },
  {
   "cell_type": "code",
   "execution_count": null,
   "metadata": {},
   "outputs": [],
   "source": [
    "# Save the minimum and maximum values of the gdp column: xmin, xmax\n",
    "xmin, xmax = min(data.gdp), max(data.gdp)\n",
    "# Save the minimum and maximum values of the co2 column: ymin, ymax\n",
    "ymin, ymax = min(data.co2), max(data.co2)"
   ]
  },
  {
   "cell_type": "markdown",
   "metadata": {},
   "source": [
    "Create imdividual interactive scatter plots per region"
   ]
  },
  {
   "cell_type": "code",
   "execution_count": null,
   "metadata": {},
   "outputs": [],
   "source": [
    "# Create an animated scatter plot using Plotly Express with the given dataset 'data'\n",
    "fig = px.scatter(\n",
    "    data,  # DataFrame containing the data to plot\n",
    "    x=\"gdp\",  # Set x-axis to GDP values\n",
    "    y=\"co2\",  # Set y-axis to CO2 emission values\n",
    "    animation_frame=\"year\",  # Animate the plot across different years (one frame per year)\n",
    "    animation_group=\"country\",  # Group animation by country to keep points consistent across frames\n",
    "    color=\"region\",  # Color points by their region category for visual grouping\n",
    "    hover_name=\"country\",  # Show country name when hovering over a point\n",
    "    facet_col=\"region\",  # Create separate subplots (facets) for each region in columns\n",
    "    width=1579,  # Set the total width of the figure in pixels\n",
    "    height=400,  # Set the total height of the figure in pixels\n",
    "    log_x=True,  # Use a logarithmic scale for the x-axis (GDP)\n",
    "    size_max=45,  # Maximum size for the data points (bubbles) in the plot\n",
    "    range_x=[xmin, xmax],  # Set fixed range limits for the x-axis using predefined xmin and xmax\n",
    "    range_y=[ymin, ymax]   # Set fixed range limits for the y-axis using predefined ymin and ymax\n",
    ")\n",
    "\n",
    "# Display the figure in the default renderer (e.g., notebook, browser)\n",
    "fig.show()"
   ]
  },
  {
   "cell_type": "markdown",
   "metadata": {},
   "source": [
    "Create single scatter plot with all data (with marginal boxplot per region)"
   ]
  },
  {
   "cell_type": "code",
   "execution_count": null,
   "metadata": {},
   "outputs": [],
   "source": [
    "# Create an animated scatter plot without facets, aggregating all regions into a single plot\n",
    "fig = px.scatter(\n",
    "    data,  # DataFrame containing the data to plot\n",
    "    x=\"gdp\",  # Set x-axis to GDP values\n",
    "    y=\"co2\",  # Set y-axis to CO2 emission values\n",
    "    animation_frame=\"year\",  # Animate the plot across different years (one frame per year)\n",
    "    color=\"region\",  # Color points by their region for categorical distinction\n",
    "    hover_name=\"country\",  # Show country name when hovering over points\n",
    "    width=1000,  # Set plot width to 1000 pixels\n",
    "    height=600,  # Set plot height to 600 pixels\n",
    "    size_max=45,  # Maximum size for the points (bubbles) in the plot\n",
    "    range_x=[xmin, xmax],  # Fixed range for x-axis, using precomputed min and max GDP\n",
    "    range_y=[ymin, ymax],  # Fixed range for y-axis, using precomputed min and max CO2 values\n",
    "    marginal_y='box',  # Add a boxplot on the right margin for distribution of y (CO2)\n",
    "    marginal_x='rug'   # Add a rug plot on the bottom margin for distribution of x (GDP)\n",
    ")\n",
    "\n",
    "# Display the plot in the default renderer (e.g., notebook or browser)\n",
    "fig.show()"
   ]
  },
  {
   "cell_type": "markdown",
   "metadata": {},
   "source": [
    "Create static scatter plot with year on the xx-axis (marginal boxplot per region)"
   ]
  },
  {
   "cell_type": "code",
   "execution_count": null,
   "metadata": {},
   "outputs": [],
   "source": [
    "# Create a scatter plot with year on the x-axis and CO2 emissions on the y-axis\n",
    "fig = px.scatter(\n",
    "    data,  # DataFrame containing the dataset to visualize\n",
    "    x=\"year\",  # Set x-axis to 'year' column for temporal visualization\n",
    "    y=\"co2\",  # Set y-axis to CO2 emissions values\n",
    "    color=\"region\",  # Color points by 'region' to differentiate geographical areas\n",
    "    hover_name=\"country\",  # Show country name when hovering over each point\n",
    "    width=1000,  # Set the width of the plot to 1000 pixels\n",
    "    height=500,  # Set the height of the plot to 500 pixels\n",
    "    size_max=45,  # Set maximum size for the markers (though size is not mapped here)\n",
    "    marginal_y='box'  # Add a boxplot on the right margin to show distribution of CO2 values\n",
    ")\n",
    "\n",
    "# Render the plot to the output (e.g., notebook or browser)\n",
    "fig.show()"
   ]
  },
  {
   "attachments": {},
   "cell_type": "markdown",
   "metadata": {},
   "source": [
    "#### Visualizing an output of Principal Component Analysis\n",
    "\n",
    "##### Example using the `Penguin` dataset"
   ]
  },
  {
   "cell_type": "code",
   "execution_count": null,
   "metadata": {},
   "outputs": [],
   "source": [
    "import numpy as np\n",
    "import pandas as pd\n",
    "import matplotlib.pyplot as plt\n",
    "import plotly.express as px\n",
    "from sklearn.preprocessing import StandardScaler\n",
    "from sklearn.decomposition import PCA"
   ]
  },
  {
   "cell_type": "markdown",
   "metadata": {},
   "source": [
    "Import amd prepare data"
   ]
  },
  {
   "cell_type": "code",
   "execution_count": null,
   "metadata": {},
   "outputs": [],
   "source": [
    "# import data ('penguin' dataset) from CSV file\n",
    "data = pd.read_csv('penguins_lter.csv')\n",
    "# drop columns from index 14 to 17 (inclusive) to remove unwanted columns\n",
    "data.drop(data.iloc[:, 14:18], axis=1, inplace=True)\n",
    "# drop any rows with missing values to ensure clean dataset\n",
    "data = data.dropna()\n",
    "\n",
    "# rename columns\n",
    "data.rename(columns={'Body Mass (g)': 'body_mass'}, inplace=True)   # rename column 'Body Mass (g)' to 'body_mass' for easier referencing (inplace=True updates the DataFrame directly)\n",
    "data.rename(columns={'Culmen Depth (mm)': 'culmen_depth'}, inplace=True)    # rename column 'Culmen Depth (mm)' to 'culmen_depth' for consistency\n",
    "data.rename(columns={'Culmen Length (mm)': 'culmen_length'}, inplace=True)  # rename column 'Culmen Length (mm)' to 'culmen_length' for consistency\n",
    "data.rename(columns={'Flipper Length (mm)': 'flipper_length'}, inplace=True)    # rename column 'Flipper Length (mm)' to 'flipper_length' for consistency\n",
    "\n",
    "# reduce DataFrame to keep only relevant columns for analysis\n",
    "data = data[[\"body_mass\", \"culmen_depth\", \"culmen_length\", \"flipper_length\", \"Species\"]]\n",
    "\n",
    "# print summary info of the DataFrame (data types, non-null counts)\n",
    "data.info()\n"
   ]
  },
  {
   "cell_type": "markdown",
   "metadata": {},
   "source": [
    "Pairwise scatter plots"
   ]
  },
  {
   "cell_type": "code",
   "execution_count": null,
   "metadata": {},
   "outputs": [],
   "source": [
    "# define the list of features to be used in the scatter matrix plot\n",
    "features = [\"body_mass\", \"culmen_depth\", \"culmen_length\", \"flipper_length\"]\n",
    "\n",
    "# create a scatter matrix plot using Plotly Express\n",
    "fig = px.scatter_matrix(\n",
    "    data,                    # input DataFrame containing the data\n",
    "    dimensions=features,     # specify which columns to plot pairwise\n",
    "    color=\"Species\",         # color points by penguin species\n",
    "    width=1000,              # set plot width in pixels\n",
    "    height=700               # set plot height in pixels\n",
    ")\n",
    "\n",
    "# hide the diagonal plots since they usually show histograms or density plots by default\n",
    "fig.update_traces(diagonal_visible=False)\n",
    "\n",
    "# display the interactive plot in the output (notebook or browser)\n",
    "fig.show()"
   ]
  },
  {
   "cell_type": "markdown",
   "metadata": {},
   "source": [
    "PCA plots"
   ]
  },
  {
   "cell_type": "code",
   "execution_count": null,
   "metadata": {},
   "outputs": [],
   "source": [
    "# initialize PCA object with default parameters\n",
    "pca = PCA()  \n",
    "\n",
    "# apply PCA transformation on the selected features from the data\n",
    "components = pca.fit_transform(data[features])  \n",
    "\n",
    "# create labels for the principal components with explained variance percentages\n",
    "labels = {\n",
    "    str(i): f\"PC {i+1} ({var:.1f}%)\"  # format label for each PC with variance explained\n",
    "    for i, var in enumerate(pca.explained_variance_ratio_ * 100)  # loop over components\n",
    "}\n",
    "\n",
    "# create a scatter matrix plot using the PCA components instead of original features\n",
    "fig = px.scatter_matrix(\n",
    "    components,            # PCA transformed data (numpy array)\n",
    "    labels=labels,         # use the created PC labels for axes\n",
    "    dimensions=range(4),   # plot first 4 principal components\n",
    "    color=data[\"Species\"], # color points by penguin species\n",
    "    width=1000,            # set plot width\n",
    "    height=700             # set plot height\n",
    ")\n",
    "\n",
    "# hide diagonal plots to simplify visualization\n",
    "fig.update_traces(diagonal_visible=False)\n",
    "\n",
    "# display the interactive PCA scatter matrix plot\n",
    "fig.show()"
   ]
  },
  {
   "attachments": {},
   "cell_type": "markdown",
   "metadata": {},
   "source": [
    "##### Example using the `winequality` dataset"
   ]
  },
  {
   "cell_type": "code",
   "execution_count": null,
   "metadata": {},
   "outputs": [],
   "source": [
    "# Load the wine quality dataset from a CSV file\n",
    "df_wine = pd.read_csv('winequality_red.csv')  \n",
    "\n",
    "# Select the first 11 columns which presumably contain the features (excluding the target/quality)\n",
    "df_wine2 = df_wine.iloc[:, 0:11]  \n",
    "\n",
    "# Scale the features using StandardScaler to normalize the data (mean=0, std=1)\n",
    "wine_scaled = StandardScaler().fit_transform(df_wine2)  \n",
    "\n",
    "# Convert the scaled numpy array back to a DataFrame with original column names\n",
    "df_scaled = pd.DataFrame(data=wine_scaled, columns=df_wine2.columns)  \n",
    "\n",
    "# Initialize PCA object\n",
    "pca = PCA()  \n",
    "\n",
    "# Fit PCA on the scaled data and transform it to principal components\n",
    "components = pca.fit_transform(df_scaled)  \n",
    "\n",
    "# Create dictionary of labels with PC number and explained variance percentage\n",
    "labels = {\n",
    "    str(i): f\"PC {i+1} ({var:.1f}%)\"  # Label format: PC1 (xx.x%)\n",
    "    for i, var in enumerate(pca.explained_variance_ratio_ * 100)  # Enumerate variance ratios\n",
    "}\n",
    "\n",
    "# Create a scatter matrix plot of the first 5 principal components\n",
    "fig = px.scatter_matrix(\n",
    "    components,              # PCA transformed data (numpy array)\n",
    "    labels=labels,           # Use descriptive labels for axes\n",
    "    dimensions=range(5),     # Plot first 5 PCs; can be adjusted from 2 to 11\n",
    "    color=df_wine[\"quality\"],# Color points by wine quality (target variable)\n",
    "    width=1000, height=500   # Set plot size for better visibility\n",
    ")\n",
    "\n",
    "# Hide diagonal plots to reduce clutter (no histograms on diagonal)\n",
    "fig.update_traces(diagonal_visible=False)  \n",
    "\n",
    "# Show the interactive scatter matrix plot\n",
    "fig.show()  "
   ]
  },
  {
   "attachments": {},
   "cell_type": "markdown",
   "metadata": {},
   "source": [
    "### 3. Dash\n",
    "\n",
    "Python's `dash` module offers a framework for building interactive data visualization interfaces. `dash` helps to build interactive web applications and dashboards to visualize data without requiring advanced web development knowledge.\n",
    "\n",
    "Bellow you can find a example of a `dash` interactive plot to visualize PCA plots with a user defined number of components. To run the app, copy the code into a new file named pca-visualization.py and type into your terminal the following code:\n",
    "\n",
    "> python pca-visualization.py\n",
    "\n",
    "Then, go to the http link by using 'ctr... + mouse click'.\n",
    "\n",
    "To exit: 'ctr + c'"
   ]
  },
  {
   "cell_type": "markdown",
   "metadata": {},
   "source": [
    "Import modules"
   ]
  },
  {
   "cell_type": "code",
   "execution_count": null,
   "metadata": {},
   "outputs": [],
   "source": [
    "# import Dash, dcc (stands for Dash Core Components - this module includes a Graph component called dcc.Graph, \n",
    "# which is used to render interactive graphs amd dcc.slider to render an interactive slider).\n",
    "# We also import sklearn.decomposition.PCA to run a PCA, the plotly.express library to build the interactive graphs, \n",
    "# and pandas to work with DataFrames.\n",
    "from dash import Dash, html, dcc, callback, Output, Input\n",
    "from sklearn.decomposition import PCA\n",
    "import plotly.express as px\n",
    "import pandas as pd\n",
    "from sklearn.preprocessing import StandardScaler\n",
    "\n",
    "\n"
   ]
  },
  {
   "attachments": {},
   "cell_type": "markdown",
   "metadata": {},
   "source": [
    "#### PCA with `Wine` Dataset"
   ]
  },
  {
   "cell_type": "code",
   "execution_count": null,
   "metadata": {},
   "outputs": [],
   "source": [
    "df_wine = pd.read_csv('winequality_red.csv')  # Load the wine quality dataset from a CSV file\n",
    "\n",
    "# Initialize the app\n",
    "app = Dash(__name__)  # Initialize a Dash app instance. This is the standard constructor for any Dash application.\n",
    "\n",
    "# App layout\n",
    "# The layout defines the structure and components of the app UI\n",
    "app.layout = html.Div([  # Root container for app layout components\n",
    "    html.H1(\"Visualization of PCA's explained variance\", style={'textAlign':'center'}),  # Title centered on the page\n",
    "    dcc.Graph(id=\"pca-visualization-x-graph\"),  # Placeholder for the PCA scatter matrix plot\n",
    "    html.P(\"Number of components:\"),  # Text label above the slider\n",
    "    dcc.Slider(  # Slider widget for selecting number of PCA components\n",
    "        id='pca-visualization-x-slider',  # Unique ID used for callback binding\n",
    "        min=2, max=11, value=2, step=1)  # Slider goes from 2 to 11 components, starts at 2\n",
    "])\n",
    "\n",
    "# Add controls to build the interaction\n",
    "# This section sets up interactivity using Dash callbacks\n",
    "@app.callback(\n",
    "    Output(component_id=\"pca-visualization-x-graph\", component_property=\"figure\"),  # Output is the 'figure' of the Graph\n",
    "    Input(component_id=\"pca-visualization-x-slider\", component_property=\"value\"))  # Input is the 'value' from the Slider\n",
    "\n",
    "def run_and_plot(n_components):  # Callback function that runs every time the slider value changes\n",
    "    df_wine = pd.read_csv('winequality_red.csv')  # Reload dataset inside callback to ensure clean input\n",
    "    df_wine2 = df_wine.iloc[:, 0:11]  # Select only the feature columns (first 11)\n",
    "    wine_scaled = StandardScaler().fit_transform(df_wine2)  # Normalize features for PCA (mean=0, std=1)\n",
    "    df = pd.DataFrame(data=wine_scaled, columns=df_wine2.columns)  # Convert scaled data back to a DataFrame\n",
    "    pca = PCA(n_components=n_components)  # Initialize PCA with the selected number of components\n",
    "    components = pca.fit_transform(df)  # Apply PCA transformation to scaled data\n",
    "    var = pca.explained_variance_ratio_.sum() * 100  # Calculate total explained variance in percentage\n",
    "    labels = {str(i): f\"PC {i+1}\" for i in range(n_components)}  # Generate axis labels for each component\n",
    "    labels['color'] = 'quality'  # Add label for the color legend (target variable)\n",
    "    \n",
    "    fig = px.scatter_matrix(  # Create scatter matrix plot using Plotly Express\n",
    "        components,  # Use PCA-transformed data\n",
    "        color=df_wine['quality'],  # Color points by wine quality score\n",
    "        dimensions=range(n_components),  # Plot specified number of components\n",
    "        labels=labels,  # Set axis labels and color legend\n",
    "        title=f'Total Explained Variance: {var:.2f}%',  # Set plot title showing total variance explained\n",
    "        width=1000, height=400  # Set plot size\n",
    "    )\n",
    "    \n",
    "    fig.update_traces(diagonal_visible=False)  # Hide diagonal histograms to reduce clutter\n",
    "    return fig  # Return the figure to be rendered in the Graph component\n",
    "\n",
    "# Run the app - these lines are standard in all Dash apps\n",
    "if __name__ == \"__main__\":  # Only run the app if this script is executed directly\n",
    "    app.run(debug=True)  # Launch the Dash app in debug mode"
   ]
  },
  {
   "attachments": {},
   "cell_type": "markdown",
   "metadata": {},
   "source": [
    "#### Variation of human population per country 1959-2007"
   ]
  },
  {
   "cell_type": "code",
   "execution_count": null,
   "metadata": {},
   "outputs": [],
   "source": [
    "# Load the Gapminder dataset from a remote CSV file into a DataFrame\n",
    "df = pd.read_csv('https://raw.githubusercontent.com/plotly/datasets/master/gapminder_unfiltered.csv')  \n",
    "\n",
    "# Initialize the Dash app using the standard constructor\n",
    "app = Dash(__name__)  \n",
    "\n",
    "app.layout = html.Div([  # Define the layout of the app as a Div container holding all UI components\n",
    "    html.H1(children='Human Population Size', style={'textAlign':'center'}),  # Add a centered header title\n",
    "    dcc.Dropdown(df.country.unique(), 'Portugal', id='dropdown-selection'),  # Create a dropdown menu with unique countries; default selection is 'Portugal'\n",
    "    dcc.Graph(id='graph-content')  # Placeholder for the graph, which will update based on dropdown selection\n",
    "])\n",
    "\n",
    "# This section sets up interactivity using Dash callbacks\n",
    "@callback(  # Define a callback function to update the graph dynamically when dropdown selection changes\n",
    "    Output('graph-content', 'figure'),  # The output of the callback: the figure of the Graph component\n",
    "    Input('dropdown-selection', 'value')  # The input to the callback: the selected country value from the dropdown\n",
    ")\n",
    "def update_graph(value):  # Callback function that gets triggered when dropdown selection changes\n",
    "    dff = df[df.country==value]  # Filter the dataset to only include data for the selected country\n",
    "    return px.line(dff, x='year', y='pop')  # Return a Plotly line chart showing population over years\n",
    "\n",
    "# Run the app - these lines are standard in all Dash apps\n",
    "if __name__ == '__main__':  # Check if the script is being run directly (not imported as a module)\n",
    "    app.run(debug=True)  # Run the Dash app with debug mode enabled to help with development"
   ]
  },
  {
   "attachments": {},
   "cell_type": "markdown",
   "metadata": {},
   "source": [
    "### 4. Altair\n",
    "\n",
    "`Altair` is a module designed specially to generating interactive plots. This module has some specific advantages over more multi-specific purpose libraries such as `plotly`, as ilustrated in the following examples.\n",
    "\n",
    "We will use the Happy Planet Index (HPI) http://happyplanetindex.org/ dataset to ilustrate some potentialities of `altair`to generate scatter and bar plots with a variety of interactive elements. The dataset shows *where people are using ecological resources more efficiently to live long, happy lives*.\n",
    "\n",
    "Import the necessary modules or functions:"
   ]
  },
  {
   "cell_type": "code",
   "execution_count": null,
   "metadata": {},
   "outputs": [],
   "source": [
    "import seaborn as sns\n",
    "import matplotlib.pyplot as plt\n",
    "import pandas as pd\n",
    "import altair as alt"
   ]
  },
  {
   "attachments": {},
   "cell_type": "markdown",
   "metadata": {},
   "source": [
    "Download and check the dataset. Each line (datapoint) will correspond to a country."
   ]
  },
  {
   "cell_type": "code",
   "execution_count": null,
   "metadata": {},
   "outputs": [],
   "source": [
    "# Define the URL for downloading the HPI (Happy Planet Index) dataset from a GitHub repository\n",
    "hpi_url = \"https://raw.githubusercontent.com/TrainingByPackt/Interactive-Data-Visualization-with-Python/master/datasets/hpi_data_countries.tsv\"\n",
    "\n",
    "# Read the dataset from the provided URL into a Pandas DataFrame, specifying tab ('\\t') as the delimiter since it's a TSV file\n",
    "hpi_df = pd.read_csv(hpi_url, sep='\\t')\n",
    "\n",
    "# Display the first 5 rows of the dataset to get a quick overview of its structure and contents\n",
    "hpi_df.head()"
   ]
  },
  {
   "attachments": {},
   "cell_type": "markdown",
   "metadata": {},
   "source": [
    "Plot a static scatter plot with `matplotlib`"
   ]
  },
  {
   "cell_type": "code",
   "execution_count": null,
   "metadata": {},
   "outputs": [],
   "source": [
    "# Create a new figure object using Matplotlib to hold the plot\n",
    "fig = plt.figure()  \n",
    "\n",
    "ax = fig.add_subplot(111)  # Add a subplot to the figure; 111 means 1 row, 1 column, 1st subplot (full plot area)\n",
    "\n",
    "# Create a scatter plot using Seaborn and assign it to the 'ax' object\n",
    "ax = sns.scatterplot(  \n",
    "    x='Wellbeing (0-10)',  # Set the x-axis to the 'Wellbeing (0-10)' column from the dataset\n",
    "    y='Happy Planet Index',  # Set the y-axis to the 'Happy Planet Index' column from the dataset\n",
    "    hue='Region',  # Color the points by 'Region' to show categorical grouping\n",
    "    data=hpi_df  # Specify the dataset to use, which is the Happy Planet Index DataFrame\n",
    ")\n",
    "\n",
    "# Render the plot and display it in the output\n",
    "plt.show()"
   ]
  },
  {
   "attachments": {},
   "cell_type": "markdown",
   "metadata": {},
   "source": [
    "Add `zooming`"
   ]
  },
  {
   "cell_type": "code",
   "execution_count": null,
   "metadata": {},
   "outputs": [],
   "source": [
    "# Create an Altair chart from the hpi_df DataFrame using filled circle markers\n",
    "alt.Chart(hpi_df).mark_circle().encode(  \n",
    "    x='Wellbeing (0-10):Q',              # Set the x-axis to the 'Wellbeing (0-10)' column; ':Q' specifies it's a quantitative variable\n",
    "    y='Happy Planet Index:Q',            # Set the y-axis to the 'Happy Planet Index' column; ':Q' indicates quantitative data\n",
    "    color='Region:N',                    # Use the 'Region' column to color the points; ':N' indicates a nominal (categorical) variable\n",
    ").interactive()                          # Enable interactive features such as zooming and panning on the plot"
   ]
  },
  {
   "attachments": {},
   "cell_type": "markdown",
   "metadata": {},
   "source": [
    "Add `hover`"
   ]
  },
  {
   "cell_type": "code",
   "execution_count": null,
   "metadata": {},
   "outputs": [],
   "source": [
    "# Create a scatter plot from the hpi_df DataFrame using filled circle markers\n",
    "alt.Chart(hpi_df).mark_circle().encode(   \n",
    "    x='Wellbeing (0-10):Q',               # Set the x-axis to represent quantitative 'Wellbeing (0-10)' values\n",
    "    y='Happy Planet Index:Q',             # Set the y-axis to represent quantitative 'Happy Planet Index' values\n",
    "    color='Region:N',                     # Color the points based on the 'Region' column, which is a nominal (categorical) variable\n",
    "    tooltip=[                             # Show a tooltip with the following fields when hovering over a point\n",
    "        'Country',                        # Country name for the hovered point\n",
    "        'Region',                         # Region of the country\n",
    "        'Wellbeing (0-10)',               # Wellbeing score (0 to 10 scale)\n",
    "        'Happy Planet Index',             # The country's Happy Planet Index score\n",
    "        'Life Expectancy (years)',        # Life expectancy in years\n",
    "    ]\n",
    ")"
   ]
  },
  {
   "attachments": {},
   "cell_type": "markdown",
   "metadata": {},
   "source": [
    "`Hover` and `zooming`"
   ]
  },
  {
   "cell_type": "code",
   "execution_count": null,
   "metadata": {},
   "outputs": [],
   "source": [
    "# Create a scatter plot using Altair with circle markers from the hpi_df DataFrame\n",
    "alt.Chart(hpi_df).mark_circle().encode(  \n",
    "    x='Wellbeing (0-10):Q',              # Set the x-axis to 'Wellbeing (0-10)', a quantitative (Q) variable\n",
    "    y='Happy Planet Index:Q',            # Set the y-axis to 'Happy Planet Index', also quantitative\n",
    "    color='Region:N',                    # Use color to distinguish categories in 'Region', a nominal (N) variable\n",
    "    tooltip=[                            # Define the fields that will be shown when hovering over a point\n",
    "        'Country',                       # Show the country's name\n",
    "        'Region',                        # Show the region the country belongs to\n",
    "        'Wellbeing (0-10)',              # Show the wellbeing score (scale 0 to 10)\n",
    "        'Happy Planet Index',            # Show the country's Happy Planet Index score\n",
    "        'Life Expectancy (years)',       # Show life expectancy in years\n",
    "    ]\n",
    ").interactive()                          # Enable zooming and panning with the mouse (e.g., scroll to zoom)\n"
   ]
  },
  {
   "attachments": {},
   "cell_type": "markdown",
   "metadata": {},
   "source": [
    "`Select` and `highlight` functionality on a scatter plot"
   ]
  },
  {
   "cell_type": "code",
   "execution_count": null,
   "metadata": {},
   "outputs": [],
   "source": [
    "# define the selected_area variable to store the user's brushed selection (click-and-drag)\n",
    "selected_area = alt.selection_interval()  \n",
    "\n",
    "# create a scatter plot using Altair with circle marks based on the hpi_df dataset\n",
    "alt.Chart(hpi_df).mark_circle().encode(  \n",
    "    x='Wellbeing (0-10):Q',              # encode 'Wellbeing (0-10)' as a quantitative value on the x-axis\n",
    "    y='Happy Planet Index:Q',            # encode 'Happy Planet Index' as a quantitative value on the y-axis\n",
    "    color=alt.condition(                 # conditionally encode color based on the selected area\n",
    "        selected_area,                  # if a point is within the selected area...\n",
    "        'Region:N',                     # ...use its actual 'Region' value (colored by region)\n",
    "        alt.value('lightgray')          # otherwise, color it light gray (muted)\n",
    "    ), \n",
    "    tooltip=[                            # define the tooltips to display on hover\n",
    "        'Country',                      # show country name\n",
    "        'Region',                       # show region name\n",
    "        'Wellbeing (0-10)',             # show wellbeing score\n",
    "        'Happy Planet Index',           # show Happy Planet Index value\n",
    "        'Life Expectancy (years)',      # show life expectancy\n",
    "    ]\n",
    ").add_params(selected_area)             # add the selected_area parameter to enable interactive brushing on the chart"
   ]
  },
  {
   "attachments": {},
   "cell_type": "markdown",
   "metadata": {},
   "source": [
    "Add hover, tooltip, select and highlight across multiple charts"
   ]
  },
  {
   "cell_type": "code",
   "execution_count": null,
   "metadata": {},
   "outputs": [],
   "source": [
    "# define an interval selection for brushing over the chart\n",
    "selected_area = alt.selection_interval()  \n",
    "\n",
    "# create a base scatter plot with circle marks\n",
    "chart = alt.Chart(hpi_df).mark_circle().encode(  \n",
    "    y='Happy Planet Index',                      # encode y-axis as 'Happy Planet Index' (quantitative implied)\n",
    "    color=alt.condition(                         # conditionally color points based on selection\n",
    "        selected_area,                           # if point is within selected area...\n",
    "        'Region:N',                             # color by 'Region' (nominal)\n",
    "        alt.value('lightgray')                   # else color the point light gray\n",
    "    ),\n",
    "    tooltip=[                                   # add tooltip with relevant info on hover\n",
    "        'Country',                      # show country name\n",
    "        'Region',                       # show region name\n",
    "        'Wellbeing (0-10)',             # show wellbeing score\n",
    "        'Happy Planet Index',           # show Happy Planet Index value\n",
    "        'Life Expectancy (years)',      # show life expectancy \n",
    "    ]\n",
    ").add_params(selected_area)                     # attach the selection interval to this chart for interactivity\n",
    "\n",
    "chart1 = chart.encode(x='Wellbeing (0-10):Q')  # create first chart variant with x-axis = 'Wellbeing (0-10)' quantitative\n",
    "chart2 = chart.encode(x='Life Expectancy (years):Q')  # create second chart variant with x-axis = 'Life Expectancy (years)' quantitative\n",
    "chart1 | chart2  # horizontally concatenate chart1 and chart2 to display side by side"
   ]
  },
  {
   "attachments": {},
   "cell_type": "markdown",
   "metadata": {},
   "source": [
    "Selection based on values of a feature using a `dropdown menu`"
   ]
  },
  {
   "cell_type": "code",
   "execution_count": null,
   "metadata": {},
   "outputs": [],
   "source": [
    "# create a dropdown selection bound to unique 'Region' values\n",
    "input_dropdown = alt.binding_select(options=list(set(hpi_df.Region)))  \n",
    "\n",
    "# create a point selection bound to the dropdown, selecting by 'Region'\n",
    "selected_points = alt.selection_point(fields=['Region'], bind=input_dropdown, name='Select')  \n",
    "\n",
    "# conditionally color points based on selection\n",
    "color = alt.condition(  \n",
    "    selected_points,      # if point's 'Region' matches selection...\n",
    "    alt.Color('Region:N'), # color by 'Region' (nominal)\n",
    "    alt.value('lightgray') # else color in light gray\n",
    ")\n",
    "\n",
    "# create scatter plot with circle marks\n",
    "alt.Chart(hpi_df).mark_circle().encode(  \n",
    "    x='Wellbeing (0-10):Q',              # encode x-axis as quantitative 'Wellbeing (0-10)'\n",
    "    y='Happy Planet Index:Q',            # encode y-axis as quantitative 'Happy Planet Index'\n",
    "    color=color,                        # apply the conditional color encoding defined above\n",
    "    tooltip='Region:N'                  # show 'Region' on tooltip\n",
    ").add_params(selected_points)           # add the dropdown point selection to the chart for interactivity"
   ]
  },
  {
   "attachments": {},
   "cell_type": "markdown",
   "metadata": {},
   "source": [
    "Barplot with line representing the mean of the selected bars"
   ]
  },
  {
   "cell_type": "code",
   "execution_count": null,
   "metadata": {},
   "outputs": [],
   "source": [
    "# define an interval selection limited to the x-axis (Region) for bar selection\n",
    "selected_bars = alt.selection_interval(encodings=['x'])  \n",
    "\n",
    "# create bar chart with bars representing mean values per Region\n",
    "bars = (\n",
    "    alt.Chart(hpi_df).mark_bar().encode(  \n",
    "        x='Region:N',                     # encode x-axis with nominal 'Region' categories\n",
    "        y='mean(Happy Planet Index):Q',  # encode y-axis with mean of quantitative 'Happy Planet Index'\n",
    "        opacity=alt.condition(            # conditionally set opacity based on selection\n",
    "            selected_bars,                # if bar is within selected interval on x-axis...\n",
    "            alt.OpacityValue(1),          # fully opaque\n",
    "            alt.OpacityValue(0.7)         # else slightly transparent\n",
    "        ),\n",
    "    )\n",
    "    .properties(width=400)                 # set width of the bar chart to 400 pixels\n",
    "    .add_params(selected_bars)             # add the interval selection interaction to this chart\n",
    ")\n",
    "\n",
    "# create a horizontal rule (line) with firebrick color\n",
    "line = (\n",
    "    alt.Chart(hpi_df).mark_rule(color='firebrick').encode(  \n",
    "        y='mean(Happy Planet Index):Q',                      # encode y-position as mean 'Happy Planet Index'\n",
    "        size=alt.SizeValue(3)                                # set thickness of the line to 3 pixels\n",
    "    )\n",
    "    .transform_filter(selected_bars)                         # filter the data to only selected bars (regions)\n",
    ")\n",
    "\n",
    "# overlay the bar chart and line chart to show mean line only for selected regions\n",
    "bars + line  \n"
   ]
  },
  {
   "attachments": {},
   "cell_type": "markdown",
   "metadata": {},
   "source": [
    "Heatplot with interactive zooming"
   ]
  },
  {
   "cell_type": "code",
   "execution_count": null,
   "metadata": {},
   "outputs": [],
   "source": [
    "# create a chart using rectangle marks (heatmap-like bins)\n",
    "alt.Chart(hpi_df).mark_rect().encode(                         \n",
    "    alt.X('Happy Planet Index:Q', bin=True),             # bin the quantitative 'Happy Planet Index' values on the x-axis\n",
    "    alt.Y('Wellbeing (0-10):Q', bin=True),               # bin the quantitative 'Wellbeing (0-10)' values on the y-axis\n",
    "    alt.Color('count()',                                 # color the rectangles based on the count of data points in each bin\n",
    "        scale=alt.Scale(scheme='greenblue'),             # use a 'greenblue' color scheme for the heatmap coloring\n",
    "        legend=alt.Legend(title='Total Countries')       # add a legend titled 'Total Countries' for the color scale\n",
    "    )\n",
    ").interactive()                                          # make the chart interactive (zoom and pan enabled)"
   ]
  },
  {
   "attachments": {},
   "cell_type": "markdown",
   "metadata": {},
   "source": [
    "Dinamically linking a bar plot and a heatmap.\n",
    "\n",
    "Static plots"
   ]
  },
  {
   "cell_type": "code",
   "execution_count": null,
   "metadata": {},
   "outputs": [],
   "source": [
    "# Merge the code to place the bar chart and heatmap side by side\n",
    "# create a bar chart with bars representing counts per region\n",
    "bars = alt.Chart(hpi_df).mark_bar().encode(                    \n",
    "    x='Region:N',                                              # use 'Region' as nominal categorical x-axis\n",
    "    y='count():Q',                                             # y-axis shows count of data points per region (quantitative)\n",
    ").properties(width=350)                                        # set width of the bar chart to 350 pixels\n",
    "\n",
    "# create a heatmap using rectangle marks\n",
    "heatmap = alt.Chart(hpi_df).mark_rect().encode(              \n",
    "    alt.X('Wellbeing (0-10):Q', bin=True),                     # bin 'Wellbeing (0-10)' quantitative variable on x-axis\n",
    "    alt.Y('Life Expectancy (years):Q', bin=True),              # bin 'Life Expectancy (years)' quantitative variable on y-axis\n",
    "    alt.Color('count()',                                        # color rectangles based on the count of records in each bin\n",
    "        scale=alt.Scale(scheme='greenblue'),                   # apply 'greenblue' color scheme\n",
    "        legend=alt.Legend(title='Total Countries')              # legend with title for count coloring\n",
    "    )\n",
    ").properties(width=350)                                        # set width of heatmap to 350 pixels\n",
    "\n",
    "# concatenate the bar chart and heatmap horizontally (side by side)\n",
    "bars | heatmap                                                "
   ]
  },
  {
   "attachments": {},
   "cell_type": "markdown",
   "metadata": {},
   "source": [
    "Dynamic plots"
   ]
  },
  {
   "cell_type": "markdown",
   "metadata": {},
   "source": [
    "Bars + Heatplot"
   ]
  },
  {
   "cell_type": "code",
   "execution_count": null,
   "metadata": {},
   "outputs": [],
   "source": [
    "## Heatplot with selection by Region on x-axis\n",
    "selected_region = alt.selection(type=\"single\", encodings=['x'])\n",
    "\n",
    "# create heatmap using rectangles\n",
    "heatmap = alt.Chart(hpi_df).mark_rect().encode(                   \n",
    "    alt.X('Wellbeing (0-10):Q', bin=True),                         # bin and encode 'Wellbeing (0-10)' on x-axis as quantitative\n",
    "    alt.Y('Life Expectancy (years):Q', bin=True),                  # bin and encode 'Life Expectancy (years)' on y-axis as quantitative\n",
    "    alt.Color('count()',                                            # encode color based on count of points in each bin\n",
    "        scale=alt.Scale(scheme='greenblue'),                       # apply green-blue color scheme\n",
    "        legend=alt.Legend(title='Total Countries')                 # add legend with descriptive title\n",
    "    )\n",
    ").properties(width=350)                                            # set the chart width to 350 pixels\n",
    "\n",
    "## Place circles in the heatplot denoting the number of samples \n",
    "# add points (circles) on top of heatmap to show sample counts\n",
    "circles = heatmap.mark_point().encode(                 \n",
    "    alt.ColorValue('grey'),                             # set all circle colors to grey (constant value)\n",
    "    alt.Size('count()',                                 # size of circles based on the count of records in each bin\n",
    "        legend=alt.Legend(title='Records in Selection') # add legend describing circle sizes as records count\n",
    "    )\n",
    ").transform_filter(selected_region)                     # filter points to show only those within the selected region interval\n",
    "\n",
    "## Place the bars\n",
    "# create a bar chart from hpi_df data\n",
    "bars = alt.Chart(hpi_df).mark_bar().encode(                  \n",
    "    x='Region:N',                                            # x-axis encodes the 'Region' as nominal (categorical) data\n",
    "    y='count()',                                              # y-axis shows count of records per region\n",
    "    color=alt.condition(selected_region,                      # color depends on whether bar is in the selected region interval\n",
    "                        alt.ColorValue(\"steelblue\"),          # if selected, bar is colored steelblue\n",
    "                        alt.ColorValue(\"grey\"))               # otherwise, bar is colored grey\n",
    ").properties(\n",
    "    width=350                                                # set width of the bar chart to 350 pixels\n",
    ").add_params(selected_region)                                # add interactive selection interval control to the chart\n",
    "\n",
    "# display bar chart side-by-side with heatmap and circles layered together\n",
    "bars | heatmap + circles                                     \n"
   ]
  },
  {
   "attachments": {},
   "cell_type": "markdown",
   "metadata": {},
   "source": [
    "## References\n",
    "\n",
    "Dash Python User Guide. https://dash.plotly.com/\n",
    "\n",
    "Dash in 20 Minutes. https://dash.plotly.com/tutorial\n",
    "\n",
    "Interactive Data Visualization with Python. https://github.com/TrainingByPackt/Interactive-Data-Visualization-with-Python \n",
    "\n",
    "PCA Visualization in Python. https://plotly.com/python/pca-visualization/\n",
    "\n",
    "Plotly Express in Python. https://plotly.com/python/plotly-express/\n",
    "\n",
    "Plotly Open Source Graphing Library for Python. https://plotly.com/python/\n",
    "\n",
    "3 Cool Features of Python Altair. https://towardsdatascience.com/3-cool-features-of-python-altair-deb3f432cc11"
   ]
  }
 ],
 "metadata": {
  "kernelspec": {
   "display_name": "Python 3",
   "language": "python",
   "name": "python3"
  },
  "language_info": {
   "codemirror_mode": {
    "name": "ipython",
    "version": 3
   },
   "file_extension": ".py",
   "mimetype": "text/x-python",
   "name": "python",
   "nbconvert_exporter": "python",
   "pygments_lexer": "ipython3",
   "version": "3.12.0"
  },
  "orig_nbformat": 4
 },
 "nbformat": 4,
 "nbformat_minor": 2
}
